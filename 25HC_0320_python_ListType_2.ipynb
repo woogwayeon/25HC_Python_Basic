{
  "nbformat": 4,
  "nbformat_minor": 0,
  "metadata": {
    "colab": {
      "provenance": [],
      "toc_visible": true,
      "authorship_tag": "ABX9TyPuttAIU4ilgWt/MmWI0p7w",
      "include_colab_link": true
    },
    "kernelspec": {
      "name": "python3",
      "display_name": "Python 3"
    },
    "language_info": {
      "name": "python"
    }
  },
  "cells": [
    {
      "cell_type": "markdown",
      "metadata": {
        "id": "view-in-github",
        "colab_type": "text"
      },
      "source": [
        "<a href=\"https://colab.research.google.com/github/woogwayeon/25HC_Python_Basic/blob/master/25HC_0320_python_ListType_2.ipynb\" target=\"_parent\"><img src=\"https://colab.research.google.com/assets/colab-badge.svg\" alt=\"Open In Colab\"/></a>"
      ]
    },
    {
      "cell_type": "markdown",
      "source": [
        "# List 자료형 - 2\n",
        "  \n",
        "  임의로 순서가 필요한 경우가 있는데, 순서를 지정해줄 수 있다\n",
        "\n",
        "  sort를 기본으로 쓰면 오름차순, 역으로 쓰면 reverse!"
      ],
      "metadata": {
        "id": "--v6G4oT3yKZ"
      }
    },
    {
      "cell_type": "code",
      "execution_count": null,
      "metadata": {
        "colab": {
          "base_uri": "https://localhost:8080/"
        },
        "id": "SzsNTWQO2_ra",
        "outputId": "b1fc809c-0422-425b-9eca-ee28c0697a05"
      },
      "outputs": [
        {
          "output_type": "stream",
          "name": "stdout",
          "text": [
            "None\n"
          ]
        }
      ],
      "source": [
        "a = [1,2,3]"
      ]
    },
    {
      "cell_type": "code",
      "source": [
        "a.sort(reverse=True)"
      ],
      "metadata": {
        "id": "gx7aDaj14im-"
      },
      "execution_count": null,
      "outputs": []
    },
    {
      "cell_type": "code",
      "source": [
        "a = ['a', 'b', 'c']\n",
        "print(a.index('a'))"
      ],
      "metadata": {
        "colab": {
          "base_uri": "https://localhost:8080/"
        },
        "id": "vFgV8K1Y47nK",
        "outputId": "4a8354ef-9045-45b0-ecd5-2eb91ea9276b"
      },
      "execution_count": null,
      "outputs": [
        {
          "output_type": "stream",
          "name": "stdout",
          "text": [
            "0\n"
          ]
        }
      ]
    },
    {
      "cell_type": "code",
      "source": [
        "a = ['a', 'a', 'c']\n",
        "print(a.index('a')) # 처음 찾으면 중지함"
      ],
      "metadata": {
        "colab": {
          "base_uri": "https://localhost:8080/"
        },
        "id": "T-ugB7as5UYO",
        "outputId": "e541443f-fd1b-489a-b001-aa72cd4a3f0b"
      },
      "execution_count": null,
      "outputs": [
        {
          "output_type": "stream",
          "name": "stdout",
          "text": [
            "0\n"
          ]
        }
      ]
    },
    {
      "cell_type": "code",
      "source": [
        "#insert\n",
        "a.insert(1, 'b')\n",
        "print(a)"
      ],
      "metadata": {
        "colab": {
          "base_uri": "https://localhost:8080/"
        },
        "id": "lSMN7CMY5ogi",
        "outputId": "065f4e79-ee33-47ae-f576-c2e72401436a"
      },
      "execution_count": null,
      "outputs": [
        {
          "output_type": "stream",
          "name": "stdout",
          "text": [
            "['a', 'b', 'b', 'b', 'a', 'c']\n"
          ]
        }
      ]
    },
    {
      "cell_type": "code",
      "source": [
        "#remove\n",
        "a.remove('b')\n",
        "print(a)"
      ],
      "metadata": {
        "colab": {
          "base_uri": "https://localhost:8080/"
        },
        "id": "w19UMeA355RN",
        "outputId": "50cb2782-6405-4831-e444-d84bf087cdc5"
      },
      "execution_count": null,
      "outputs": [
        {
          "output_type": "stream",
          "name": "stdout",
          "text": [
            "['a', 'b', 'a', 'c']\n"
          ]
        }
      ]
    },
    {
      "cell_type": "code",
      "source": [
        "#extend\n",
        "a = [1,2,3]\n",
        "a.extend([4,5])\n",
        "print(a)"
      ],
      "metadata": {
        "colab": {
          "base_uri": "https://localhost:8080/"
        },
        "id": "VKl6n_lc6VeS",
        "outputId": "16f82137-e1fa-4b59-9d4b-dd4c1c68234a"
      },
      "execution_count": null,
      "outputs": [
        {
          "output_type": "stream",
          "name": "stdout",
          "text": [
            "[1, 2, 3, 4, 5]\n"
          ]
        }
      ]
    },
    {
      "cell_type": "code",
      "source": [
        "# append 는 원소 하나만!\n",
        "a.append([6,7])\n",
        "print(a)"
      ],
      "metadata": {
        "colab": {
          "base_uri": "https://localhost:8080/"
        },
        "id": "btLGnrT26erB",
        "outputId": "6ef1c3e1-bbb5-4978-bb3b-57acf72a1d6d"
      },
      "execution_count": null,
      "outputs": [
        {
          "output_type": "stream",
          "name": "stdout",
          "text": [
            "[1, 2, 3, 4, 5, [6, 7]]\n"
          ]
        }
      ]
    },
    {
      "cell_type": "markdown",
      "source": [
        "# 튜플 자료형\n",
        "  순서가 중요하다 - 리스트하고 비슷하지만 요소거 1개라도 , 를 붙여야 한다\n",
        "\n",
        "  괄호 ! 그냥괄호 () 이거로 묶어준다\n",
        "\n",
        "  값을 유지해야 한다면 튜플! 순서가 다르면 어쩌구 개졸리다 진짜\n",
        "\n",
        "\n",
        "\n",
        "  1. 리스트와 달리 한번 생성하면 추가, 삭제, 생성이 불가능하다! (Immutable) -> 즉 데이터를 변경하지 않아야 하는 경우에 사용한다\n",
        "\n",
        "2.\n",
        "리스트보다 메모리를 적게 쓰고 사용속도가 다름\n",
        "불변성이 보장되므로 해시를 사용할 수 있다 (dic의 키로 쓸 수 있다)\n",
        "\n",
        "3. 여러개의 값을 하나의 단위로 그룹화 가능\n",
        "관련 데이터를 하나의 논리적 개체로 묶을 때 가능하다\n",
        "\n",
        "4. 함수에서 여러 값을 반환할 때 유용하다 -> 여러 개의 결과를 한번에 반환하기 좋다\n",
        "5. 데이터 안정성을 위한 사용 -> 기본 선언이나 상수선언시 쓴다"
      ],
      "metadata": {
        "id": "rmNALMH462TN"
      }
    },
    {
      "cell_type": "code",
      "source": [
        "# 튜플 자료형 (markdown 하려면 ctrl m + m)\n",
        "\n",
        "a = 1,2,3\n",
        "b = (1,2,3)\n",
        "c = 3,2,1\n",
        "\n",
        "print(a==b)\n",
        "print(a==c)\n",
        "print(c==b)"
      ],
      "metadata": {
        "colab": {
          "base_uri": "https://localhost:8080/"
        },
        "id": "75CzuLtp6mpE",
        "outputId": "e29424e5-bb2b-44cc-cea8-43a87db8e9c5"
      },
      "execution_count": null,
      "outputs": [
        {
          "output_type": "stream",
          "name": "stdout",
          "text": [
            "True\n",
            "False\n",
            "False\n"
          ]
        }
      ]
    },
    {
      "cell_type": "markdown",
      "source": [
        "# Dictionary : 딕셔너리란?\n",
        "- 대응 관계를 나타내는 자료형\n",
        "- 연관 배열 또는 해시(중복되지 않는 키)\n",
        "- 키와 벨류를 쌍으로 갖는 자료형\n",
        "- 키값을 통해 벨류에 바로 접근함 (순차 x)"
      ],
      "metadata": {
        "id": "2TiUUkdB8GzK"
      }
    },
    {
      "cell_type": "code",
      "source": [
        "# dictionary\n",
        "a = {\n",
        "      \"name\" : \"seoyeon\",\n",
        "      \"birth\" : \"0805\",\n",
        "      \"phone\" : \"010-5244-0835\"\n",
        "    }\n",
        "\n",
        "# muterble -> 한번 설정하고 값이나 뭐 바꿀 수 있다\n",
        "print(a[\"name\"])\n",
        "\n",
        "a[\"addr\"]=\"춘천\"\n",
        "print(a)\n",
        "\n",
        "a[\"addr\"]=\"seoul\"\n",
        "print(a) # key는 중복되지 않기 때문에 value 는 업데이트된다\n",
        "\n",
        "# 삭제\n",
        "del a[\"addr\"]\n",
        "print(a)"
      ],
      "metadata": {
        "colab": {
          "base_uri": "https://localhost:8080/"
        },
        "id": "jnVZhZOl-5IR",
        "outputId": "fe9b3927-30fb-4ab5-f959-e2b3bec274a4"
      },
      "execution_count": null,
      "outputs": [
        {
          "output_type": "stream",
          "name": "stdout",
          "text": [
            "seoyeon\n",
            "{'name': 'seoyeon', 'birth': '0805', 'phone': '010-5244-0835', 'addr': '춘천'}\n",
            "{'name': 'seoyeon', 'birth': '0805', 'phone': '010-5244-0835', 'addr': 'seoul'}\n",
            "{'name': 'seoyeon', 'birth': '0805', 'phone': '010-5244-0835'}\n"
          ]
        }
      ]
    },
    {
      "cell_type": "markdown",
      "source": [
        "참고로 리스트는 값이 변할 수 있기 때문에 key로 쓸 수 없으나, value에는 아무 값이나 가능하다\n",
        "\n",
        "### 오류 확인해보기"
      ],
      "metadata": {
        "id": "a4jf7xCf_f3l"
      }
    },
    {
      "cell_type": "code",
      "source": [
        "# 리스트는 값이 바뀌어서 key로 쓸수없음\n",
        "test={[1,2]:\"hi\"}\n",
        "print(test)"
      ],
      "metadata": {
        "colab": {
          "base_uri": "https://localhost:8080/",
          "height": 184
        },
        "id": "K8RKXe5GAQj2",
        "outputId": "3e0af3c2-1461-4add-e7f3-600f7b2acb19"
      },
      "execution_count": null,
      "outputs": [
        {
          "output_type": "error",
          "ename": "TypeError",
          "evalue": "unhashable type: 'list'",
          "traceback": [
            "\u001b[0;31m---------------------------------------------------------------------------\u001b[0m",
            "\u001b[0;31mTypeError\u001b[0m                                 Traceback (most recent call last)",
            "\u001b[0;32m<ipython-input-49-b33b3a23a408>\u001b[0m in \u001b[0;36m<cell line: 0>\u001b[0;34m()\u001b[0m\n\u001b[1;32m      1\u001b[0m \u001b[0;31m# 리스트는 값이 바뀌어서 key로 쓸수없음\u001b[0m\u001b[0;34m\u001b[0m\u001b[0;34m\u001b[0m\u001b[0m\n\u001b[0;32m----> 2\u001b[0;31m \u001b[0mtest\u001b[0m\u001b[0;34m=\u001b[0m\u001b[0;34m{\u001b[0m\u001b[0;34m[\u001b[0m\u001b[0;36m1\u001b[0m\u001b[0;34m,\u001b[0m\u001b[0;36m2\u001b[0m\u001b[0;34m]\u001b[0m\u001b[0;34m:\u001b[0m\u001b[0;34m\"hi\"\u001b[0m\u001b[0;34m}\u001b[0m\u001b[0;34m\u001b[0m\u001b[0;34m\u001b[0m\u001b[0m\n\u001b[0m\u001b[1;32m      3\u001b[0m \u001b[0mprint\u001b[0m\u001b[0;34m(\u001b[0m\u001b[0mtest\u001b[0m\u001b[0;34m)\u001b[0m\u001b[0;34m\u001b[0m\u001b[0;34m\u001b[0m\u001b[0m\n",
            "\u001b[0;31mTypeError\u001b[0m: unhashable type: 'list'"
          ]
        }
      ]
    },
    {
      "cell_type": "code",
      "source": [
        "# 튜플은 바뀌지 않아서 key로 사용가능함\n",
        "test={(1,2):\"hi\"}\n",
        "print(test)"
      ],
      "metadata": {
        "colab": {
          "base_uri": "https://localhost:8080/"
        },
        "id": "MW2yCGtFA2kQ",
        "outputId": "490d56f1-9c83-48ea-fe6a-cf67cf051601"
      },
      "execution_count": null,
      "outputs": [
        {
          "output_type": "stream",
          "name": "stdout",
          "text": [
            "{(1, 2): 'hi'}\n"
          ]
        }
      ]
    },
    {
      "cell_type": "markdown",
      "source": [
        "## 사전형(Dictionary)에 많이 쓰이는 함수들\n",
        "- key 리스트 만들기 : keys"
      ],
      "metadata": {
        "id": "iCjb_LmGA4tI"
      }
    },
    {
      "cell_type": "code",
      "source": [
        "# Key들을 List 자료형으로 변경\n",
        "print(a.keys())\n",
        "a_keys = a.keys()\n",
        "a_keys = list(a.keys())\n",
        "print(a.keys())\n",
        "print(type(a.keys))"
      ],
      "metadata": {
        "colab": {
          "base_uri": "https://localhost:8080/"
        },
        "id": "C0f-b6wtBN9A",
        "outputId": "b6a60f0d-7f37-4658-b99d-86c3509d96c6"
      },
      "execution_count": null,
      "outputs": [
        {
          "output_type": "stream",
          "name": "stdout",
          "text": [
            "dict_keys(['name', 'birth', 'phone'])\n",
            "dict_keys(['name', 'birth', 'phone'])\n",
            "<class 'builtin_function_or_method'>\n"
          ]
        }
      ]
    },
    {
      "cell_type": "code",
      "source": [
        "for k in a.keys():\n",
        "  print(k)\n",
        "  print(a[k])\n",
        "  print()"
      ],
      "metadata": {
        "colab": {
          "base_uri": "https://localhost:8080/"
        },
        "id": "4WPakn9sH3Ox",
        "outputId": "6808be0d-abae-4005-c127-32446fc09a7d"
      },
      "execution_count": null,
      "outputs": [
        {
          "output_type": "stream",
          "name": "stdout",
          "text": [
            "name\n",
            "seoyeon\n",
            "\n",
            "birth\n",
            "0805\n",
            "\n",
            "phone\n",
            "010-5244-0835\n",
            "\n"
          ]
        }
      ]
    },
    {
      "cell_type": "code",
      "source": [
        "a.values()"
      ],
      "metadata": {
        "colab": {
          "base_uri": "https://localhost:8080/"
        },
        "id": "o_aRLCLMBe1-",
        "outputId": "ffda5528-80dd-465f-89c8-c707b391a6d6"
      },
      "execution_count": null,
      "outputs": [
        {
          "output_type": "execute_result",
          "data": {
            "text/plain": [
              "dict_values(['seoyeon', '0805', '010-5244-0835'])"
            ]
          },
          "metadata": {},
          "execution_count": 63
        }
      ]
    },
    {
      "cell_type": "code",
      "source": [
        "# List로 변환\n",
        "list(a.values())"
      ],
      "metadata": {
        "colab": {
          "base_uri": "https://localhost:8080/"
        },
        "id": "NFdz2wxnIOtt",
        "outputId": "18098a6d-a6b4-48ba-d940-bfe50f115145"
      },
      "execution_count": null,
      "outputs": [
        {
          "output_type": "execute_result",
          "data": {
            "text/plain": [
              "['seoyeon', '0805', '010-5244-0835']"
            ]
          },
          "metadata": {},
          "execution_count": 64
        }
      ]
    },
    {
      "cell_type": "code",
      "source": [
        "# 깔끔하게 변환 -> key와 value가 tuple로 저장된다\n",
        "a.items()"
      ],
      "metadata": {
        "colab": {
          "base_uri": "https://localhost:8080/"
        },
        "id": "IKqnkxmnISbF",
        "outputId": "67599349-cfb3-4159-ed52-bbf7ad9d257d"
      },
      "execution_count": null,
      "outputs": [
        {
          "output_type": "execute_result",
          "data": {
            "text/plain": [
              "dict_items([('name', 'seoyeon'), ('birth', '0805'), ('phone', '010-5244-0835')])"
            ]
          },
          "metadata": {},
          "execution_count": 65
        }
      ]
    },
    {
      "cell_type": "code",
      "source": [
        "a_list = list(a.items())\n",
        "print(a_list[0])\n",
        "print(a_list[1])\n",
        "print(a_list[2])"
      ],
      "metadata": {
        "colab": {
          "base_uri": "https://localhost:8080/"
        },
        "id": "cdY65WtOIZsp",
        "outputId": "241fabb0-dcfa-416a-d412-dd5b6f2318aa"
      },
      "execution_count": null,
      "outputs": [
        {
          "output_type": "stream",
          "name": "stdout",
          "text": [
            "('name', 'seoyeon')\n",
            "('birth', '0805')\n",
            "('phone', '010-5244-0835')\n"
          ]
        }
      ]
    },
    {
      "cell_type": "code",
      "source": [
        "# 삭제하기\n",
        "# a.clear()\n",
        "a.keys()"
      ],
      "metadata": {
        "colab": {
          "base_uri": "https://localhost:8080/"
        },
        "id": "BBbVdTsjIjJZ",
        "outputId": "20561f86-8e10-4c8e-c367-472afd3d3c87"
      },
      "execution_count": null,
      "outputs": [
        {
          "output_type": "execute_result",
          "data": {
            "text/plain": [
              "dict_keys(['name', 'birth', 'phone'])"
            ]
          },
          "metadata": {},
          "execution_count": 70
        }
      ]
    },
    {
      "cell_type": "code",
      "source": [
        "'phone' in a"
      ],
      "metadata": {
        "colab": {
          "base_uri": "https://localhost:8080/"
        },
        "id": "ocohSeRyJBR0",
        "outputId": "9923c8e4-2da1-4121-86a7-57cd87b6e822"
      },
      "execution_count": null,
      "outputs": [
        {
          "output_type": "execute_result",
          "data": {
            "text/plain": [
              "True"
            ]
          },
          "metadata": {},
          "execution_count": 71
        }
      ]
    },
    {
      "cell_type": "code",
      "source": [
        "'addr' in a"
      ],
      "metadata": {
        "colab": {
          "base_uri": "https://localhost:8080/"
        },
        "id": "IRqYv2EBJI98",
        "outputId": "f7d9ef7e-fd49-4440-f5d2-f560c3ff4ce3"
      },
      "execution_count": null,
      "outputs": [
        {
          "output_type": "execute_result",
          "data": {
            "text/plain": [
              "False"
            ]
          },
          "metadata": {},
          "execution_count": 72
        }
      ]
    },
    {
      "cell_type": "code",
      "source": [
        "b = [1,2,3,4,5]\n",
        "3 in b\n",
        "10 in b"
      ],
      "metadata": {
        "colab": {
          "base_uri": "https://localhost:8080/"
        },
        "id": "9AQqcVgxJTzW",
        "outputId": "8623c4e0-2b62-487e-95f8-5e1264fb6798"
      },
      "execution_count": null,
      "outputs": [
        {
          "output_type": "execute_result",
          "data": {
            "text/plain": [
              "False"
            ]
          },
          "metadata": {},
          "execution_count": 76
        }
      ]
    },
    {
      "cell_type": "code",
      "source": [
        "a['name']"
      ],
      "metadata": {
        "colab": {
          "base_uri": "https://localhost:8080/",
          "height": 35
        },
        "id": "O3NJtHcgJXif",
        "outputId": "b2d15170-ffff-4916-92cc-27d70e1a8b5d"
      },
      "execution_count": null,
      "outputs": [
        {
          "output_type": "execute_result",
          "data": {
            "text/plain": [
              "'seoyeon'"
            ],
            "application/vnd.google.colaboratory.intrinsic+json": {
              "type": "string"
            }
          },
          "metadata": {},
          "execution_count": 77
        }
      ]
    },
    {
      "cell_type": "code",
      "source": [
        "a.get('name')"
      ],
      "metadata": {
        "colab": {
          "base_uri": "https://localhost:8080/",
          "height": 35
        },
        "id": "vLd6LVxnKWfy",
        "outputId": "cf1d6bf0-15fe-448f-f91e-5d7784df9f3a"
      },
      "execution_count": null,
      "outputs": [
        {
          "output_type": "execute_result",
          "data": {
            "text/plain": [
              "'seoyeon'"
            ],
            "application/vnd.google.colaboratory.intrinsic+json": {
              "type": "string"
            }
          },
          "metadata": {},
          "execution_count": 78
        }
      ]
    },
    {
      "cell_type": "code",
      "source": [
        "n = 'name'\n",
        "a[n]"
      ],
      "metadata": {
        "colab": {
          "base_uri": "https://localhost:8080/",
          "height": 35
        },
        "id": "c6XpT0uGKYS5",
        "outputId": "b7c2d0a1-0ccd-4af6-9829-3556c716fb1b"
      },
      "execution_count": null,
      "outputs": [
        {
          "output_type": "execute_result",
          "data": {
            "text/plain": [
              "'seoyeon'"
            ],
            "application/vnd.google.colaboratory.intrinsic+json": {
              "type": "string"
            }
          },
          "metadata": {},
          "execution_count": 79
        }
      ]
    },
    {
      "cell_type": "code",
      "source": [
        "a['addr']"
      ],
      "metadata": {
        "colab": {
          "base_uri": "https://localhost:8080/",
          "height": 147
        },
        "id": "fdRSNgKgKbmz",
        "outputId": "34c973e5-18a1-4d5c-80df-24122a42ef74"
      },
      "execution_count": null,
      "outputs": [
        {
          "output_type": "error",
          "ename": "KeyError",
          "evalue": "'addr'",
          "traceback": [
            "\u001b[0;31m---------------------------------------------------------------------------\u001b[0m",
            "\u001b[0;31mKeyError\u001b[0m                                  Traceback (most recent call last)",
            "\u001b[0;32m<ipython-input-80-0c134d5ab72a>\u001b[0m in \u001b[0;36m<cell line: 0>\u001b[0;34m()\u001b[0m\n\u001b[0;32m----> 1\u001b[0;31m \u001b[0ma\u001b[0m\u001b[0;34m[\u001b[0m\u001b[0;34m'addr'\u001b[0m\u001b[0;34m]\u001b[0m\u001b[0;34m\u001b[0m\u001b[0;34m\u001b[0m\u001b[0m\n\u001b[0m",
            "\u001b[0;31mKeyError\u001b[0m: 'addr'"
          ]
        }
      ]
    },
    {
      "cell_type": "code",
      "source": [
        "print(a.get('addr'))"
      ],
      "metadata": {
        "colab": {
          "base_uri": "https://localhost:8080/"
        },
        "id": "bMOiiEwNKktM",
        "outputId": "88837e5e-d896-4cdc-8ed2-2877aa257401"
      },
      "execution_count": null,
      "outputs": [
        {
          "output_type": "stream",
          "name": "stdout",
          "text": [
            "None\n"
          ]
        }
      ]
    },
    {
      "cell_type": "code",
      "source": [
        "a.get('addr', \"키없음\")"
      ],
      "metadata": {
        "colab": {
          "base_uri": "https://localhost:8080/",
          "height": 35
        },
        "id": "4Big-j5pKsCg",
        "outputId": "ce286f0b-5328-4f81-fcd5-ebc14bf97304"
      },
      "execution_count": null,
      "outputs": [
        {
          "output_type": "execute_result",
          "data": {
            "text/plain": [
              "'키없음'"
            ],
            "application/vnd.google.colaboratory.intrinsic+json": {
              "type": "string"
            }
          },
          "metadata": {},
          "execution_count": 86
        }
      ]
    },
    {
      "cell_type": "markdown",
      "source": [
        "# 집합 (set)\n",
        "교집합, 합집합, 차집합 등"
      ],
      "metadata": {
        "id": "Nyc3Y1XKK9NC"
      }
    },
    {
      "cell_type": "code",
      "source": [
        "a = {1, 2, 3, 4} # 집합 쓸때는 띄어서 쓰자\n",
        "type(a)"
      ],
      "metadata": {
        "colab": {
          "base_uri": "https://localhost:8080/"
        },
        "id": "k_kn1D2aMF2b",
        "outputId": "6fe4953f-e839-41b4-cae7-b351f6290f27"
      },
      "execution_count": null,
      "outputs": [
        {
          "output_type": "execute_result",
          "data": {
            "text/plain": [
              "set"
            ]
          },
          "metadata": {},
          "execution_count": 87
        }
      ]
    },
    {
      "cell_type": "code",
      "source": [
        "a = \"hello\" # 문자열에서 집합만들기\n",
        "s2 = set(a)\n",
        "print(s2)"
      ],
      "metadata": {
        "colab": {
          "base_uri": "https://localhost:8080/"
        },
        "id": "38AVLfNnMUxL",
        "outputId": "10ab239f-c983-47fb-e593-5b47cc1e9092"
      },
      "execution_count": null,
      "outputs": [
        {
          "output_type": "stream",
          "name": "stdout",
          "text": [
            "{'e', 'h', 'o', 'l'}\n"
          ]
        }
      ]
    },
    {
      "cell_type": "code",
      "source": [
        "# 리스트에서 집합 만들기\n",
        "a_list = [1, 3, 6, 6, 4, 6, 3, 6, 7, 4, 6, 4, 5, 2, 3]\n",
        "s3=set(a_list)\n",
        "print(s3)\n",
        "a_list2 = list(s3)\n",
        "print(a_list2)"
      ],
      "metadata": {
        "colab": {
          "base_uri": "https://localhost:8080/"
        },
        "id": "2a3WsuSIMhhE",
        "outputId": "c5eebbf7-3435-4eb8-b798-0731a315455a"
      },
      "execution_count": null,
      "outputs": [
        {
          "output_type": "stream",
          "name": "stdout",
          "text": [
            "{1, 2, 3, 4, 5, 6, 7}\n",
            "[1, 2, 3, 4, 5, 6, 7]\n"
          ]
        }
      ]
    },
    {
      "cell_type": "code",
      "source": [
        "a_tuple = 1, 2, 3\n",
        "s3 = set(a_tuple)\n",
        "print(s3)"
      ],
      "metadata": {
        "colab": {
          "base_uri": "https://localhost:8080/"
        },
        "id": "32WzznUGM4H3",
        "outputId": "a49627d3-da17-4e6c-f22c-687194bc7cba"
      },
      "execution_count": null,
      "outputs": [
        {
          "output_type": "stream",
          "name": "stdout",
          "text": [
            "{1, 2, 3}\n"
          ]
        }
      ]
    },
    {
      "cell_type": "markdown",
      "source": [
        "## Set 연산 (집합의 연산)"
      ],
      "metadata": {
        "id": "VBY0fzMgNh7-"
      }
    },
    {
      "cell_type": "code",
      "source": [
        "# 교집합\n",
        "s1 = set([1, 2, 3, 4, 5, 6])\n",
        "s2 = set([4, 5, 6, 7, 8, 9])\n",
        "\n",
        "print(s1 & s2)\n",
        "\n",
        "# 함수식으로 표현\n",
        "s1.intersection(s2)"
      ],
      "metadata": {
        "colab": {
          "base_uri": "https://localhost:8080/"
        },
        "id": "luLU5BBeNwkW",
        "outputId": "38d073af-abfb-4aee-cbcb-930298d9b7f3"
      },
      "execution_count": null,
      "outputs": [
        {
          "output_type": "stream",
          "name": "stdout",
          "text": [
            "{4, 5, 6}\n"
          ]
        },
        {
          "output_type": "execute_result",
          "data": {
            "text/plain": [
              "{4, 5, 6}"
            ]
          },
          "metadata": {},
          "execution_count": 94
        }
      ]
    },
    {
      "cell_type": "code",
      "source": [
        "# 합집합\n",
        "s1 = set([1, 2, 3, 4, 5, 6])\n",
        "s2 = set([4, 5, 6, 7, 8, 9])\n",
        "\n",
        "print(s1 | s2)\n",
        "\n",
        "# 함수식으로\n",
        "s1.union(s2) # unitied : 합치다 - 맨유 / uniberse (하나로 돌다! 그냥 그 유니버스)"
      ],
      "metadata": {
        "colab": {
          "base_uri": "https://localhost:8080/"
        },
        "id": "7xJsVvguOBeS",
        "outputId": "6f778aae-47d9-4af6-ed13-35b473c0c438"
      },
      "execution_count": null,
      "outputs": [
        {
          "output_type": "stream",
          "name": "stdout",
          "text": [
            "{1, 2, 3, 4, 5, 6, 7, 8, 9}\n"
          ]
        },
        {
          "output_type": "execute_result",
          "data": {
            "text/plain": [
              "{1, 2, 3, 4, 5, 6, 7, 8, 9}"
            ]
          },
          "metadata": {},
          "execution_count": 96
        }
      ]
    },
    {
      "cell_type": "code",
      "source": [
        "# 차집합\n",
        "s1 = set([1, 2, 3, 4, 5, 6])\n",
        "s2 = set([4, 5, 6, 7, 8, 9])\n",
        "\n",
        "print(s1 - s2) # s1의 고유한 값만 남길래\n",
        "print(s2 - s1) # s2의 고유한 값만 남길래\n"
      ],
      "metadata": {
        "colab": {
          "base_uri": "https://localhost:8080/"
        },
        "id": "44GsoEIUOcYG",
        "outputId": "30c12f4d-8b1d-4227-fa45-beaa9ab79b99"
      },
      "execution_count": null,
      "outputs": [
        {
          "output_type": "stream",
          "name": "stdout",
          "text": [
            "{1, 2, 3}\n",
            "{8, 9, 7}\n"
          ]
        }
      ]
    },
    {
      "cell_type": "code",
      "source": [
        "# 원소 추가\n",
        "s1 =set([1,2,3])\n",
        "# s1.add(4)\n",
        "# s1.add([10, 20, 30]) -> 불가.. 여러개는 update라는 함수 사용한다\n",
        "s1"
      ],
      "metadata": {
        "colab": {
          "base_uri": "https://localhost:8080/",
          "height": 202
        },
        "id": "9yqg2omTO4lZ",
        "outputId": "9035bebf-1887-4324-dcda-a8960bd396c4"
      },
      "execution_count": null,
      "outputs": [
        {
          "output_type": "error",
          "ename": "TypeError",
          "evalue": "unhashable type: 'list'",
          "traceback": [
            "\u001b[0;31m---------------------------------------------------------------------------\u001b[0m",
            "\u001b[0;31mTypeError\u001b[0m                                 Traceback (most recent call last)",
            "\u001b[0;32m<ipython-input-100-31b2f4cabbbe>\u001b[0m in \u001b[0;36m<cell line: 0>\u001b[0;34m()\u001b[0m\n\u001b[1;32m      2\u001b[0m \u001b[0ms1\u001b[0m \u001b[0;34m=\u001b[0m\u001b[0mset\u001b[0m\u001b[0;34m(\u001b[0m\u001b[0;34m[\u001b[0m\u001b[0;36m1\u001b[0m\u001b[0;34m,\u001b[0m\u001b[0;36m2\u001b[0m\u001b[0;34m,\u001b[0m\u001b[0;36m3\u001b[0m\u001b[0;34m]\u001b[0m\u001b[0;34m)\u001b[0m\u001b[0;34m\u001b[0m\u001b[0;34m\u001b[0m\u001b[0m\n\u001b[1;32m      3\u001b[0m \u001b[0;31m# s1.add(4)\u001b[0m\u001b[0;34m\u001b[0m\u001b[0;34m\u001b[0m\u001b[0m\n\u001b[0;32m----> 4\u001b[0;31m \u001b[0ms1\u001b[0m\u001b[0;34m.\u001b[0m\u001b[0madd\u001b[0m\u001b[0;34m(\u001b[0m\u001b[0;34m[\u001b[0m\u001b[0;36m10\u001b[0m\u001b[0;34m,\u001b[0m \u001b[0;36m20\u001b[0m\u001b[0;34m,\u001b[0m \u001b[0;36m30\u001b[0m\u001b[0;34m]\u001b[0m\u001b[0;34m)\u001b[0m\u001b[0;34m\u001b[0m\u001b[0;34m\u001b[0m\u001b[0m\n\u001b[0m\u001b[1;32m      5\u001b[0m \u001b[0ms1\u001b[0m\u001b[0;34m\u001b[0m\u001b[0;34m\u001b[0m\u001b[0m\n",
            "\u001b[0;31mTypeError\u001b[0m: unhashable type: 'list'"
          ]
        }
      ]
    },
    {
      "cell_type": "code",
      "source": [
        "# update (여러개 추가)\n",
        "\n",
        "s1 = set([1, 2, 3])\n",
        "s1.update([4, 5, 6])\n",
        "print(s1)"
      ],
      "metadata": {
        "colab": {
          "base_uri": "https://localhost:8080/"
        },
        "id": "2G7RuImHPrbK",
        "outputId": "fb7cda75-7a35-4f18-c63f-4841d09d10df"
      },
      "execution_count": null,
      "outputs": [
        {
          "output_type": "stream",
          "name": "stdout",
          "text": [
            "{1, 2, 3, 4, 5, 6}\n"
          ]
        }
      ]
    },
    {
      "cell_type": "code",
      "source": [
        "# remove (값 삭제)\n",
        "s1 = set([1, 2, 3])\n",
        "s1.remove(1)\n",
        "print(s1)"
      ],
      "metadata": {
        "colab": {
          "base_uri": "https://localhost:8080/"
        },
        "id": "ad2Vgxy_QEz0",
        "outputId": "a40ea675-f816-46c8-edcd-4120619af032"
      },
      "execution_count": null,
      "outputs": [
        {
          "output_type": "stream",
          "name": "stdout",
          "text": [
            "{2, 3}\n"
          ]
        }
      ]
    },
    {
      "cell_type": "markdown",
      "source": [
        "# Bool 자료형\n",
        "True / False -> 참과 거짓을 판단하는 자료형\n",
        "비어있는 것은 다 거짓이다 참고로 전통을 따라 0은 False\n"
      ],
      "metadata": {
        "id": "P-5PA5r5QN-u"
      }
    },
    {
      "cell_type": "code",
      "source": [
        "from sys import flags\n",
        "a = True\n",
        "b = flags\n",
        "\n",
        "type(a)"
      ],
      "metadata": {
        "colab": {
          "base_uri": "https://localhost:8080/"
        },
        "id": "ATAHBMOjT4gb",
        "outputId": "3859e59e-e6e9-4541-85c9-699d655feaae"
      },
      "execution_count": null,
      "outputs": [
        {
          "output_type": "execute_result",
          "data": {
            "text/plain": [
              "bool"
            ]
          },
          "metadata": {},
          "execution_count": 110
        }
      ]
    },
    {
      "cell_type": "code",
      "source": [
        "print(1==1)\n",
        "print(1<2)\n",
        "print(1>2)"
      ],
      "metadata": {
        "colab": {
          "base_uri": "https://localhost:8080/"
        },
        "id": "yYKppr32UApH",
        "outputId": "448d375c-e3d3-480a-fa2c-0f815252b805"
      },
      "execution_count": null,
      "outputs": [
        {
          "output_type": "stream",
          "name": "stdout",
          "text": [
            "True\n",
            "True\n",
            "False\n"
          ]
        }
      ]
    },
    {
      "cell_type": "code",
      "source": [
        "# 복소수를 다루는 것 -> 숫자는 사람이 편리에 따라 만든 system!\n",
        "# 복소수는 어떤 수를 제곱하면 양수가 되는데, 제곱했는데 음수가 되는 수가 있을수도 있자나여\n",
        "\n",
        "print(bool(a))\n",
        "print(bool(0))\n",
        "print(bool(1))\n",
        "print(bool(1)+bool(a))"
      ],
      "metadata": {
        "colab": {
          "base_uri": "https://localhost:8080/"
        },
        "id": "v_nezSnxUI14",
        "outputId": "ac6ac1ae-01f3-4e52-e22d-86bd8edec1f2"
      },
      "execution_count": null,
      "outputs": [
        {
          "output_type": "stream",
          "name": "stdout",
          "text": [
            "True\n",
            "False\n",
            "True\n",
            "2\n"
          ]
        }
      ]
    },
    {
      "cell_type": "markdown",
      "source": [
        "## python 300제\n",
        "https://wikidocs.net/book/922"
      ],
      "metadata": {
        "id": "U0AnNBU3VXpW"
      }
    }
  ]
}