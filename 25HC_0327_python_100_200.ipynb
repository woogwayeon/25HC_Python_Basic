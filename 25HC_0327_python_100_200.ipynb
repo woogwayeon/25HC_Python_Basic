{
  "nbformat": 4,
  "nbformat_minor": 0,
  "metadata": {
    "colab": {
      "provenance": [],
      "authorship_tag": "ABX9TyMWElfBxX7fwIOVCWy8N8kw",
      "include_colab_link": true
    },
    "kernelspec": {
      "name": "python3",
      "display_name": "Python 3"
    },
    "language_info": {
      "name": "python"
    }
  },
  "cells": [
    {
      "cell_type": "markdown",
      "metadata": {
        "id": "view-in-github",
        "colab_type": "text"
      },
      "source": [
        "<a href=\"https://colab.research.google.com/github/woogwayeon/25HC_Python_Basic/blob/master/25HC_0327_python_100_200.ipynb\" target=\"_parent\"><img src=\"https://colab.research.google.com/assets/colab-badge.svg\" alt=\"Open In Colab\"/></a>"
      ]
    },
    {
      "cell_type": "markdown",
      "source": [
        "# 위키독스 파이선 기초 300제 (100-200)\n",
        "\n",
        "https://wikidocs.net/7028"
      ],
      "metadata": {
        "id": "vAMC2P6qtOON"
      }
    },
    {
      "cell_type": "code",
      "source": [
        "# 1. 파이썬에서 True 혹은 False를 갖는 데이터 타입은 무엇인가?\n",
        "\n",
        "# Boolean Type (Bool 타입)"
      ],
      "metadata": {
        "id": "heCroWPVthEC"
      },
      "execution_count": null,
      "outputs": []
    },
    {
      "cell_type": "code",
      "source": [
        "# 102 아래 코드의 출력 결과를 예상하라\n",
        "\n",
        "print(3 == 5)\n",
        "\n",
        "# FALSE"
      ],
      "metadata": {
        "colab": {
          "base_uri": "https://localhost:8080/"
        },
        "id": "GGqTadE4_sYr",
        "outputId": "c05f34e2-2fbe-41bc-a22a-1cdc458cd797"
      },
      "execution_count": null,
      "outputs": [
        {
          "output_type": "stream",
          "name": "stdout",
          "text": [
            "False\n"
          ]
        }
      ]
    },
    {
      "cell_type": "code",
      "source": [
        "# 103 아래 코드의 출력 결과를 예상하라\n",
        "\n",
        "print(3 < 5)\n",
        "\n",
        "# True"
      ],
      "metadata": {
        "colab": {
          "base_uri": "https://localhost:8080/"
        },
        "id": "p6PtB2HM_zC2",
        "outputId": "50d0cda7-3c32-4def-808d-e79cc8ddebaf"
      },
      "execution_count": null,
      "outputs": [
        {
          "output_type": "stream",
          "name": "stdout",
          "text": [
            "True\n"
          ]
        }
      ]
    },
    {
      "cell_type": "code",
      "source": [
        "#104 아래 코드의 결과를 예상하라.\n",
        "\n",
        "x = 4\n",
        "print(1 < x < 5)\n",
        "\n",
        "# True"
      ],
      "metadata": {
        "colab": {
          "base_uri": "https://localhost:8080/"
        },
        "id": "MEoKS-xi_6ea",
        "outputId": "4e560601-59ae-4456-cfa7-aa8f6ac199f7"
      },
      "execution_count": null,
      "outputs": [
        {
          "output_type": "stream",
          "name": "stdout",
          "text": [
            "True\n"
          ]
        }
      ]
    },
    {
      "cell_type": "code",
      "source": [
        "# 105 아래 코드의 결과를 예상하라.\n",
        "\n",
        "print ((3 == 3) and (4 != 3))\n",
        "\n",
        "# True"
      ],
      "metadata": {
        "colab": {
          "base_uri": "https://localhost:8080/"
        },
        "id": "oNYfDaFHAGJ8",
        "outputId": "ab12608e-bd52-49d5-a296-2992a11b4302"
      },
      "execution_count": null,
      "outputs": [
        {
          "output_type": "stream",
          "name": "stdout",
          "text": [
            "True\n"
          ]
        }
      ]
    },
    {
      "cell_type": "code",
      "source": [
        "# 106 아래 코드에서 에러가 발생하는 원인에 대해 설명하라.\n",
        "\n",
        "# print(3 => 4) -> = 연산자는 뒤에 와야함"
      ],
      "metadata": {
        "id": "XrVHixgsAN3C"
      },
      "execution_count": null,
      "outputs": []
    },
    {
      "cell_type": "code",
      "source": [
        "# 107 아래 코드의 출력 결과를 예상하라\n",
        "\n",
        "if 4 < 3:\n",
        "    print(\"Hello World\")\n",
        "\n",
        "# 아무것도 출력안된다! 조건이 false 이기 때문이다"
      ],
      "metadata": {
        "id": "lON3LSkyAThg"
      },
      "execution_count": null,
      "outputs": []
    },
    {
      "cell_type": "code",
      "source": [
        "#108 아래 코드의 출력 결과를 예상하라\n",
        "\n",
        "if 4 < 3:\n",
        "    print(\"Hello World.\")\n",
        "else:\n",
        "    print(\"Hi, there.\")\n",
        "\n",
        "# Hi, there. 이 출력된다 else 문은 if문의 조건이 false일 때 실행되기 때문"
      ],
      "metadata": {
        "colab": {
          "base_uri": "https://localhost:8080/"
        },
        "id": "0Y9Yf5jjAeVc",
        "outputId": "37f8145e-8f10-4e8b-dc0e-c394ee161259"
      },
      "execution_count": null,
      "outputs": [
        {
          "output_type": "stream",
          "name": "stdout",
          "text": [
            "Hi, there.\n"
          ]
        }
      ]
    },
    {
      "cell_type": "code",
      "source": [
        "# 109 아래 코드의 출력 결과를 예상하라\n",
        "\n",
        "if True :\n",
        "    print (\"1\")\n",
        "    print (\"2\")\n",
        "else :\n",
        "    print(\"3\")\n",
        "print(\"4\")\n",
        "\n",
        "# 1,2,4 가 출력된다 트루인거 1,2 랑 그냥 4가 프린트됨 조건이 True니까 else 문은 지나침!"
      ],
      "metadata": {
        "colab": {
          "base_uri": "https://localhost:8080/"
        },
        "id": "WkVBiCJxApDm",
        "outputId": "7c6877da-dfa1-4231-a0ae-5bd8d4db9bcf"
      },
      "execution_count": null,
      "outputs": [
        {
          "output_type": "stream",
          "name": "stdout",
          "text": [
            "1\n",
            "2\n",
            "4\n"
          ]
        }
      ]
    },
    {
      "cell_type": "code",
      "source": [
        "# 110 아래 코드의 출력 결과를 예상하라\n",
        "\n",
        "if True :\n",
        "    if False:\n",
        "        print(\"1\")\n",
        "        print(\"2\")\n",
        "    else:\n",
        "        print(\"3\")\n",
        "else :\n",
        "    print(\"4\")\n",
        "print(\"5\")\n",
        "\n",
        "# 3, 5 가 출력된다"
      ],
      "metadata": {
        "colab": {
          "base_uri": "https://localhost:8080/"
        },
        "id": "kdG_2zcZA25R",
        "outputId": "884a7a84-5adb-4caa-acae-426e71252cf2"
      },
      "execution_count": null,
      "outputs": [
        {
          "output_type": "stream",
          "name": "stdout",
          "text": [
            "3\n",
            "5\n"
          ]
        }
      ]
    },
    {
      "cell_type": "code",
      "source": [],
      "metadata": {
        "id": "qHoa0AZVBFK_"
      },
      "execution_count": null,
      "outputs": []
    }
  ]
}