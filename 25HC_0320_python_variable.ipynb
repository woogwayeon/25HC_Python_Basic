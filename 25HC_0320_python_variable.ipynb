{
  "nbformat": 4,
  "nbformat_minor": 0,
  "metadata": {
    "colab": {
      "provenance": [],
      "toc_visible": true,
      "authorship_tag": "ABX9TyNbJDl5uA1uqSuo52R5kLpK",
      "include_colab_link": true
    },
    "kernelspec": {
      "name": "python3",
      "display_name": "Python 3"
    },
    "language_info": {
      "name": "python"
    }
  },
  "cells": [
    {
      "cell_type": "markdown",
      "metadata": {
        "id": "view-in-github",
        "colab_type": "text"
      },
      "source": [
        "<a href=\"https://colab.research.google.com/github/woogwayeon/25HC_Python_Basic/blob/master/25HC_0320_python_variable.ipynb\" target=\"_parent\"><img src=\"https://colab.research.google.com/assets/colab-badge.svg\" alt=\"Open In Colab\"/></a>"
      ]
    },
    {
      "cell_type": "markdown",
      "source": [
        "# 변수 - Variable\n",
        "reference를 같이 사용하는거 -> 참조 연산시 값을 참조하는거~"
      ],
      "metadata": {
        "id": "IqvY2E8zV8xp"
      }
    },
    {
      "cell_type": "code",
      "source": [
        "# 변수의 생성\n",
        "a = 1\n",
        "b = a\n",
        "\n",
        "# id(a) -> id() : 메모리 주소 출력\n",
        "print(id(a))\n",
        "print(id(b))\n",
        "print()\n",
        "\n",
        "a = 3\n",
        "print(\"바뀐 값의 a 아이디\", id(a), \"// a의 값\", a)\n",
        "print(\"계속해서  b 아이디\", id(b), \"// b의 값\", b)"
      ],
      "metadata": {
        "colab": {
          "base_uri": "https://localhost:8080/"
        },
        "id": "QMPVh3FWWY8z",
        "outputId": "1132fafe-3261-46a4-c6b5-988f2f29b185"
      },
      "execution_count": null,
      "outputs": [
        {
          "output_type": "stream",
          "name": "stdout",
          "text": [
            "10750856\n",
            "10750856\n",
            "\n",
            "바뀐 값의 a 아이디 10750920 // a의 값 3\n",
            "계속해서  b 아이디 10750856 // b의 값 1\n"
          ]
        }
      ]
    },
    {
      "cell_type": "markdown",
      "source": [
        "뮤터블과 인뮤터블 생각해보자"
      ],
      "metadata": {
        "id": "y0r4HlfcWl7h"
      }
    },
    {
      "cell_type": "code",
      "source": [
        "# 케이스1\n",
        "a = [1,2,3]\n",
        "b=a\n",
        "print(id(a))\n",
        "print(id(b))"
      ],
      "metadata": {
        "colab": {
          "base_uri": "https://localhost:8080/"
        },
        "id": "EsEBfbfPXiNH",
        "outputId": "9361e1d3-25a0-4319-a734-b0a1e5b1af85"
      },
      "execution_count": null,
      "outputs": [
        {
          "output_type": "stream",
          "name": "stdout",
          "text": [
            "133664999487808\n",
            "133664999487808\n"
          ]
        }
      ]
    },
    {
      "cell_type": "code",
      "source": [
        "# 케이스2\n",
        "a = [1,2,3]\n",
        "b=a\n",
        "print(id(a))\n",
        "print(id(b))\n",
        "print()\n",
        "\n",
        "a.append(4) # 상자는 그대로고 값만 추가\n",
        "print(\"a에 값추가\")\n",
        "print(id(a))\n",
        "print(id(b))"
      ],
      "metadata": {
        "colab": {
          "base_uri": "https://localhost:8080/"
        },
        "id": "GMoYIuANXo94",
        "outputId": "824dada1-cea3-41bb-c49b-68cd55cebfe7"
      },
      "execution_count": null,
      "outputs": [
        {
          "output_type": "stream",
          "name": "stdout",
          "text": [
            "133664999396160\n",
            "133664999396160\n",
            "\n",
            "a에 값추가\n",
            "133664999396160\n",
            "133664999396160\n"
          ]
        }
      ]
    },
    {
      "cell_type": "markdown",
      "source": [
        "## 변수를 만드는 여러가지 방법"
      ],
      "metadata": {
        "id": "XJN04dpxX3Cx"
      }
    },
    {
      "cell_type": "code",
      "source": [
        "# tuple\n",
        "a, b = ('python', 'life')\n",
        "(a, b) = 'python', 'life'"
      ],
      "metadata": {
        "id": "Xg3ukhJ-YfF8"
      },
      "execution_count": null,
      "outputs": []
    },
    {
      "cell_type": "code",
      "source": [
        "a = 3\n",
        "b = 5\n",
        "# 값을 바꾸려면 추가변수가 있어야 하는데, a랑 b의 순서만 바꾸면 되는데\n",
        "\n",
        "a, b = b, a\n",
        "print(a)\n",
        "print(b)"
      ],
      "metadata": {
        "colab": {
          "base_uri": "https://localhost:8080/"
        },
        "id": "xf-xaM0GYuTj",
        "outputId": "3dda6a09-299a-41a7-bc40-68ecdd349964"
      },
      "execution_count": null,
      "outputs": [
        {
          "output_type": "stream",
          "name": "stdout",
          "text": [
            "5\n",
            "3\n"
          ]
        }
      ]
    },
    {
      "cell_type": "code",
      "source": [],
      "metadata": {
        "id": "Aud3ru0WY_CV"
      },
      "execution_count": null,
      "outputs": []
    }
  ]
}