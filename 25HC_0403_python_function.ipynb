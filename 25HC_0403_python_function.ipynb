{
  "nbformat": 4,
  "nbformat_minor": 0,
  "metadata": {
    "colab": {
      "provenance": [],
      "toc_visible": true,
      "authorship_tag": "ABX9TyPP/6fPeo6rC7Gc3RvyM8vG",
      "include_colab_link": true
    },
    "kernelspec": {
      "name": "python3",
      "display_name": "Python 3"
    },
    "language_info": {
      "name": "python"
    }
  },
  "cells": [
    {
      "cell_type": "markdown",
      "metadata": {
        "id": "view-in-github",
        "colab_type": "text"
      },
      "source": [
        "<a href=\"https://colab.research.google.com/github/woogwayeon/25HC_Python_Basic/blob/master/25HC_0403_python_function.ipynb\" target=\"_parent\"><img src=\"https://colab.research.google.com/assets/colab-badge.svg\" alt=\"Open In Colab\"/></a>"
      ]
    },
    {
      "cell_type": "markdown",
      "source": [
        "# 함수\n",
        "❤️ 특정 입력값을 주었을 때 특정 결과값을 리턴한다!\n",
        "    함수를 사용하는 이유는 무엇일까!\n",
        "    ---\n",
        "    반복되는 부분이 있을 경우 \"반복적으로 사용되는 가치있는 부분\"\n",
        "    을 한 뭉치로 묶어서 아래와 같이 작성하는것이 현명하다!!  \n",
        "\n",
        "\n",
        "\n",
        "\n",
        "\n",
        "\n",
        "## 기본 함수 정의\n",
        "❤️ 파이선은 def function name (argements) 형식\n"
      ],
      "metadata": {
        "id": "C3VUY5Nl-k8i"
      }
    },
    {
      "cell_type": "code",
      "source": [
        "# 덧셈을 하는 함수\n",
        "\n",
        "def add (a, b):\n",
        "    return a + b\n",
        "\n",
        "a = 3\n",
        "b = 5\n",
        "c = add(a, b)\n",
        "\n",
        "print(c)\n"
      ],
      "metadata": {
        "colab": {
          "base_uri": "https://localhost:8080/"
        },
        "id": "dh98g-Ho_4vP",
        "outputId": "c5211c6d-cb67-4602-97a4-19d3931f0933"
      },
      "execution_count": 5,
      "outputs": [
        {
          "output_type": "stream",
          "name": "stdout",
          "text": [
            "8\n"
          ]
        }
      ]
    },
    {
      "cell_type": "markdown",
      "source": [
        "### 매개변수와 인자\n",
        "\n",
        "❤️ 매개변수 (parameter)\n",
        "\n",
        "❤️ 인자 (argument)"
      ],
      "metadata": {
        "id": "0tMJRdI0Cn6P"
      }
    },
    {
      "cell_type": "code",
      "source": [
        "# function 호출 시 매개변수 지정 가능\n",
        "\n",
        "def sub(a,b):\n",
        "    return a-b\n",
        "\n",
        "print(sub(a,b)) # 이름 없이 순서대로 넣기\n",
        "print(sub(b,a)) # 반대로 넣으면 값이 반대로 들어감\n",
        "print(sub(b=3, a=5))  # 함수 이름을 같이 적어주면 그 인자에 걔가 들어감"
      ],
      "metadata": {
        "colab": {
          "base_uri": "https://localhost:8080/"
        },
        "id": "wC1Ens2EDDv9",
        "outputId": "63193cb8-a840-4a81-cdec-2fc2653d3ba4"
      },
      "execution_count": 11,
      "outputs": [
        {
          "output_type": "stream",
          "name": "stdout",
          "text": [
            "-2\n",
            "2\n",
            "2\n"
          ]
        }
      ]
    },
    {
      "cell_type": "markdown",
      "source": [
        "## 자료형의 타입\n",
        "❤️ 기본 자료형\n",
        "\n",
        "    레거시(legacy) 코드라고 하면 유물코드.. 라고 한다\n",
        "    ㅋㅋㅋㅋㅋㅋㅋㅋㅋㅋㅋㅋㅋㅋㅋㅋㅋㅋㅋ\n",
        "    즉 구닥다리라는 뜻\n",
        "    파이선 2버전의 라이브러리는 레거시 코드라고 한다\n",
        "\n",
        "파이선은 3.n.n ~ 이렇게 있는데, 두번째 n부터 바뀌면 호환이 안 될 수도 있다"
      ],
      "metadata": {
        "id": "xxA_MOslEP2O"
      }
    },
    {
      "cell_type": "code",
      "source": [
        "# 기본 자료형\n",
        "\n",
        "def square(x : int) -> int :\n",
        "    return x * x\n",
        "\n",
        "def say_hello(name: str) -> str :\n",
        "    return (f\"Hello, {name}\")\n",
        "\n",
        "def is_even(n: int) -> bool :\n",
        "    return n%2 == 0\n",
        "\n",
        "def area(x : int, y : int) -> int :\n",
        "    return x*y\n",
        "\n",
        "\n",
        "print(square(3))\n",
        "print(square(3.2))\n",
        "print(area(3,2))"
      ],
      "metadata": {
        "colab": {
          "base_uri": "https://localhost:8080/"
        },
        "id": "T-sW9SxKEyaQ",
        "outputId": "493b13f1-907f-4137-9e12-1dca4e90f460"
      },
      "execution_count": 15,
      "outputs": [
        {
          "output_type": "stream",
          "name": "stdout",
          "text": [
            "9\n",
            "10.240000000000002\n",
            "6\n"
          ]
        }
      ]
    },
    {
      "cell_type": "code",
      "source": [
        "# 컬렉션 타입은 함수 정의할때 패키지를 가져오는거다\n",
        "\n",
        "from typing import List, Dict, Tuple\n",
        "\n",
        "def sum_list(numbers : List[int]) -> int:\n",
        "    return sum(numbers)\n",
        "\n",
        "def invert_dict(d: Dict[str, int]) -> Dict[int, str]:\n",
        "    return {v: k for k, v in d.items()}\n",
        "\n",
        "def get_condinates() -> Tuple[float, float]:\n",
        "    return (37.5, 127.0)\n",
        "\n"
      ],
      "metadata": {
        "id": "R3WMd6CdGF2G"
      },
      "execution_count": null,
      "outputs": []
    },
    {
      "cell_type": "code",
      "source": [
        "# 입력값이 몇 개가 될 지 모르는 함수\n",
        "def add_many(*arguments):\n",
        "    result = 0;\n",
        "    for i in arguments:\n",
        "        result += i\n",
        "\n",
        "    return result;\n",
        "\n",
        "result = add_many(1,2,3)\n",
        "print(result)\n",
        "\n",
        "result1 = add_many(1,2,3,4,5,6,7,8,9,10)\n",
        "print(result1)"
      ],
      "metadata": {
        "colab": {
          "base_uri": "https://localhost:8080/"
        },
        "id": "_FIeHNZsS4gb",
        "outputId": "47d49d73-62d2-4c93-b83a-c6e08d912fff"
      },
      "execution_count": 17,
      "outputs": [
        {
          "output_type": "stream",
          "name": "stdout",
          "text": [
            "6\n",
            "55\n"
          ]
        }
      ]
    },
    {
      "cell_type": "code",
      "source": [
        "# 여러 개의 입력받는 함수 만들기 > *argmanets 앞에 choice 매개변수 추가도 된다\n",
        "\n",
        "def add_mul(choice, *arguments):\n",
        "\n",
        "    if choice == \"add\" :\n",
        "\n",
        "        result = 0\n",
        "\n",
        "        for i in arguments:\n",
        "            result += i\n",
        "\n",
        "    elif choice == \"mul\" :\n",
        "\n",
        "        result = 1\n",
        "\n",
        "        for i in arguments:\n",
        "            result = result * i\n",
        "\n",
        "    return result\n",
        "\n",
        "result = add_mul('add', 1,2,3,4,5)\n",
        "print(result)\n",
        "\n",
        "result1 = add_mul('mul', 1,2,3,4,5)\n",
        "print(result1)"
      ],
      "metadata": {
        "colab": {
          "base_uri": "https://localhost:8080/"
        },
        "id": "NooF-LebTSoS",
        "outputId": "951d4c61-ceff-4731-fa19-f143a0e5f7ed"
      },
      "execution_count": 20,
      "outputs": [
        {
          "output_type": "stream",
          "name": "stdout",
          "text": [
            "15\n",
            "120\n"
          ]
        }
      ]
    },
    {
      "cell_type": "code",
      "source": [
        "# 키워드 매개변수 keyword arguments > kwargs\n",
        "\n",
        "def print_kwargs(**kwargs):\n",
        "    print(kwargs)\n",
        "\n",
        "a = {\n",
        "    \"name\" : \"seoyeon\",\n",
        "    \"age\" : 3,\n",
        "    \"gender\" : \"wonman\"\n",
        "}"
      ],
      "metadata": {
        "id": "LkxxaC3GUXQq"
      },
      "execution_count": 25,
      "outputs": []
    },
    {
      "cell_type": "code",
      "source": [
        "# 함수의 리턴값 2개..(?)\n",
        "def add_and_mul(a,b):\n",
        "    return a+b, a*b\n",
        "\n",
        "add, mul = add_and_mul(3,4)\n",
        "print(add, mul)"
      ],
      "metadata": {
        "colab": {
          "base_uri": "https://localhost:8080/"
        },
        "id": "K6doGfqqVv2a",
        "outputId": "9f6e295a-285a-48cc-f663-5334820d3df9"
      },
      "execution_count": 26,
      "outputs": [
        {
          "output_type": "stream",
          "name": "stdout",
          "text": [
            "7 12\n"
          ]
        }
      ]
    },
    {
      "cell_type": "code",
      "source": [
        "def say_myself(name, age, man=True):  # 기본값이 있는 매개변수는 뒤에 둘 것\n",
        "    print(f\"my name : {name}\")\n",
        "    print(f\"my age : {age}\")\n",
        "    if man :\n",
        "        print(\"I'm man\")\n",
        "    else :\n",
        "        print(\"I'm woman\")\n",
        "    return 0;\n",
        "\n",
        "print(f\"{say_myself('minux', 10)}\\n\")\n",
        "print(f\"{say_myself('seoyeon', 7, False)}\")"
      ],
      "metadata": {
        "colab": {
          "base_uri": "https://localhost:8080/"
        },
        "id": "7XeAm1_eWQRb",
        "outputId": "af2d25b6-bb3d-492d-b96b-7c501af0e19c"
      },
      "execution_count": 35,
      "outputs": [
        {
          "output_type": "stream",
          "name": "stdout",
          "text": [
            "my name : minux\n",
            "my age : 10\n",
            "I'm man\n",
            "0\n",
            "\n",
            "my name : seoyeon\n",
            "my age : 7\n",
            "I'm woman\n",
            "0\n"
          ]
        }
      ]
    },
    {
      "cell_type": "markdown",
      "source": [
        "### global variable, local variable"
      ],
      "metadata": {
        "id": "DyXu6b8VbmPQ"
      }
    },
    {
      "cell_type": "code",
      "source": [
        "# 전역변수(  Global variable )와 지역변수(  Local variable )\n",
        "\n",
        "a = 1\n",
        "def vartest(a):\n",
        "    a = a+1\n",
        "    return a\n",
        "\n",
        "print(vartest(a))\n",
        "print(a)"
      ],
      "metadata": {
        "colab": {
          "base_uri": "https://localhost:8080/"
        },
        "id": "hPmB_AOtXJGp",
        "outputId": "6fde3c76-328d-46a1-84e0-02db71fc9abf"
      },
      "execution_count": 39,
      "outputs": [
        {
          "output_type": "stream",
          "name": "stdout",
          "text": [
            "2\n",
            "1\n"
          ]
        }
      ]
    },
    {
      "cell_type": "code",
      "source": [
        "# global 명령어 사용하기\n",
        "\n",
        "a = 1\n",
        "\n",
        "def vartest2():\n",
        "    global a\n",
        "    a = a + 1\n",
        "\n",
        "vartest2()\n",
        "vartest2()\n",
        "print(a)"
      ],
      "metadata": {
        "colab": {
          "base_uri": "https://localhost:8080/"
        },
        "id": "ADGm67IjZjCt",
        "outputId": "249fe275-637b-45d5-9fd0-81dfc4bf861c"
      },
      "execution_count": 57,
      "outputs": [
        {
          "output_type": "stream",
          "name": "stdout",
          "text": [
            "3\n"
          ]
        }
      ]
    },
    {
      "cell_type": "code",
      "source": [
        "# lambda 예약어\n",
        "\n"
      ],
      "metadata": {
        "id": "xz00Tfa8aEzh"
      },
      "execution_count": 58,
      "outputs": []
    },
    {
      "cell_type": "markdown",
      "source": [
        "### Lambda 예약어\n",
        "포스트잇 같다고 생각하면 된다\n",
        "일회용으로 쓰고 버리는 함수, 가벼운 정의!\n",
        "\n",
        "함수를 한줄로 간단하게 정의할 수 있다!! > 이름없는 함수~~"
      ],
      "metadata": {
        "id": "cdKJUqPnbZ9B"
      }
    },
    {
      "cell_type": "code",
      "source": [
        "# 람다식 사용하기\n",
        "\n",
        "add_lamb = lambda a,b : a+b\n",
        "result = add_lamb(20,60)\n",
        "print(result)"
      ],
      "metadata": {
        "colab": {
          "base_uri": "https://localhost:8080/"
        },
        "id": "BcO3BxP6cA9P",
        "outputId": "1f2502b6-c5d6-4ffa-b4f8-3300348e4e71"
      },
      "execution_count": 61,
      "outputs": [
        {
          "output_type": "stream",
          "name": "stdout",
          "text": [
            "80\n"
          ]
        }
      ]
    },
    {
      "cell_type": "code",
      "source": [
        "# sorted라는 함수를 사용해서 람다 써보기\n",
        "example = ['abc', 'bb', 'a', 'sfsfex']\n",
        "char_leng = sorted(example, key = lambda example:len(example))\n",
        "print(char_leng)"
      ],
      "metadata": {
        "colab": {
          "base_uri": "https://localhost:8080/"
        },
        "id": "saWknkKEcdjp",
        "outputId": "28689aee-8641-4900-c882-8b2c426443d8"
      },
      "execution_count": 62,
      "outputs": [
        {
          "output_type": "stream",
          "name": "stdout",
          "text": [
            "['a', 'bb', 'abc', 'sfsfex']\n"
          ]
        }
      ]
    },
    {
      "cell_type": "code",
      "source": [
        "square = lambda var : var * var # 뭔 개소리임?\n",
        "print(square(3))"
      ],
      "metadata": {
        "colab": {
          "base_uri": "https://localhost:8080/"
        },
        "id": "p_sv0cCGdrqp",
        "outputId": "d3959ade-02c6-41db-e7e5-782ef69d3a07"
      },
      "execution_count": 63,
      "outputs": [
        {
          "output_type": "stream",
          "name": "stdout",
          "text": [
            "9\n"
          ]
        }
      ]
    },
    {
      "cell_type": "code",
      "source": [
        "# 함수를 인자로 활용\n",
        "def apply(f, value):\n",
        "    return( f(value) )\n",
        "\n",
        "result = apply(lambda var : var + 10, 5)\n",
        "print(result)"
      ],
      "metadata": {
        "colab": {
          "base_uri": "https://localhost:8080/"
        },
        "id": "BgwpjH4DeCOw",
        "outputId": "07728404-0725-49d5-eb73-6899ed7e64aa"
      },
      "execution_count": 64,
      "outputs": [
        {
          "output_type": "stream",
          "name": "stdout",
          "text": [
            "15\n"
          ]
        }
      ]
    },
    {
      "cell_type": "code",
      "source": [
        "# 정렬 기준으로 사용\n",
        "\n",
        "stu = [\n",
        "    (\"서연\", 20),\n",
        "    (\"정근\", 21),\n",
        "    (\"아인\", 22)\n",
        "]\n",
        "\n",
        "stu.sort( key = lambda age : age[1], reverse=True)\n",
        "print(stu)"
      ],
      "metadata": {
        "colab": {
          "base_uri": "https://localhost:8080/"
        },
        "id": "BMp368vheoEw",
        "outputId": "523103c0-7f22-4fd7-f739-773550f15f3d"
      },
      "execution_count": 67,
      "outputs": [
        {
          "output_type": "stream",
          "name": "stdout",
          "text": [
            "[('아인', 22), ('정근', 21), ('서연', 20)]\n"
          ]
        }
      ]
    },
    {
      "cell_type": "code",
      "source": [
        "# 사원, 대리, 과장, 부장, 사장 순서로 정렬하는 함수를 lambda 로 작성\n",
        "\n",
        "mem = [\n",
        "    ({\"박지성\" : \"사원\"}, 1),\n",
        "    ({\"이정재\" : \"대리\"}, 2),\n",
        "    ({\"정우성\" : \"과장\"}, 3),\n",
        "    ({\"이병헌\" : \"부장\"}, 4),\n",
        "    ({\"김혜수\" : \"사장\"}, 5),\n",
        "]\n",
        "\n",
        "mem.sort( key = lambda grade : grade[1], reverse=False )\n",
        "\n",
        "print(mem)"
      ],
      "metadata": {
        "colab": {
          "base_uri": "https://localhost:8080/"
        },
        "id": "7w-qn8U0iw2f",
        "outputId": "5e197a5e-6b0a-4531-a23e-971aaeabd591"
      },
      "execution_count": 73,
      "outputs": [
        {
          "output_type": "stream",
          "name": "stdout",
          "text": [
            "[({'박지성': '사원'}, 1), ({'이정재': '대리'}, 2), ({'정우성': '과장'}, 3), ({'이병헌': '부장'}, 4), ({'김혜수': '사장'}, 5)]\n"
          ]
        }
      ]
    },
    {
      "cell_type": "code",
      "source": [
        "# 직급 정의하고 가기\n",
        "\n",
        "from typing import Dict\n",
        "\n",
        "memb : Dict [ str, str ] = {\n",
        "    \"정우성\" : \"과장\",\n",
        "    \"박지성\" : \"사원\",\n",
        "    \"이정재\" : \"대리\",\n",
        "    \"김혜수\" : \"사장\",\n",
        "    \"이병헌\" : \"부장\"\n",
        "}\n",
        "\n",
        "grade_odr = {\n",
        "    \"사원\" : 1,\n",
        "    \"대리\" : 2,\n",
        "    \"과장\" : 3,\n",
        "    \"부장\" : 4,\n",
        "    \"사장\" : 5\n",
        "}\n",
        "\n",
        "# grade_odr = ['사원', '대리', '과장', '부장', '사장']\n",
        "\n",
        "# lambda 를 사용한 정렬 // Key는 숫자로 제한된다!\n",
        "sort_mbr = sorted( memb.items(), key = lambda odr : grade_odr[odr[1]] )\n",
        "\n",
        "# 결과 출력\n",
        "for name, grade in sort_mbr:\n",
        "    print(f\"{name} : {grade}\")"
      ],
      "metadata": {
        "colab": {
          "base_uri": "https://localhost:8080/"
        },
        "id": "Gbp0dVSLjpuw",
        "outputId": "405605f7-9be5-4860-b150-660071c6dfaa"
      },
      "execution_count": 89,
      "outputs": [
        {
          "output_type": "stream",
          "name": "stdout",
          "text": [
            "박지성 : 사원\n",
            "이정재 : 대리\n",
            "정우성 : 과장\n",
            "이병헌 : 부장\n",
            "김혜수 : 사장\n"
          ]
        }
      ]
    },
    {
      "cell_type": "markdown",
      "source": [
        "# 위키독스 300제 연습\n",
        "\n",
        "https://wikidocs.net/23905"
      ],
      "metadata": {
        "id": "ogUAJJihmH4u"
      }
    },
    {
      "cell_type": "code",
      "source": [
        "#201 \"비트코인\" 문자열을 화면에 출력하는 print_coin() 함수를 정의하라.\n",
        "\n",
        "def coin() :\n",
        "    return \"비트코인\"\n",
        "print(coin())\n",
        "\n",
        "# 202 비트코인 10번 시작하기\n",
        "\n",
        "for i in range(10):\n",
        "    print(coin())"
      ],
      "metadata": {
        "colab": {
          "base_uri": "https://localhost:8080/"
        },
        "id": "z3ArN0MioH5u",
        "outputId": "f752544d-7a07-4dd0-ff88-1ad3c7fdb783"
      },
      "execution_count": 97,
      "outputs": [
        {
          "output_type": "stream",
          "name": "stdout",
          "text": [
            "비트코인\n",
            "비트코인\n",
            "비트코인\n",
            "비트코인\n",
            "비트코인\n",
            "비트코인\n",
            "비트코인\n",
            "비트코인\n",
            "비트코인\n",
            "비트코인\n",
            "비트코인\n"
          ]
        }
      ]
    },
    {
      "cell_type": "code",
      "source": [
        "# 비트코인을 10번 출력하는 함수 만들기\n",
        "\n",
        "def coin_10():\n",
        "    for i in range(10):\n",
        "        print(\"비트코인\")\n",
        "\n",
        "coin_10()"
      ],
      "metadata": {
        "colab": {
          "base_uri": "https://localhost:8080/"
        },
        "id": "0kFWB_hSsJIu",
        "outputId": "3682286c-1315-4b3f-fd10-b6d3110918fd"
      },
      "execution_count": 101,
      "outputs": [
        {
          "output_type": "stream",
          "name": "stdout",
          "text": [
            "비트코인\n",
            "비트코인\n",
            "비트코인\n",
            "비트코인\n",
            "비트코인\n",
            "비트코인\n",
            "비트코인\n",
            "비트코인\n",
            "비트코인\n",
            "비트코인\n"
          ]
        }
      ]
    },
    {
      "cell_type": "code",
      "source": [
        "# 215 하나의 문자를 입력받아 문자열 끝에\n",
        "# \":D\" 스마일 문자열을 이어 붙여 출력하는 print_with_smile 함수를 정의하라.\n",
        "\n",
        "def smile():\n",
        "    inp_char = input()\n",
        "    print(f\"{inp_char} :D\")\n",
        "\n",
        "smile()\n",
        "\n",
        "# 216 215에서 정의한 함수를 호출하라. 파라미터는 \"안녕하세요\"로 입력하라.\n",
        "\n",
        "def smile1():\n",
        "    inp_hello = input()\n",
        "    print(f\"{inp_hello} :D\")\n",
        "\n",
        "smile1()"
      ],
      "metadata": {
        "colab": {
          "base_uri": "https://localhost:8080/"
        },
        "id": "puXWJYFAuAhl",
        "outputId": "0a8baac1-9843-4a27-9d61-d3f6c373f163"
      },
      "execution_count": 106,
      "outputs": [
        {
          "output_type": "stream",
          "name": "stdout",
          "text": [
            "나\n",
            "나 :D\n",
            "안녕하세요\n",
            "안녕하세요 :D\n"
          ]
        }
      ]
    },
    {
      "cell_type": "code",
      "source": [
        "# 217 현재 가격을 입력 받아 상한가 (30%)를 출력하는 print_upper_price 함수정의\n",
        "\n",
        "def up_price():\n",
        "    inp_price = input()\n",
        "    int_pri = int(inp_price)\n",
        "    upper_price = int_pri*1.3\n",
        "    print(f\"상한가는 {int_pri + upper_price} 입니다\")\n",
        "\n",
        "up_price()"
      ],
      "metadata": {
        "colab": {
          "base_uri": "https://localhost:8080/"
        },
        "id": "8SyxxWkotBxd",
        "outputId": "2395a359-107a-48dc-e65c-85d4659b9c14"
      },
      "execution_count": 110,
      "outputs": [
        {
          "output_type": "stream",
          "name": "stdout",
          "text": [
            "15\n",
            "상한가는 34.5 입니다\n"
          ]
        }
      ]
    },
    {
      "cell_type": "code",
      "source": [
        "# 218 두 개의 숫자를 입력받아 두 수의 합을 출력하는 print_sum 함수를 정의\n",
        "\n",
        "def mysum(a: int, b: int) -> int:\n",
        "    return a+b\n",
        "\n",
        "mysum(10,20)"
      ],
      "metadata": {
        "colab": {
          "base_uri": "https://localhost:8080/"
        },
        "id": "l7LpMHzpvqit",
        "outputId": "51e341e1-6827-4394-a057-9df2c199ad03"
      },
      "execution_count": 111,
      "outputs": [
        {
          "output_type": "execute_result",
          "data": {
            "text/plain": [
              "30"
            ]
          },
          "metadata": {},
          "execution_count": 111
        }
      ]
    },
    {
      "cell_type": "code",
      "source": [],
      "metadata": {
        "id": "QjY8F3P-wguY"
      },
      "execution_count": null,
      "outputs": []
    }
  ]
}