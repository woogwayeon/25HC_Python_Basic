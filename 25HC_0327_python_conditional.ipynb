{
  "nbformat": 4,
  "nbformat_minor": 0,
  "metadata": {
    "colab": {
      "provenance": [],
      "toc_visible": true,
      "authorship_tag": "ABX9TyOJ5O8yWXgQ2sCk2tUgSxb0",
      "include_colab_link": true
    },
    "kernelspec": {
      "name": "python3",
      "display_name": "Python 3"
    },
    "language_info": {
      "name": "python"
    }
  },
  "cells": [
    {
      "cell_type": "markdown",
      "metadata": {
        "id": "view-in-github",
        "colab_type": "text"
      },
      "source": [
        "<a href=\"https://colab.research.google.com/github/woogwayeon/25HC_Python_Basic/blob/master/25HC_0327_python_conditional.ipynb\" target=\"_parent\"><img src=\"https://colab.research.google.com/assets/colab-badge.svg\" alt=\"Open In Colab\"/></a>"
      ]
    },
    {
      "cell_type": "markdown",
      "source": [
        "# 제어구문\n",
        "\n",
        "  ❤️ 분기에 따라 프로그래밍의 흐름을 제어하는 문장 ( if, if-else if )\n",
        "\n",
        "  ❤️ 실행하는 횟수를 제어하는 ( for, while 등 )이 있다\n",
        "\n",
        "  python에서는 들여쓰기( indedntation )가 한 블럭이라고 생각하면 된다!\n",
        "\n",
        "## if 문"
      ],
      "metadata": {
        "id": "7bYO8dU3_CTH"
      }
    },
    {
      "cell_type": "code",
      "source": [
        "# if (제어문)\n",
        "money = True\n",
        "if money:\n",
        "   print(\"택시타자\")\n",
        "else :\n",
        "    print(\"걸어가자\")\n",
        "\n",
        "\n",
        "x = 3\n",
        "y = 3\n",
        "\n",
        "if x > y :\n",
        "    print(\"x가 y보다 크다\")\n",
        "else :\n",
        "    print(\"x가 y보다 작다\")\n"
      ],
      "metadata": {
        "colab": {
          "base_uri": "https://localhost:8080/"
        },
        "id": "nUV4YquL_RKz",
        "outputId": "f2cf70b2-7703-4be7-c277-2d4f82e13b37"
      },
      "execution_count": 1,
      "outputs": [
        {
          "output_type": "stream",
          "name": "stdout",
          "text": [
            "택시타자\n",
            "x가 y보다 작다\n"
          ]
        }
      ]
    },
    {
      "cell_type": "code",
      "source": [
        "from ast import Try\n",
        "money = 3000\n",
        "\n",
        "if money >= 3000 :\n",
        "    print(\"Texi\")\n",
        "else :\n",
        "    print(\"warking\")\n",
        "\n",
        "card = True\n",
        "if card :\n",
        "    print(\"택시타자\")\n",
        "else :\n",
        "    print(\"걸어가자\")"
      ],
      "metadata": {
        "colab": {
          "base_uri": "https://localhost:8080/"
        },
        "id": "rMZ4d4zTC01w",
        "outputId": "1606c34c-9b04-4815-eeb9-a4e952fbe57e"
      },
      "execution_count": 2,
      "outputs": [
        {
          "output_type": "stream",
          "name": "stdout",
          "text": [
            "Texi\n",
            "택시타자\n"
          ]
        }
      ]
    },
    {
      "cell_type": "markdown",
      "source": [
        "### in, not in\n",
        "\n",
        "특정 리스트 안에 어떤 동작이 있을 때 이 방법을 사용할 수 있다"
      ],
      "metadata": {
        "id": "lLH_fd5aDc6f"
      }
    },
    {
      "cell_type": "code",
      "source": [
        "# in / not in\n",
        "\n",
        "print('j' in 'python')\n",
        "print(1 not in [1,2,3])\n",
        "print('a' in 'aloha')"
      ],
      "metadata": {
        "colab": {
          "base_uri": "https://localhost:8080/"
        },
        "id": "eGRzLSwXDh9P",
        "outputId": "ae08b6fa-db7a-43b1-d528-da0666cd8b14"
      },
      "execution_count": 4,
      "outputs": [
        {
          "output_type": "stream",
          "name": "stdout",
          "text": [
            "False\n",
            "False\n",
            "True\n"
          ]
        }
      ]
    },
    {
      "cell_type": "markdown",
      "source": [
        "조건 판단하는 부분에서 주머니에 돈이 있는지 판단하고 골라야 할 상황의 개수를 판단하다 (2^n-1) 해주면 된다"
      ],
      "metadata": {
        "id": "7egsUOxYDxTP"
      }
    },
    {
      "cell_type": "code",
      "source": [
        "pocket = ['money', 'callphone']\n",
        "card = True\n",
        "\n",
        "if money in pocket:\n",
        "    print(\"택시 타고 가도 된다\")\n",
        "else :\n",
        "    if card :\n",
        "        print(\"택시타고가라\")\n",
        "    else :\n",
        "        print(\"걸어가라\")"
      ],
      "metadata": {
        "colab": {
          "base_uri": "https://localhost:8080/"
        },
        "id": "0qjxuR-mEP2L",
        "outputId": "438d3244-0162-4d80-e088-7d3f3657f65d"
      },
      "execution_count": 5,
      "outputs": [
        {
          "output_type": "stream",
          "name": "stdout",
          "text": [
            "택시타고가라\n"
          ]
        }
      ]
    },
    {
      "cell_type": "code",
      "source": [
        "# else if -> elif\n",
        "\n",
        "pocket = ['paper', 'phone']\n",
        "card = True\n",
        "\n",
        "if 'money' in pocket :\n",
        "    print(\"Texi\")\n",
        "elif card :\n",
        "    print(\"texi\")\n",
        "else :\n",
        "    print(\"walking\")\n",
        "\n",
        "# money 가 있는지 물어봐서 있으면 택시타고 아니면 또 물어봄 > 여기서 카드 있으면 택시, 아니면 걷기\n",
        "# 한 세번 정도까지만 maximum이고 너무 많이 else if를 중첩시키는 것은 좋지 않다!\n",
        "# swich - case 로 나열하는게 더 낫겠네요"
      ],
      "metadata": {
        "colab": {
          "base_uri": "https://localhost:8080/"
        },
        "id": "bQWG9Z8IEpOI",
        "outputId": "12f753b1-3c82-45d9-e9ee-6a0832d5c7c7"
      },
      "execution_count": 7,
      "outputs": [
        {
          "output_type": "stream",
          "name": "stdout",
          "text": [
            "texi\n"
          ]
        }
      ]
    },
    {
      "cell_type": "code",
      "source": [
        "# 코드를 효율적으로 짜보자\n",
        "\n",
        "score = 60;\n",
        "\n",
        "if score >= 60:\n",
        "    message = \"success\"\n",
        "    print(message)\n",
        "else :\n",
        "    message = \"faillure\"\n",
        "    print(message)\n",
        "\n",
        "\n",
        "# 이 코드를 문장처럼 바꿔보자\n",
        "\n",
        "message = \"success\" if score >= 60 else \"faliure\"\n",
        "print(message)"
      ],
      "metadata": {
        "colab": {
          "base_uri": "https://localhost:8080/"
        },
        "id": "up_3vPbAFJbR",
        "outputId": "3d4a01fe-7c20-453a-ba37-48a425a8a86a"
      },
      "execution_count": 9,
      "outputs": [
        {
          "output_type": "stream",
          "name": "stdout",
          "text": [
            "success\n",
            "success\n"
          ]
        }
      ]
    },
    {
      "cell_type": "markdown",
      "source": [
        "### while\n",
        "반복해서 문장을 수행해야 할 경우 while 문을 사용한다!\n",
        "\n",
        "while 문을 사용할 때는 조건을 꼭 넣어줘야 한다 안그러면 조건이 true일때 while이 계속 도니까..\n",
        "\n",
        "즉 주어진 조건이 들어올 때 까지 리스트를 반복함"
      ],
      "metadata": {
        "id": "AqJu8jsbGzfQ"
      }
    },
    {
      "cell_type": "code",
      "source": [
        "# 10번 찍어 안넘어가는 나무 없다\n",
        "\n",
        "treeHit = 0\n",
        "\n",
        "while treeHit < 10 :\n",
        "\n",
        "    treeHit += 1\n",
        "    print(f\"나무를 [ {treeHit} ] 번 찍었습니다\\n\")\n",
        "\n",
        "    if treeHit == 10:\n",
        "        print(\"나무가 찍혔습니다(?)ㅋㅋㅋㅋ\")"
      ],
      "metadata": {
        "colab": {
          "base_uri": "https://localhost:8080/"
        },
        "id": "lgtXz8-CHAAH",
        "outputId": "31e04f3d-5743-413d-f61f-7fd8d12f6120"
      },
      "execution_count": 14,
      "outputs": [
        {
          "output_type": "stream",
          "name": "stdout",
          "text": [
            "나무를 [ 1 ] 번 찍었습니다\n",
            "\n",
            "나무를 [ 2 ] 번 찍었습니다\n",
            "\n",
            "나무를 [ 3 ] 번 찍었습니다\n",
            "\n",
            "나무를 [ 4 ] 번 찍었습니다\n",
            "\n",
            "나무를 [ 5 ] 번 찍었습니다\n",
            "\n",
            "나무를 [ 6 ] 번 찍었습니다\n",
            "\n",
            "나무를 [ 7 ] 번 찍었습니다\n",
            "\n",
            "나무를 [ 8 ] 번 찍었습니다\n",
            "\n",
            "나무를 [ 9 ] 번 찍었습니다\n",
            "\n",
            "나무를 [ 10 ] 번 찍었습니다\n",
            "\n",
            "나무가 찍혔습니다(?)ㅋㅋㅋㅋ\n"
          ]
        }
      ]
    },
    {
      "cell_type": "code",
      "source": [
        "# 여러가지 선택지 중 하나를 선택해서 입력받기\n",
        "\n",
        "prompt = \"\"\"\n",
        "    1. add\n",
        "    2. del\n",
        "    3. List\n",
        "    4. Quit\n",
        "\n",
        "    enter number :\n",
        "        \"\"\"\n",
        "\n",
        "number = 0\n",
        "\n",
        "while number != 4:\n",
        "    print(prompt)\n",
        "    number = int(input())"
      ],
      "metadata": {
        "colab": {
          "base_uri": "https://localhost:8080/"
        },
        "id": "RO9IEXmZH26n",
        "outputId": "337077fa-4c0b-4deb-c8d1-6b08632cbce5"
      },
      "execution_count": 17,
      "outputs": [
        {
          "name": "stdout",
          "output_type": "stream",
          "text": [
            "\n",
            "    1. add\n",
            "    2. del\n",
            "    3. List\n",
            "    4. Quit\n",
            "\n",
            "    enter number : \n",
            "        \n",
            "4\n"
          ]
        }
      ]
    },
    {
      "cell_type": "code",
      "source": [
        "# break를 갖고 while문을 강제로 빠져나가기\n",
        "\n",
        "coffee = 10\n",
        "money = 300\n",
        "while money :\n",
        "    print(\"돈을 받았으니 커피를 하나 드립니당\")\n",
        "    coffee = coffee - 1\n",
        "    print(f\"남은 커피의 양은 [ {coffee} ]잔 입니다\\n\")\n",
        "\n",
        "    if coffee == 0:\n",
        "        print(\"sold-out\\n\")\n",
        "        break\n",
        "\n",
        "print(\"오늘 영업이 끝났습니다\")"
      ],
      "metadata": {
        "colab": {
          "base_uri": "https://localhost:8080/"
        },
        "id": "Mt4pFQCdJFOw",
        "outputId": "343a7719-4604-4167-9aaf-8bd714399316"
      },
      "execution_count": 18,
      "outputs": [
        {
          "output_type": "stream",
          "name": "stdout",
          "text": [
            "돈을 받았으니 커피를 하나 드립니당\n",
            "남은 커피의 양은 [ 9 ]잔 입니다\n",
            "\n",
            "돈을 받았으니 커피를 하나 드립니당\n",
            "남은 커피의 양은 [ 8 ]잔 입니다\n",
            "\n",
            "돈을 받았으니 커피를 하나 드립니당\n",
            "남은 커피의 양은 [ 7 ]잔 입니다\n",
            "\n",
            "돈을 받았으니 커피를 하나 드립니당\n",
            "남은 커피의 양은 [ 6 ]잔 입니다\n",
            "\n",
            "돈을 받았으니 커피를 하나 드립니당\n",
            "남은 커피의 양은 [ 5 ]잔 입니다\n",
            "\n",
            "돈을 받았으니 커피를 하나 드립니당\n",
            "남은 커피의 양은 [ 4 ]잔 입니다\n",
            "\n",
            "돈을 받았으니 커피를 하나 드립니당\n",
            "남은 커피의 양은 [ 3 ]잔 입니다\n",
            "\n",
            "돈을 받았으니 커피를 하나 드립니당\n",
            "남은 커피의 양은 [ 2 ]잔 입니다\n",
            "\n",
            "돈을 받았으니 커피를 하나 드립니당\n",
            "남은 커피의 양은 [ 1 ]잔 입니다\n",
            "\n",
            "돈을 받았으니 커피를 하나 드립니당\n",
            "남은 커피의 양은 [ 0 ]잔 입니다\n",
            "\n",
            "sold-out\n",
            "\n",
            "오늘 영업이 끝났습니다\n"
          ]
        }
      ]
    },
    {
      "cell_type": "code",
      "source": [
        "# while문의 맨 처음으로 돌아가기\n",
        "a = 0\n",
        "\n",
        "while a < 10 :\n",
        "\n",
        "    a += 1\n",
        "\n",
        "    if a % 2 == 0 :\n",
        "\n",
        "        continue\n",
        "\n",
        "    print(a)"
      ],
      "metadata": {
        "colab": {
          "base_uri": "https://localhost:8080/"
        },
        "id": "p-tkWB8uKRAw",
        "outputId": "04d62dfe-2b62-421e-d92d-36d875ccc00b"
      },
      "execution_count": 20,
      "outputs": [
        {
          "output_type": "stream",
          "name": "stdout",
          "text": [
            "1\n",
            "3\n",
            "5\n",
            "7\n",
            "9\n"
          ]
        }
      ]
    },
    {
      "cell_type": "markdown",
      "source": [
        "## for 문\n",
        "\n",
        "![스크린샷 2025-03-27 103407.png](data:image/png;base64,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)\n",
        "리스트나 튜플, 문자열의 첫번째 요소부터 마지막 요소까지 차례대로 변수에 대입되어 실행된다!\n",
        "\n",
        "파이선에서 for문은 이미 만들어진 것에서 반복문을 실행해야 한다"
      ],
      "metadata": {
        "id": "hNVUnKKLOmli"
      }
    },
    {
      "cell_type": "code",
      "source": [
        "# for문\n",
        "\n",
        "test_list = ['one', 'two', 'three']\n",
        "\n",
        "for i in test_list:\n",
        "    print(i)"
      ],
      "metadata": {
        "colab": {
          "base_uri": "https://localhost:8080/"
        },
        "id": "B_-65i_COx0f",
        "outputId": "2261dde8-0a16-4e30-ca18-1164e4bf1511"
      },
      "execution_count": 22,
      "outputs": [
        {
          "output_type": "stream",
          "name": "stdout",
          "text": [
            "one\n",
            "two\n",
            "three\n"
          ]
        }
      ]
    },
    {
      "cell_type": "code",
      "source": [
        "# 튜플을 리스트에 담아서 사용하는 for\n",
        "\n",
        "tuple_list = [(1,2), (3,4), (5,6)]\n",
        "\n",
        "for i in tuple_list:\n",
        "    print(i)\n",
        "\n",
        "print(\"\\n\")\n",
        "\n",
        "# 튜플의 특성을 이용해서 계산함\n",
        "for (first, second) in tuple_list :\n",
        "    print(first + second)"
      ],
      "metadata": {
        "colab": {
          "base_uri": "https://localhost:8080/"
        },
        "id": "hv7v9IHVPZCZ",
        "outputId": "d99c08fc-4681-498c-f14e-cc9864a783c5"
      },
      "execution_count": 27,
      "outputs": [
        {
          "output_type": "stream",
          "name": "stdout",
          "text": [
            "(1, 2)\n",
            "(3, 4)\n",
            "(5, 6)\n",
            "\n",
            "\n",
            "3\n",
            "7\n",
            "11\n"
          ]
        }
      ]
    },
    {
      "cell_type": "code",
      "source": [
        "# 학생의 시험점수로 합격점 판단하기\n",
        "\n",
        "marks = [90, 25, 67, 45, 80]\n",
        "number = 0\n",
        "\n",
        "for mark in marks :\n",
        "    number += 1\n",
        "    if (mark >= 60) :\n",
        "        print(f\"[ {number} ] 학생은 합격이에요\")\n",
        "    else :\n",
        "        print(f\"[ {number} ] 학생은 불합격이에요\")\n",
        "\n",
        "\n",
        "# 한줄로 바꿔보자\n",
        "\n",
        "print(\"\\n변수 하나를 사용한 for문\\n\")\n",
        "number = 0;\n",
        "\n",
        "for mark in marks:\n",
        "    number += 1\n",
        "    result = \"합격\" if (mark >= 60) else \"불합격\"\n",
        "    print(f\"[ {number} ]학생은 [ {result} ] 입니다\")\n"
      ],
      "metadata": {
        "colab": {
          "base_uri": "https://localhost:8080/"
        },
        "id": "ybl1FthSP8tQ",
        "outputId": "506cbd25-4b9c-4338-f2ea-538ea4d24852"
      },
      "execution_count": 36,
      "outputs": [
        {
          "output_type": "stream",
          "name": "stdout",
          "text": [
            "[ 1 ] 학생은 합격이에요\n",
            "[ 2 ] 학생은 불합격이에요\n",
            "[ 3 ] 학생은 합격이에요\n",
            "[ 4 ] 학생은 불합격이에요\n",
            "[ 5 ] 학생은 합격이에요\n",
            "\n",
            "변수 하나를 사용한 for문\n",
            "\n",
            "[ 1 ]학생은 [ 합격 ] 입니다\n",
            "[ 2 ]학생은 [ 불합격 ] 입니다\n",
            "[ 3 ]학생은 [ 합격 ] 입니다\n",
            "[ 4 ]학생은 [ 불합격 ] 입니다\n",
            "[ 5 ]학생은 [ 합격 ] 입니다\n"
          ]
        }
      ]
    },
    {
      "cell_type": "code",
      "source": [
        "# range\n",
        "\n",
        "a = range(10)\n",
        "# 0-9까지의 목록이고 for 구문에서 쓸 수 있지만 그냥 쓰려면 자료형 타입 확정이 필요하다\n",
        "print(a)\n",
        "\n",
        "b = range(1, 11, 2)\n",
        "print(list(b)) # 자료형 확정을 지어줌"
      ],
      "metadata": {
        "colab": {
          "base_uri": "https://localhost:8080/"
        },
        "id": "62-M-EcFSTmc",
        "outputId": "c0626f96-fa51-46be-bccf-84885f867270"
      },
      "execution_count": 40,
      "outputs": [
        {
          "output_type": "stream",
          "name": "stdout",
          "text": [
            "range(0, 10)\n",
            "[1, 3, 5, 7, 9]\n"
          ]
        }
      ]
    },
    {
      "cell_type": "code",
      "source": [
        "# add라는 변수를 두고 range를 써봅시다!\n",
        "\n",
        "add = 0\n",
        "for i in range(1,11):\n",
        "    add = add + i\n",
        "\n",
        "print(add)"
      ],
      "metadata": {
        "colab": {
          "base_uri": "https://localhost:8080/"
        },
        "id": "Ha53XDZbTt_p",
        "outputId": "779b90c9-1c63-4aab-e5c6-99141f15bb3c"
      },
      "execution_count": 42,
      "outputs": [
        {
          "output_type": "stream",
          "name": "stdout",
          "text": [
            "55\n"
          ]
        }
      ]
    },
    {
      "cell_type": "code",
      "source": [
        "# 이중 for문을 이용한 구구단 찍기\n",
        "\n",
        "for i in range(2, 10):\n",
        "    for j in range(1, 10):\n",
        "        print(i*j, end=\"\\t\")  # end = '' 여기 안에 끝날 때 할 문자열(?) 넣어줌 된다\n",
        "    print('')"
      ],
      "metadata": {
        "colab": {
          "base_uri": "https://localhost:8080/"
        },
        "id": "OsXAj4_1UYpI",
        "outputId": "706304b2-9dc5-4267-e550-8b4a42991623"
      },
      "execution_count": 45,
      "outputs": [
        {
          "output_type": "stream",
          "name": "stdout",
          "text": [
            "2\t4\t6\t8\t10\t12\t14\t16\t18\t\n",
            "3\t6\t9\t12\t15\t18\t21\t24\t27\t\n",
            "4\t8\t12\t16\t20\t24\t28\t32\t36\t\n",
            "5\t10\t15\t20\t25\t30\t35\t40\t45\t\n",
            "6\t12\t18\t24\t30\t36\t42\t48\t54\t\n",
            "7\t14\t21\t28\t35\t42\t49\t56\t63\t\n",
            "8\t16\t24\t32\t40\t48\t56\t64\t72\t\n",
            "9\t18\t27\t36\t45\t54\t63\t72\t81\t\n"
          ]
        }
      ]
    },
    {
      "cell_type": "markdown",
      "source": [
        "### for 구문에 쓸 수 있는 주료 자료형들\n",
        "\n",
        "    ❤️ 문자열 리스트, 슬라이싱해서 가능함\n",
        "    ❤️ 튜플 자료형\n",
        "    ❤️ 딕셔너리 자료형\n",
        "    ❤️ set 자료형\n",
        "\n",
        "    ➡️ iterater (다음 것을 호출, 즉 반복호출이 가능한가?)\n",
        "\n",
        "### iterable"
      ],
      "metadata": {
        "id": "zk10XPGaWK_T"
      }
    },
    {
      "cell_type": "code",
      "source": [
        "# enumerate : 인덱스와 값을 튜플로 변환함\n",
        "\n",
        "a = \"Hello\"\n",
        "for x, i in enumerate(list(a)):\n",
        "    print(x, i)\n",
        "\n",
        "print(\"\")\n",
        "\n",
        "test = list(enumerate(list(a)))\n",
        "print(test)"
      ],
      "metadata": {
        "colab": {
          "base_uri": "https://localhost:8080/"
        },
        "id": "Hjtqf08NXMqx",
        "outputId": "25659e75-677c-4c8b-8f44-be73a52558b5"
      },
      "execution_count": 49,
      "outputs": [
        {
          "output_type": "stream",
          "name": "stdout",
          "text": [
            "0 H\n",
            "1 e\n",
            "2 l\n",
            "3 l\n",
            "4 o\n",
            "\n",
            "[(0, 'H'), (1, 'e'), (2, 'l'), (3, 'l'), (4, 'o')]\n"
          ]
        }
      ]
    },
    {
      "cell_type": "code",
      "source": [
        "# zip : 리스트 여러개를 주었을 때 가로로 잘라서 주는 거라고 생각하면 된다\n",
        "\n",
        "stuNum = ['123', '456', '789']\n",
        "stuName = ['서연', '아인', '정근']\n",
        "\n",
        "stu = list(zip(stuNum, stuName))\n",
        "print(stu)"
      ],
      "metadata": {
        "colab": {
          "base_uri": "https://localhost:8080/"
        },
        "id": "byX7ddqHXpZj",
        "outputId": "16007f5e-40fd-4a11-8536-0459e0802989"
      },
      "execution_count": 50,
      "outputs": [
        {
          "output_type": "stream",
          "name": "stdout",
          "text": [
            "[('123', '서연'), ('456', '아인'), ('789', '정근')]\n"
          ]
        }
      ]
    },
    {
      "cell_type": "code",
      "source": [
        "# next\n",
        "\n",
        "it = iter([1,2,3])\n",
        "\n",
        "print(next(it))\n",
        "print(next(it))\n",
        "print(next(it))"
      ],
      "metadata": {
        "colab": {
          "base_uri": "https://localhost:8080/"
        },
        "id": "jhsyiQo0YZxh",
        "outputId": "83772b89-c787-404b-eab8-704fafff7363"
      },
      "execution_count": 58,
      "outputs": [
        {
          "output_type": "stream",
          "name": "stdout",
          "text": [
            "1\n",
            "2\n",
            "3\n"
          ]
        }
      ]
    },
    {
      "cell_type": "markdown",
      "source": [
        "    ❤️ iterable : 반복 가능한 객체로 list, str, dict, set ...\n",
        "    ❤️ iterator : 실제로 값을 하나씩 꺼내는 객체 -> iter(list())의 결과"
      ],
      "metadata": {
        "id": "fHKqkvXXY6Ah"
      }
    },
    {
      "cell_type": "code",
      "source": [
        "# python 은 객체지향 언어입니다\n",
        "\n",
        "a = 1\n",
        "print(type(a))"
      ],
      "metadata": {
        "colab": {
          "base_uri": "https://localhost:8080/"
        },
        "id": "7vDeeGWyZyNw",
        "outputId": "fa374bd3-759e-4f75-de50-4b3288a2be7f"
      },
      "execution_count": 59,
      "outputs": [
        {
          "output_type": "stream",
          "name": "stdout",
          "text": [
            "<class 'int'>\n"
          ]
        }
      ]
    }
  ]
}