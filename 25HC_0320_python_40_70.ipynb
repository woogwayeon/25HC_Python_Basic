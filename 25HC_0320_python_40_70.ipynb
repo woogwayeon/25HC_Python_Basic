{
  "nbformat": 4,
  "nbformat_minor": 0,
  "metadata": {
    "colab": {
      "provenance": [],
      "authorship_tag": "ABX9TyNMqlIcVYexjZ0KfLp3K+D5",
      "include_colab_link": true
    },
    "kernelspec": {
      "name": "python3",
      "display_name": "Python 3"
    },
    "language_info": {
      "name": "python"
    }
  },
  "cells": [
    {
      "cell_type": "markdown",
      "metadata": {
        "id": "view-in-github",
        "colab_type": "text"
      },
      "source": [
        "<a href=\"https://colab.research.google.com/github/woogwayeon/25HC_Python_Basic/blob/master/25HC_0320_python_40_70.ipynb\" target=\"_parent\"><img src=\"https://colab.research.google.com/assets/colab-badge.svg\" alt=\"Open In Colab\"/></a>"
      ]
    },
    {
      "cell_type": "markdown",
      "source": [
        "## 위키독스 파이선 기초 300제 (40-30)\n",
        "\n",
        "1.   항목 추가\n",
        "2.   항목 추가\n",
        "\n",
        "\n",
        "https://wikidocs.net/7022"
      ],
      "metadata": {
        "id": "FEBI54fraBU5"
      }
    },
    {
      "cell_type": "code",
      "source": [
        "# 문자열 인덱싱\n",
        "letters = 'python'\n",
        "\n",
        "print(letters[0], letters[2])"
      ],
      "metadata": {
        "colab": {
          "base_uri": "https://localhost:8080/"
        },
        "id": "RfQZRhdnaJTk",
        "outputId": "a7732168-70c7-48b8-f82d-7972165b4c41"
      },
      "execution_count": null,
      "outputs": [
        {
          "output_type": "stream",
          "name": "stdout",
          "text": [
            "p t\n"
          ]
        }
      ]
    },
    {
      "cell_type": "code",
      "source": [
        "# 문자열 슬라이싱\n",
        "license_plate = \"24가 2210\"\n",
        "print(license_plate[4:])\n",
        "print(license_plate[-4:])"
      ],
      "metadata": {
        "colab": {
          "base_uri": "https://localhost:8080/"
        },
        "id": "fZqR6wPnaVCb",
        "outputId": "dc1bc81c-6c8b-466a-83b8-aee99ae75d2e"
      },
      "execution_count": null,
      "outputs": [
        {
          "output_type": "stream",
          "name": "stdout",
          "text": [
            "2210\n",
            "2210\n"
          ]
        }
      ]
    },
    {
      "cell_type": "code",
      "source": [
        "# 홀만 출력\n",
        "string = \"홀짝홀짝홀짝\"\n",
        "print(string[0::2])\n",
        "print(string[1::2])"
      ],
      "metadata": {
        "colab": {
          "base_uri": "https://localhost:8080/"
        },
        "id": "QgoniPalajSz",
        "outputId": "6e346a10-f0cb-4244-b16e-dfc66316b57b"
      },
      "execution_count": null,
      "outputs": [
        {
          "output_type": "stream",
          "name": "stdout",
          "text": [
            "홀홀홀\n",
            "짝짝짝\n"
          ]
        }
      ]
    },
    {
      "cell_type": "code",
      "source": [
        "# 문자열 슬라이싱\n",
        "string = \"PYTHON\"\n",
        "print(string[::-1])"
      ],
      "metadata": {
        "colab": {
          "base_uri": "https://localhost:8080/"
        },
        "id": "Reh_HyXtbEqU",
        "outputId": "4a86af9d-cc6c-4226-e21d-e6a6b7f0c6af"
      },
      "execution_count": null,
      "outputs": [
        {
          "output_type": "stream",
          "name": "stdout",
          "text": [
            "NOHTYP\n"
          ]
        }
      ]
    },
    {
      "cell_type": "code",
      "source": [
        "# 문자열 치환\n",
        "phone_number = \"010-1111-2222\"\n",
        "print(phone_number.replace('-',\" \"))"
      ],
      "metadata": {
        "colab": {
          "base_uri": "https://localhost:8080/"
        },
        "id": "Vb3vQx8YbY3V",
        "outputId": "fbeb9101-ab56-4a6f-c6cc-31762e002faa"
      },
      "execution_count": null,
      "outputs": [
        {
          "output_type": "stream",
          "name": "stdout",
          "text": [
            "010 1111 2222\n"
          ]
        }
      ]
    },
    {
      "cell_type": "code",
      "source": [
        "# 문자열 다루기\n",
        "url = \"http://sharebook.kr\"\n",
        "print(url[-2:])"
      ],
      "metadata": {
        "colab": {
          "base_uri": "https://localhost:8080/"
        },
        "id": "hZxudseSb6jF",
        "outputId": "a713c2f4-fc17-4b82-804b-3974419d5041"
      },
      "execution_count": null,
      "outputs": [
        {
          "output_type": "stream",
          "name": "stdout",
          "text": [
            "kr\n"
          ]
        }
      ]
    },
    {
      "cell_type": "code",
      "source": [
        "# 문자열은 immutable\n",
        "lang = 'python'\n",
        "lang[0] = 'P'\n",
        "print(lang)\n",
        "\n",
        "문자열은 immutable이라 오류난다!"
      ],
      "metadata": {
        "colab": {
          "base_uri": "https://localhost:8080/",
          "height": 221
        },
        "id": "IPdapQC6cGVe",
        "outputId": "9585f63e-2550-49b2-c81c-07c587fd3f3f"
      },
      "execution_count": null,
      "outputs": [
        {
          "output_type": "error",
          "ename": "TypeError",
          "evalue": "'str' object does not support item assignment",
          "traceback": [
            "\u001b[0;31m---------------------------------------------------------------------------\u001b[0m",
            "\u001b[0;31mTypeError\u001b[0m                                 Traceback (most recent call last)",
            "\u001b[0;32m<ipython-input-29-adc45f157d5e>\u001b[0m in \u001b[0;36m<cell line: 0>\u001b[0;34m()\u001b[0m\n\u001b[1;32m      1\u001b[0m \u001b[0;31m# 문자열은 immutable\u001b[0m\u001b[0;34m\u001b[0m\u001b[0;34m\u001b[0m\u001b[0m\n\u001b[1;32m      2\u001b[0m \u001b[0mlang\u001b[0m \u001b[0;34m=\u001b[0m \u001b[0;34m'python'\u001b[0m\u001b[0;34m\u001b[0m\u001b[0;34m\u001b[0m\u001b[0m\n\u001b[0;32m----> 3\u001b[0;31m \u001b[0mlang\u001b[0m\u001b[0;34m[\u001b[0m\u001b[0;36m0\u001b[0m\u001b[0;34m]\u001b[0m \u001b[0;34m=\u001b[0m \u001b[0;34m'P'\u001b[0m\u001b[0;34m\u001b[0m\u001b[0;34m\u001b[0m\u001b[0m\n\u001b[0m\u001b[1;32m      4\u001b[0m \u001b[0mprint\u001b[0m\u001b[0;34m(\u001b[0m\u001b[0mlang\u001b[0m\u001b[0;34m)\u001b[0m\u001b[0;34m\u001b[0m\u001b[0;34m\u001b[0m\u001b[0m\n\u001b[1;32m      5\u001b[0m \u001b[0;34m\u001b[0m\u001b[0m\n",
            "\u001b[0;31mTypeError\u001b[0m: 'str' object does not support item assignment"
          ]
        }
      ]
    },
    {
      "cell_type": "code",
      "source": [
        "# replace 메서드 > 소문자 a를 대문자 A로 변경하세요\n",
        "string = 'abcdfe2a354a32a'\n",
        "string.replace('a','A')"
      ],
      "metadata": {
        "colab": {
          "base_uri": "https://localhost:8080/",
          "height": 35
        },
        "id": "W0Y9AWHbcXyY",
        "outputId": "10fad9ac-5267-47f7-8308-e558fa0b7233"
      },
      "execution_count": null,
      "outputs": [
        {
          "output_type": "execute_result",
          "data": {
            "text/plain": [
              "'Abcdfe2A354A32A'"
            ],
            "application/vnd.google.colaboratory.intrinsic+json": {
              "type": "string"
            }
          },
          "metadata": {},
          "execution_count": 30
        }
      ]
    },
    {
      "cell_type": "code",
      "source": [
        "# replace 메서드\n",
        "string = 'abcd'\n",
        "change = string.replace('b', 'B') # 변수에 저장해서 뽑아보자\n",
        "string.replace() # 리턴값이 있음\n",
        "print(change)\n",
        "\n",
        "# aBcd"
      ],
      "metadata": {
        "colab": {
          "base_uri": "https://localhost:8080/"
        },
        "id": "COAE2NqPcwuq",
        "outputId": "6892d478-0bf7-4ba6-bb12-39820622e134"
      },
      "execution_count": null,
      "outputs": [
        {
          "output_type": "stream",
          "name": "stdout",
          "text": [
            "aBcd\n"
          ]
        }
      ]
    },
    {
      "cell_type": "code",
      "source": [
        "# 문자열 합치기\n",
        "a = \"3\"\n",
        "b = \"4\"\n",
        "print(a + b)\n",
        "\n",
        "# 실행결과 34"
      ],
      "metadata": {
        "colab": {
          "base_uri": "https://localhost:8080/"
        },
        "id": "N2RAnDiVc5-Z",
        "outputId": "bfae2bd1-0cc8-42ab-aee1-c52e34ac0314"
      },
      "execution_count": null,
      "outputs": [
        {
          "output_type": "stream",
          "name": "stdout",
          "text": [
            "34\n"
          ]
        }
      ]
    },
    {
      "cell_type": "code",
      "source": [
        "# 문자열 곱하기\n",
        "print(\"Hi\" * 3)\n",
        "\n",
        "# 실행결과 HiHiHi"
      ],
      "metadata": {
        "colab": {
          "base_uri": "https://localhost:8080/"
        },
        "id": "JwX83gBTdfdM",
        "outputId": "02e7dd3a-aa88-48ec-af8b-5d31d55b6184"
      },
      "execution_count": null,
      "outputs": [
        {
          "output_type": "stream",
          "name": "stdout",
          "text": [
            "HiHiHi\n"
          ]
        }
      ]
    },
    {
      "cell_type": "code",
      "source": [
        "# 문자열 곱하기 - 화면에 '-'를 80개 출력하세요\n",
        "print(\"-\"*80)"
      ],
      "metadata": {
        "colab": {
          "base_uri": "https://localhost:8080/"
        },
        "id": "GIDG7K52dk_7",
        "outputId": "5a977d3e-b8d9-40a9-dbdd-051a50a7ad40"
      },
      "execution_count": null,
      "outputs": [
        {
          "output_type": "stream",
          "name": "stdout",
          "text": [
            "--------------------------------------------------------------------------------\n"
          ]
        }
      ]
    },
    {
      "cell_type": "code",
      "source": [
        "# 문자열 곱하기\n",
        "t1 = \"python\"\n",
        "t2 = \"java\"\n",
        "print((t1+ \" \" +t2+ \" \")*4)"
      ],
      "metadata": {
        "colab": {
          "base_uri": "https://localhost:8080/"
        },
        "id": "CzeP80rjduXS",
        "outputId": "d9943133-e756-4838-81ea-0cd1aceb3c02"
      },
      "execution_count": null,
      "outputs": [
        {
          "output_type": "stream",
          "name": "stdout",
          "text": [
            "python java python java python java python java \n"
          ]
        }
      ]
    },
    {
      "cell_type": "code",
      "source": [
        "# 문자열 출력\n",
        "name1 = \"김민수\"\n",
        "age1 = 10\n",
        "name2 = \"이철희\"\n",
        "age2 = 13\n",
        "\n",
        "print(\"이름 : %s 나이 : %d\" %(name1, age1))\n",
        "print(\"이름 : %s 나이 : %d\" %(name2, age2))"
      ],
      "metadata": {
        "colab": {
          "base_uri": "https://localhost:8080/"
        },
        "id": "kf5YxVyZd9kk",
        "outputId": "17d96198-366e-4103-8fb4-dde68ad304a9"
      },
      "execution_count": null,
      "outputs": [
        {
          "output_type": "stream",
          "name": "stdout",
          "text": [
            "이름 : 김민수 나이 : 10\n",
            "이름 : 이철희 나이 : 13\n"
          ]
        }
      ]
    },
    {
      "cell_type": "code",
      "source": [
        "# 문자열 출력 : 문자열의 format( ) 메서드를 사용해서 035번 문제를 다시 풀어보세요\n",
        "print(\"이름 : {} 나이 : {}\" .format(name1, age1))\n",
        "print(\"이름 : {} 나이 : {}\" .format(name2, age2))"
      ],
      "metadata": {
        "colab": {
          "base_uri": "https://localhost:8080/"
        },
        "id": "TswURkISeOgk",
        "outputId": "6f039b96-4f9f-48e3-b3f4-6c639862946a"
      },
      "execution_count": null,
      "outputs": [
        {
          "output_type": "stream",
          "name": "stdout",
          "text": [
            "이름 : 김민수 나이 : 10\n",
            "이름 : 이철희 나이 : 13\n"
          ]
        }
      ]
    },
    {
      "cell_type": "code",
      "source": [
        "# 37 문자열 출력 : 파이썬 3.6부터 지원하는 f-string을 사용해서 035번 문제를 다시 풀어보세요\n",
        "print(f\"이름 : {name1} 나이: {age1}\")\n",
        "print(f\"이름 : {name2} 나이: {age2}\")"
      ],
      "metadata": {
        "colab": {
          "base_uri": "https://localhost:8080/"
        },
        "id": "lWPnp1HXe9Fu",
        "outputId": "f7908b11-c739-4531-8f75-08f9e67ef73d"
      },
      "execution_count": null,
      "outputs": [
        {
          "output_type": "stream",
          "name": "stdout",
          "text": [
            "이름 : 김민수 나이: 10\n",
            "이름 : 이철희 나이: 13\n"
          ]
        }
      ]
    },
    {
      "cell_type": "code",
      "source": [
        "# 38 컴마 제거하기 : 삼성전자의 상장주식수가 다음과 같습니다. 컴마를 제거한 후 이를 정수 타입으로 변환\n",
        "stock = \"5,969,782,550\"\n",
        "\n",
        "com = stock.replace(\",\",\"\")\n",
        "num = int(com)\n",
        "print(num, type(num))"
      ],
      "metadata": {
        "colab": {
          "base_uri": "https://localhost:8080/"
        },
        "id": "xUOSRqhRfm3I",
        "outputId": "11c9b810-8b19-4a75-8442-d9144e5503ee"
      },
      "execution_count": null,
      "outputs": [
        {
          "output_type": "stream",
          "name": "stdout",
          "text": [
            "5969782550 <class 'int'>\n"
          ]
        }
      ]
    },
    {
      "cell_type": "code",
      "source": [
        "#39 문자열 슬라이싱\n",
        "qurter = \"2020/03(E) (IFRS연결)\"\n",
        "print(qurter[0:7])"
      ],
      "metadata": {
        "colab": {
          "base_uri": "https://localhost:8080/"
        },
        "id": "Qn4DcNnNf7Cw",
        "outputId": "fe259e9a-13fd-479d-9954-a1fbb2a2c7f8"
      },
      "execution_count": null,
      "outputs": [
        {
          "output_type": "stream",
          "name": "stdout",
          "text": [
            "2020/03\n"
          ]
        }
      ]
    },
    {
      "cell_type": "code",
      "source": [
        "# strip 메서드\n",
        "data = \"      삼성전자      \"\n",
        "print(data.replace(\" \", \"\"))"
      ],
      "metadata": {
        "colab": {
          "base_uri": "https://localhost:8080/"
        },
        "id": "XEqz5o0chpjr",
        "outputId": "c0cc5513-e235-4e52-b120-31ecc67945d5"
      },
      "execution_count": null,
      "outputs": [
        {
          "output_type": "stream",
          "name": "stdout",
          "text": [
            "삼성전자\n"
          ]
        }
      ]
    },
    {
      "cell_type": "code",
      "source": [
        "#41 upper 메서드\n",
        "ticker = \"btc_krw\"\n",
        "ticker.upper()"
      ],
      "metadata": {
        "colab": {
          "base_uri": "https://localhost:8080/",
          "height": 35
        },
        "id": "IDsSW15hh81L",
        "outputId": "2ef7b96d-f0e3-449e-9396-e8a2c20eeeab"
      },
      "execution_count": null,
      "outputs": [
        {
          "output_type": "execute_result",
          "data": {
            "text/plain": [
              "'BTC_KRW'"
            ],
            "application/vnd.google.colaboratory.intrinsic+json": {
              "type": "string"
            }
          },
          "metadata": {},
          "execution_count": 63
        }
      ]
    },
    {
      "cell_type": "code",
      "source": [
        "# lower 메서드\n",
        "ticker = \"BTC_KRW\"\n",
        "ticker.lower()"
      ],
      "metadata": {
        "colab": {
          "base_uri": "https://localhost:8080/",
          "height": 35
        },
        "id": "j2K_uRL7iUsF",
        "outputId": "2b3b8bc8-b242-4bb3-ebcb-c59522986972"
      },
      "execution_count": null,
      "outputs": [
        {
          "output_type": "execute_result",
          "data": {
            "text/plain": [
              "'btc_krw'"
            ],
            "application/vnd.google.colaboratory.intrinsic+json": {
              "type": "string"
            }
          },
          "metadata": {},
          "execution_count": 64
        }
      ]
    },
    {
      "cell_type": "code",
      "source": [
        "#043 capitalize 메서드 : 문자열 'hello'가 있을 때 이를 'Hello'로 변경해보세요\n",
        "\n",
        "cp = \"hello\"\n",
        "cp.capitalize()"
      ],
      "metadata": {
        "colab": {
          "base_uri": "https://localhost:8080/",
          "height": 35
        },
        "id": "uMMI4IEHiZM0",
        "outputId": "b232a5fb-594f-4759-f5a7-02a844061201"
      },
      "execution_count": null,
      "outputs": [
        {
          "output_type": "execute_result",
          "data": {
            "text/plain": [
              "'Hello'"
            ],
            "application/vnd.google.colaboratory.intrinsic+json": {
              "type": "string"
            }
          },
          "metadata": {},
          "execution_count": 66
        }
      ]
    },
    {
      "cell_type": "code",
      "source": [
        "#044 endswith 메서드 : 'xlsx'로 끝나는지 확인\n",
        "file_name = \"보고서.xlsx\"\n",
        "file_name[-4::]"
      ],
      "metadata": {
        "colab": {
          "base_uri": "https://localhost:8080/",
          "height": 35
        },
        "id": "79W5Qmymij9l",
        "outputId": "f50c5171-e6c0-47eb-ba2a-4c1812db5e8a"
      },
      "execution_count": null,
      "outputs": [
        {
          "output_type": "execute_result",
          "data": {
            "text/plain": [
              "'xlsx'"
            ],
            "application/vnd.google.colaboratory.intrinsic+json": {
              "type": "string"
            }
          },
          "metadata": {},
          "execution_count": 69
        }
      ]
    },
    {
      "cell_type": "code",
      "source": [
        "#045 endswith 메서드 : 파일 이름이 'xlsx' 또는 'xls'로 끝나는지 확인\n",
        "file_name = \"보고서.xlsx\"\n",
        "file_name2 = \"보고서.xls\"\n",
        "file_name3 = \"보고서.docs\"\n",
        "\n",
        "a = file_name.endswith((\"xlsx\", \"xls\"))\n",
        "b = file_name2.endswith((\"xlsx\", \"xls\"))\n",
        "c = file_name3.endswith((\"xlsx\", \"xls\"))\n",
        "\n",
        "print(f\"{a}, {b}, {c}\")"
      ],
      "metadata": {
        "colab": {
          "base_uri": "https://localhost:8080/"
        },
        "id": "cOeukLsziwy8",
        "outputId": "b934af8e-6c4f-4334-fef9-8dc85c1b3e33"
      },
      "execution_count": null,
      "outputs": [
        {
          "output_type": "stream",
          "name": "stdout",
          "text": [
            "True, True, False\n"
          ]
        }
      ]
    },
    {
      "cell_type": "code",
      "source": [
        "# 046 startswith 메서드 : 파일 이름이 '2020'로 시작하는지 확인\n",
        "file_name = \"2020_보고서.xlsx\"\n",
        "file_name2 = \"2021_보고서.xlsx\"\n",
        "file_name3 = \"2022_보고서.xlsx\"\n",
        "\n",
        "a = file_name.startswith('2020')\n",
        "b = file_name2.startswith('2020')\n",
        "c = file_name3.startswith('2020')\n",
        "print(f\"{a}, {b}, {c}\")"
      ],
      "metadata": {
        "colab": {
          "base_uri": "https://localhost:8080/"
        },
        "id": "ZgE1UHNTjClN",
        "outputId": "e7001d80-f5ff-497e-d5bf-96dd9b28c03b"
      },
      "execution_count": null,
      "outputs": [
        {
          "output_type": "stream",
          "name": "stdout",
          "text": [
            "True, False, False\n"
          ]
        }
      ]
    },
    {
      "cell_type": "code",
      "source": [
        "# 047 split 메서드 : 다음과 같은 문자열이 있을 때 공백을 기준으로 문자열을 나눠보세요\n",
        "a = \"hello world\"\n",
        "a.split(\" \")"
      ],
      "metadata": {
        "colab": {
          "base_uri": "https://localhost:8080/"
        },
        "id": "dkgT7h0pjzpd",
        "outputId": "cd5e3981-2b2e-42ca-a7f6-e373fa7435f1"
      },
      "execution_count": null,
      "outputs": [
        {
          "output_type": "execute_result",
          "data": {
            "text/plain": [
              "['hello', 'world']"
            ]
          },
          "metadata": {},
          "execution_count": 77
        }
      ]
    },
    {
      "cell_type": "code",
      "source": [
        "# 048 split 메서드 : btc와 krw로\n",
        "ticker = \"btc_krw\"\n",
        "ticker.split(\"_\")"
      ],
      "metadata": {
        "colab": {
          "base_uri": "https://localhost:8080/"
        },
        "id": "LX4tGT0ckCvN",
        "outputId": "7277eb49-5655-4728-e2f0-e7746d135405"
      },
      "execution_count": null,
      "outputs": [
        {
          "output_type": "execute_result",
          "data": {
            "text/plain": [
              "['btc', 'krw']"
            ]
          },
          "metadata": {},
          "execution_count": 78
        }
      ]
    },
    {
      "cell_type": "code",
      "source": [
        "# 049 split 메서드 : 연도, 월, 일로 나눠\n",
        "date = \"2020-05-01\"\n",
        "days = list(date.split(\"-\"))\n",
        "print(f\"{days[0]}년 {days[1]}월 {days[2]}일\")"
      ],
      "metadata": {
        "colab": {
          "base_uri": "https://localhost:8080/"
        },
        "id": "htIayJdukJJH",
        "outputId": "363d6793-ed76-41e8-f7f6-bf0dd21b56f0"
      },
      "execution_count": null,
      "outputs": [
        {
          "output_type": "stream",
          "name": "stdout",
          "text": [
            "2020년 05월 01일\n"
          ]
        }
      ]
    },
    {
      "cell_type": "code",
      "source": [
        "# 050 rstrip 메서드 : 문자열의 오른쪽에 공백이 있을 때 이를 제거\n",
        "data = \"039490     \"\n",
        "data.replace(\" \", \"\")"
      ],
      "metadata": {
        "colab": {
          "base_uri": "https://localhost:8080/",
          "height": 35
        },
        "id": "FA6aV20Okopo",
        "outputId": "31768136-7a5f-4441-abbd-83a0cb552eba"
      },
      "execution_count": null,
      "outputs": [
        {
          "output_type": "execute_result",
          "data": {
            "text/plain": [
              "'039490'"
            ],
            "application/vnd.google.colaboratory.intrinsic+json": {
              "type": "string"
            }
          },
          "metadata": {},
          "execution_count": 80
        }
      ]
    },
    {
      "cell_type": "code",
      "source": [
        "# 051 리스트 생성 : 영화 제목을 movie_rank 이름의 리스트에 저장\n",
        "movie = [\"닥터 스트레인지\", \"스플릿\", \"럭키\"]\n",
        "print(movie)"
      ],
      "metadata": {
        "colab": {
          "base_uri": "https://localhost:8080/"
        },
        "id": "pVHeS7n2kxZ_",
        "outputId": "82f2450f-15ce-4ce9-8c1f-c6fc0e91f916"
      },
      "execution_count": null,
      "outputs": [
        {
          "output_type": "stream",
          "name": "stdout",
          "text": [
            "['닥터 스트레인지', '스플릿', '럭키']\n"
          ]
        }
      ]
    },
    {
      "cell_type": "code",
      "source": [
        "# 052 리스트에 원소 추가 : \"배트맨\"을 추가\n",
        "movie.append(\"배트맨\")\n",
        "print(movie)"
      ],
      "metadata": {
        "colab": {
          "base_uri": "https://localhost:8080/"
        },
        "id": "JMc_ZpJvlBo5",
        "outputId": "21b98e46-fcb3-4d1e-c8d9-17af226a8a74"
      },
      "execution_count": null,
      "outputs": [
        {
          "output_type": "stream",
          "name": "stdout",
          "text": [
            "['닥터 스트레인지', '스플릿', '럭키', '배트맨']\n"
          ]
        }
      ]
    },
    {
      "cell_type": "code",
      "source": [
        "# 053 : \"슈퍼맨\"을 \"닥터 스트레인지\"와 \"스플릿\" 사이에 추가\n",
        "movie = [\"닥터 스트레인지\", \"스플릿\", \"럭키\"]\n",
        "movie.insert(1,\"슈퍼맨\")\n",
        "print(movie)"
      ],
      "metadata": {
        "colab": {
          "base_uri": "https://localhost:8080/"
        },
        "id": "QP_Wn47Qlg04",
        "outputId": "13526469-21c9-445e-880d-c514c211a95b"
      },
      "execution_count": null,
      "outputs": [
        {
          "output_type": "stream",
          "name": "stdout",
          "text": [
            "['닥터 스트레인지', '슈퍼맨', '스플릿', '럭키']\n"
          ]
        }
      ]
    },
    {
      "cell_type": "code",
      "source": [
        "# 054 movie_rank 리스트에서 '럭키'를 삭제하라.\n",
        "\n",
        "movie = ['닥터 스트레인지', '슈퍼맨', '스플릿', '럭키', '배트맨']\n",
        "movie.remove(\"럭키\")\n",
        "print(movie)"
      ],
      "metadata": {
        "colab": {
          "base_uri": "https://localhost:8080/"
        },
        "id": "9a482Jnylm2I",
        "outputId": "6ea3cb8e-0941-4d80-b8ef-26500ecf7258"
      },
      "execution_count": null,
      "outputs": [
        {
          "output_type": "stream",
          "name": "stdout",
          "text": [
            "['닥터 스트레인지', '슈퍼맨', '스플릿', '배트맨']\n"
          ]
        }
      ]
    },
    {
      "cell_type": "code",
      "source": [
        "#055 movie_rank 리스트에서 '스플릿' 과 '배트맨'을 를 삭제하라.\n",
        "\n",
        "movie = ['닥터 스트레인지', '슈퍼맨', '스플릿', '배트맨']\n",
        "movie.remove(\"스플릿\")\n",
        "movie.remove(\"배트맨\")\n",
        "print(movie)"
      ],
      "metadata": {
        "colab": {
          "base_uri": "https://localhost:8080/"
        },
        "id": "IEBgGHVMmlT6",
        "outputId": "50344408-0aee-4571-ab9c-ae292fb8c1c3"
      },
      "execution_count": null,
      "outputs": [
        {
          "output_type": "stream",
          "name": "stdout",
          "text": [
            "['닥터 스트레인지', '슈퍼맨']\n"
          ]
        }
      ]
    },
    {
      "cell_type": "code",
      "source": [
        "# 056 lang1 + lang2 langs 리스트를 만들어\n",
        "lang1 = [\"C\", \"C++\", \"JAVA\"]\n",
        "lang2 = [\"Python\", \"Go\", \"C#\"]\n",
        "print(lang1+lang2)"
      ],
      "metadata": {
        "colab": {
          "base_uri": "https://localhost:8080/"
        },
        "id": "lRLrNyUTmuoK",
        "outputId": "75b426eb-8a40-41c2-fa6c-5f245119e2d6"
      },
      "execution_count": null,
      "outputs": [
        {
          "output_type": "stream",
          "name": "stdout",
          "text": [
            "['C', 'C++', 'JAVA', 'Python', 'Go', 'C#']\n"
          ]
        }
      ]
    },
    {
      "cell_type": "code",
      "source": [
        "# 057 다음 리스트에서 최댓값과 최솟값을 출력하라. (힌트: min(), max() 함수 사용)\n",
        "nums = [1, 2, 3, 4, 5, 6, 7]\n",
        "print(max(nums))\n",
        "print(min(nums))"
      ],
      "metadata": {
        "colab": {
          "base_uri": "https://localhost:8080/"
        },
        "id": "RwGBLGAdnCoi",
        "outputId": "c118c648-c402-485e-a2e9-92196c66b56b"
      },
      "execution_count": null,
      "outputs": [
        {
          "output_type": "stream",
          "name": "stdout",
          "text": [
            "7\n",
            "1\n"
          ]
        }
      ]
    },
    {
      "cell_type": "code",
      "source": [
        "#058 다음 리스트의 합을 출력하라.\n",
        "nums = [1, 2, 3, 4, 5]\n",
        "print(sum(nums))"
      ],
      "metadata": {
        "colab": {
          "base_uri": "https://localhost:8080/"
        },
        "id": "-HR-esFRnJrJ",
        "outputId": "ce9ca625-e645-4f9a-8dd0-7e709aa8f7cd"
      },
      "execution_count": null,
      "outputs": [
        {
          "output_type": "stream",
          "name": "stdout",
          "text": [
            "15\n"
          ]
        }
      ]
    },
    {
      "cell_type": "code",
      "source": [
        "#059 다음 리스트에 저장된 데이터의 개수를 화면에 구하하라.\n",
        "\n",
        "cook = [\n",
        "    \"피자\", \"김밥\", \"만두\", \"양념치킨\", \"족발\", \"피자\", \"김치만두\", \"쫄면\", \"소시지\", \"라면\", \"팥빙수\", \"김치전\"\n",
        "    ]\n",
        "print(len(cook))"
      ],
      "metadata": {
        "colab": {
          "base_uri": "https://localhost:8080/"
        },
        "id": "_JA9NFi3nS8C",
        "outputId": "28411d4f-e97b-4f0f-9500-b07a315cf04b"
      },
      "execution_count": null,
      "outputs": [
        {
          "output_type": "stream",
          "name": "stdout",
          "text": [
            "12\n"
          ]
        }
      ]
    },
    {
      "cell_type": "code",
      "source": [
        "#060 다음 리스트의 평균을 출력하라.\n",
        "\n",
        "nums = [1, 2, 3, 4, 5]\n",
        "print(sum(nums)/len(nums))"
      ],
      "metadata": {
        "colab": {
          "base_uri": "https://localhost:8080/"
        },
        "id": "bBR4ekdonaMS",
        "outputId": "628b353f-4424-45b5-a4d1-0fd1dbb8c2e7"
      },
      "execution_count": null,
      "outputs": [
        {
          "output_type": "stream",
          "name": "stdout",
          "text": [
            "3.0\n"
          ]
        }
      ]
    },
    {
      "cell_type": "code",
      "source": [
        "# 061 price 변수에는 날짜와 종가 정보가 저장돼 있다. 날짜 정보를 제외하고 가격 정보만을 출력하라. (힌트 : 슬라이싱)\n",
        "\n",
        "price = ['20180728', 100, 130, 140, 150, 160, 170]\n",
        "print(price[1:])"
      ],
      "metadata": {
        "colab": {
          "base_uri": "https://localhost:8080/"
        },
        "id": "PwY1Gz4sng2z",
        "outputId": "2fc38132-8a7a-4dee-f442-65be5656107f"
      },
      "execution_count": null,
      "outputs": [
        {
          "output_type": "stream",
          "name": "stdout",
          "text": [
            "[100, 130, 140, 150, 160, 170]\n"
          ]
        }
      ]
    },
    {
      "cell_type": "code",
      "source": [
        "# 062 슬라이싱을 사용해서 홀수만 출력하라.\n",
        "\n",
        "nums = [1, 2, 3, 4, 5, 6, 7, 8, 9, 10]\n",
        "print(nums[0::2])"
      ],
      "metadata": {
        "colab": {
          "base_uri": "https://localhost:8080/"
        },
        "id": "ZAbd0WxKnzK7",
        "outputId": "18323071-293b-481b-ca9a-3fcfc1501051"
      },
      "execution_count": null,
      "outputs": [
        {
          "output_type": "stream",
          "name": "stdout",
          "text": [
            "[1, 3, 5, 7, 9]\n"
          ]
        }
      ]
    },
    {
      "cell_type": "code",
      "source": [
        "#063 슬라이싱을 사용해서 짝수만 출력하라.\n",
        "\n",
        "nums = [1, 2, 3, 4, 5, 6, 7, 8, 9, 10]\n",
        "print(nums[1::2])"
      ],
      "metadata": {
        "colab": {
          "base_uri": "https://localhost:8080/"
        },
        "id": "Rb9RdBkXn5Zz",
        "outputId": "7e348115-ac5d-4650-9792-424821cf1915"
      },
      "execution_count": null,
      "outputs": [
        {
          "output_type": "stream",
          "name": "stdout",
          "text": [
            "[2, 4, 6, 8, 10]\n"
          ]
        }
      ]
    },
    {
      "cell_type": "code",
      "source": [
        "# 064 슬라이싱을 사용해서 리스트의 숫자를 역 방향으로 출력하라\n",
        "nums = [1, 2, 3, 4, 5]\n",
        "print(nums[::-1])"
      ],
      "metadata": {
        "colab": {
          "base_uri": "https://localhost:8080/"
        },
        "id": "I6aLBmGAoAK7",
        "outputId": "e288e416-8c05-4e82-c963-d385b6439d4b"
      },
      "execution_count": null,
      "outputs": [
        {
          "output_type": "stream",
          "name": "stdout",
          "text": [
            "[5, 4, 3, 2, 1]\n"
          ]
        }
      ]
    },
    {
      "cell_type": "code",
      "source": [
        "# 065 interest 리스트에는 아래의 데이터가 바인딩되어 있다.\n",
        "\n",
        "interest = ['삼성전자', 'LG전자', 'Naver']\n",
        "print(f\"{interest[0]} {interest[2]}\")"
      ],
      "metadata": {
        "colab": {
          "base_uri": "https://localhost:8080/"
        },
        "id": "tfF9Gx22oJwq",
        "outputId": "028c4a4d-678a-45d4-e02a-4a1a0a9f0ca1"
      },
      "execution_count": null,
      "outputs": [
        {
          "output_type": "stream",
          "name": "stdout",
          "text": [
            "삼성전자 Naver\n"
          ]
        }
      ]
    },
    {
      "cell_type": "code",
      "source": [
        "# 066 join 메서드 interest 리스트에는 아래의 데이터가 바인딩되어 있다.\n",
        "\n",
        "interest = ['삼성전자', 'LG전자', 'Naver', 'SK하이닉스', '미래에셋대우']\n",
        "\n",
        "print(\" \".join(interest))"
      ],
      "metadata": {
        "colab": {
          "base_uri": "https://localhost:8080/"
        },
        "id": "saq6k-9SoYVC",
        "outputId": "5fff60a2-482e-4f91-f8be-00c36d5ae805"
      },
      "execution_count": null,
      "outputs": [
        {
          "output_type": "stream",
          "name": "stdout",
          "text": [
            "삼성전자 LG전자 Naver SK하이닉스 미래에셋대우\n"
          ]
        }
      ]
    },
    {
      "cell_type": "code",
      "source": [
        "# 067 join 메서드 : interest 리스트에는 아래의 데이터가 바인딩\n",
        "\n",
        "interest = ['삼성전자', 'LG전자', 'Naver', 'SK하이닉스', '미래에셋대우']\n",
        "print(\"/\".join(interest))"
      ],
      "metadata": {
        "colab": {
          "base_uri": "https://localhost:8080/"
        },
        "id": "pKsuhVyBoyss",
        "outputId": "154c4f21-2ea1-4ede-8e9e-7d722093753b"
      },
      "execution_count": null,
      "outputs": [
        {
          "output_type": "stream",
          "name": "stdout",
          "text": [
            "삼성전자/LG전자/Naver/SK하이닉스/미래에셋대우\n"
          ]
        }
      ]
    },
    {
      "cell_type": "code",
      "source": [
        "# 068 join 메서드\n",
        "\n",
        "interest = ['삼성전자', 'LG전자', 'Naver', 'SK하이닉스', '미래에셋대우']\n",
        "print(\"\\n\".join(interest))"
      ],
      "metadata": {
        "colab": {
          "base_uri": "https://localhost:8080/"
        },
        "id": "7K2OzVDQpkot",
        "outputId": "9422d354-d176-4825-c375-bca00189c58a"
      },
      "execution_count": null,
      "outputs": [
        {
          "output_type": "stream",
          "name": "stdout",
          "text": [
            "삼성전자\n",
            "LG전자\n",
            "Naver\n",
            "SK하이닉스\n",
            "미래에셋대우\n"
          ]
        }
      ]
    },
    {
      "cell_type": "code",
      "source": [
        "# 069 문자열 split 메서드 : 회사 이름이 슬래시 ('/')로 구분되어 하나의 문자열로 저장\n",
        "string = \"삼성전자/LG전자/Naver\"\n",
        "string.split('/')"
      ],
      "metadata": {
        "colab": {
          "base_uri": "https://localhost:8080/"
        },
        "id": "8OuMxssKpsul",
        "outputId": "53444375-6c21-4723-c8ad-51bc3e28d562"
      },
      "execution_count": null,
      "outputs": [
        {
          "output_type": "execute_result",
          "data": {
            "text/plain": [
              "['삼성전자', 'LG전자', 'Naver']"
            ]
          },
          "metadata": {},
          "execution_count": 117
        }
      ]
    },
    {
      "cell_type": "code",
      "source": [
        "# 070 리스트 정렬 리스트에 있는 값을 오름차순으로 정렬하세요.\n",
        "\n",
        "data = [2, 4, 3, 1, 5, 10, 9]\n",
        "data.sort()\n",
        "print(data)\n",
        "data.reverse()\n",
        "print(data)\n",
        "data.sort(reverse=True)\n",
        "print(data)\n"
      ],
      "metadata": {
        "colab": {
          "base_uri": "https://localhost:8080/"
        },
        "id": "Yiptx_Zrp8D1",
        "outputId": "4fb83ee5-2cde-42ea-99c2-57da308e014c"
      },
      "execution_count": null,
      "outputs": [
        {
          "output_type": "stream",
          "name": "stdout",
          "text": [
            "[1, 2, 3, 4, 5, 9, 10]\n",
            "[10, 9, 5, 4, 3, 2, 1]\n",
            "[10, 9, 5, 4, 3, 2, 1]\n"
          ]
        }
      ]
    },
    {
      "cell_type": "code",
      "source": [
        "# 071 my_variable 이름의 비어있는 튜플을 만들라\n",
        "\n",
        "my_variable = ()\n",
        "print(my_variable)"
      ],
      "metadata": {
        "id": "b3DE4HEdqV3V",
        "colab": {
          "base_uri": "https://localhost:8080/"
        },
        "outputId": "8eb89596-7504-4907-ca72-f7f705d69957"
      },
      "execution_count": null,
      "outputs": [
        {
          "output_type": "stream",
          "name": "stdout",
          "text": [
            "()\n"
          ]
        }
      ]
    },
    {
      "cell_type": "code",
      "source": [
        "# 072 2016년 11월 영화 예매 순위 기준 top3는 다음과 같다\n",
        "# 영화 제목을 movie_rank 이름의 튜플에 저장하라. (순위 정보는 저장하지 않는다.)\n",
        "\n",
        "movie_rank = (\"닥터 스트레인지\", \"스플릿\", \"럭키\")\n",
        "print(movie_rank)"
      ],
      "metadata": {
        "colab": {
          "base_uri": "https://localhost:8080/"
        },
        "id": "Jdt_0Wamt6OQ",
        "outputId": "a547f17a-4efc-4985-a687-6622f44404db"
      },
      "execution_count": null,
      "outputs": [
        {
          "output_type": "stream",
          "name": "stdout",
          "text": [
            "('닥터 스트레인지', '스플릿', '럭키')\n"
          ]
        }
      ]
    },
    {
      "cell_type": "code",
      "source": [
        "# 073 숫자 1 이 저장된 튜플을 생성하라.\n",
        "\n",
        "num = (1)\n",
        "print(num)"
      ],
      "metadata": {
        "colab": {
          "base_uri": "https://localhost:8080/"
        },
        "id": "Dq8jvPL1uRsJ",
        "outputId": "50fa7f7e-18b0-4fc2-d7f8-1955e23ad4f1"
      },
      "execution_count": null,
      "outputs": [
        {
          "output_type": "stream",
          "name": "stdout",
          "text": [
            "1\n"
          ]
        }
      ]
    },
    {
      "cell_type": "code",
      "source": [
        "# 074 다음 코드를 실행해보고 오류가 발생하는 원인을 설명하라.\n",
        "\n",
        "t = (1, 2, 3)\n",
        "t[0] = 'a'\n",
        "\n",
        "# Traceback (most recent call last):\n",
        "  # File \"<pyshell#46>\", line 1, in <module>\n",
        "    # t[0] = 'a'\n",
        "\n",
        "# TypeError: 'tuple' object does not support item assignment\n",
        "\n",
        "\n",
        "# 제가 생각한 이유는 튜플은 언뮤터블이기때문에 값을 변경할수 없다고 배웠습니다!\n",
        "# 여기서 t[0] 자리에 'a'를 넣으려고 했기 때문에 오류가 난 것 같습니다"
      ],
      "metadata": {
        "colab": {
          "base_uri": "https://localhost:8080/",
          "height": 207
        },
        "id": "LgobBjqBucQC",
        "outputId": "1c28e119-369c-4130-97fa-1563501cd392"
      },
      "execution_count": null,
      "outputs": [
        {
          "output_type": "error",
          "ename": "TypeError",
          "evalue": "'tuple' object does not support item assignment",
          "traceback": [
            "\u001b[0;31m---------------------------------------------------------------------------\u001b[0m",
            "\u001b[0;31mTypeError\u001b[0m                                 Traceback (most recent call last)",
            "\u001b[0;32m<ipython-input-8-95881d256679>\u001b[0m in \u001b[0;36m<cell line: 0>\u001b[0;34m()\u001b[0m\n\u001b[1;32m      2\u001b[0m \u001b[0;34m\u001b[0m\u001b[0m\n\u001b[1;32m      3\u001b[0m \u001b[0mt\u001b[0m \u001b[0;34m=\u001b[0m \u001b[0;34m(\u001b[0m\u001b[0;36m1\u001b[0m\u001b[0;34m,\u001b[0m \u001b[0;36m2\u001b[0m\u001b[0;34m,\u001b[0m \u001b[0;36m3\u001b[0m\u001b[0;34m)\u001b[0m\u001b[0;34m\u001b[0m\u001b[0;34m\u001b[0m\u001b[0m\n\u001b[0;32m----> 4\u001b[0;31m \u001b[0mt\u001b[0m\u001b[0;34m[\u001b[0m\u001b[0;36m0\u001b[0m\u001b[0;34m]\u001b[0m \u001b[0;34m=\u001b[0m \u001b[0;34m'a'\u001b[0m\u001b[0;34m\u001b[0m\u001b[0;34m\u001b[0m\u001b[0m\n\u001b[0m\u001b[1;32m      5\u001b[0m \u001b[0;34m\u001b[0m\u001b[0m\n\u001b[1;32m      6\u001b[0m \u001b[0;31m# Traceback (most recent call last):\u001b[0m\u001b[0;34m\u001b[0m\u001b[0;34m\u001b[0m\u001b[0m\n",
            "\u001b[0;31mTypeError\u001b[0m: 'tuple' object does not support item assignment"
          ]
        }
      ]
    },
    {
      "cell_type": "code",
      "source": [
        "# 075 아래와 같이 t에는 1, 2, 3, 4 데이터가 바인딩되어 있다.\n",
        "# t가 바인딩하는 데이터 타입은 무엇인가?\n",
        "\n",
        "t = 1, 2, 3, 4\n",
        "print(type(t))\n",
        "\n",
        "# tuple 은 괄호가 없어도 튜플이다(?) 따라서 데이터 타입은 튜플입니다!"
      ],
      "metadata": {
        "colab": {
          "base_uri": "https://localhost:8080/"
        },
        "id": "iQVFaQ_2vHOE",
        "outputId": "c74c4077-e8a7-4b74-8939-4116ee150c65"
      },
      "execution_count": null,
      "outputs": [
        {
          "output_type": "stream",
          "name": "stdout",
          "text": [
            "<class 'int'>\n"
          ]
        }
      ]
    },
    {
      "cell_type": "code",
      "source": [
        "# 076 변수 t에는 아래와 같은 값이 저장되어 있다.\n",
        "# 변수 t가 ('A', 'b', 'c') 튜플을 가리키도록 수정 하라.\n",
        "\n",
        "t = ('a', 'b', 'c')\n",
        "t = 'A', 'B', 'C'\n",
        "print(t)"
      ],
      "metadata": {
        "colab": {
          "base_uri": "https://localhost:8080/"
        },
        "id": "sNr5Ij13vYNo",
        "outputId": "e17423a3-03b2-48bd-8595-04794d98313c"
      },
      "execution_count": null,
      "outputs": [
        {
          "output_type": "stream",
          "name": "stdout",
          "text": [
            "('A', 'B', 'C')\n"
          ]
        }
      ]
    },
    {
      "cell_type": "code",
      "source": [
        "# 077 다음 튜플을 리스트로 변환하라.\n",
        "\n",
        "interest = ('삼성전자', 'LG전자', 'SK Hynix')\n",
        "t_list = list(interest)\n",
        "print(t_list)\n",
        "print(type(t_list))"
      ],
      "metadata": {
        "colab": {
          "base_uri": "https://localhost:8080/"
        },
        "id": "3YFQ6zP7v2je",
        "outputId": "a2e5c608-5b37-4dca-d480-8a047a527b40"
      },
      "execution_count": null,
      "outputs": [
        {
          "output_type": "stream",
          "name": "stdout",
          "text": [
            "['삼성전자', 'LG전자', 'SK Hynix']\n",
            "<class 'list'>\n"
          ]
        }
      ]
    },
    {
      "cell_type": "code",
      "source": [
        "# 078 다음 리스트를 튜플로 변경하라.\n",
        "\n",
        "interest = ['삼성전자', 'LG전자', 'SK Hynix']\n",
        "l_tuple = tuple(interest)\n",
        "print(l_tuple)\n",
        "print(type(l_tuple))"
      ],
      "metadata": {
        "colab": {
          "base_uri": "https://localhost:8080/"
        },
        "id": "7NL93SsrwE7b",
        "outputId": "5c7da972-56e7-4b53-edcd-219ca7978318"
      },
      "execution_count": null,
      "outputs": [
        {
          "output_type": "stream",
          "name": "stdout",
          "text": [
            "('삼성전자', 'LG전자', 'SK Hynix')\n",
            "<class 'tuple'>\n"
          ]
        }
      ]
    },
    {
      "cell_type": "code",
      "source": [
        "# 079 튜플 언팩킹 : 다음 코드의 실행 결과를 예상하라\n",
        "\n",
        "temp = ('apple', 'banana', 'cake')\n",
        "a, b, c = temp\n",
        "print(a, b, c)\n",
        "\n",
        "# 변수 'a' 에는 'apple', 변수'b' 에는 'banana',\n",
        "# 변수'c'에는 'cake' 할당되어\n",
        "# apple banana cake 가 출력될 것 같다"
      ],
      "metadata": {
        "colab": {
          "base_uri": "https://localhost:8080/"
        },
        "id": "6sE0Bc4NwSEs",
        "outputId": "228132cb-12d4-49f6-a09b-11dc13ccd00e"
      },
      "execution_count": null,
      "outputs": [
        {
          "output_type": "stream",
          "name": "stdout",
          "text": [
            "apple banana cake\n"
          ]
        }
      ]
    },
    {
      "cell_type": "code",
      "source": [
        "# 080 range 함수 : 1 부터 99까지의 정수 중 짝수만 저장된 튜플을 생성하라.\n",
        "\n",
        "# 이건 모르겠습니다 ㅜㅜ ㅎㅎㅎㅎ"
      ],
      "metadata": {
        "id": "z2dYaY-Ow5WE"
      },
      "execution_count": null,
      "outputs": []
    }
  ]
}