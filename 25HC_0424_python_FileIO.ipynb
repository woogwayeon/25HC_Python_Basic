{
  "nbformat": 4,
  "nbformat_minor": 0,
  "metadata": {
    "colab": {
      "provenance": [],
      "authorship_tag": "ABX9TyO1f0gnFQpt+Z2K8RuJwRhX",
      "include_colab_link": true
    },
    "kernelspec": {
      "name": "python3",
      "display_name": "Python 3"
    },
    "language_info": {
      "name": "python"
    }
  },
  "cells": [
    {
      "cell_type": "markdown",
      "metadata": {
        "id": "view-in-github",
        "colab_type": "text"
      },
      "source": [
        "<a href=\"https://colab.research.google.com/github/woogwayeon/25HC_Python_Basic/blob/master/25HC_0424_python_FileIO.ipynb\" target=\"_parent\"><img src=\"https://colab.research.google.com/assets/colab-badge.svg\" alt=\"Open In Colab\"/></a>"
      ]
    },
    {
      "cell_type": "markdown",
      "source": [
        "# 파일입출력 (File IO)"
      ],
      "metadata": {
        "id": "a0ucc5SrT6he"
      }
    },
    {
      "cell_type": "markdown",
      "source": [
        "### 파일 소유권은 열기 시작하 사람만 가져야 한다\n",
        "누가 중복으러 편집하려그러면 어떡하니..!"
      ],
      "metadata": {
        "id": "4Ubn3QqBPZSt"
      }
    },
    {
      "cell_type": "code",
      "source": [
        "# file io\n",
        "f = open(\"text.txt\",\"w\")\n",
        "data = \"hello world\"\n",
        "f.write(data)\n",
        "f.close\n",
        "\n",
        "f = open(\"text.txt\", \"r\")\n",
        "data = f.read()\n",
        "print(data)\n",
        "f.close()\n",
        "\n",
        "# 참고로 readline() / readlines() - 반환형 list"
      ],
      "metadata": {
        "colab": {
          "base_uri": "https://localhost:8080/"
        },
        "id": "eFf9hLDyPfce",
        "outputId": "a2ce9d55-cd11-4cca-f9e8-d1798c6a3533"
      },
      "execution_count": null,
      "outputs": [
        {
          "output_type": "stream",
          "name": "stdout",
          "text": [
            "hello world\n"
          ]
        }
      ]
    },
    {
      "cell_type": "code",
      "source": [
        "# file io\n",
        "f = open(\"text3.txt\",\"w\")\n",
        "\n",
        "for i in range(1,11):\n",
        "    data = \"%d 번째 줄입니다\"%i\n",
        "    data = data + '\\n'\n",
        "    f.write(data)\n",
        "\n",
        "f.close()"
      ],
      "metadata": {
        "id": "nG_I7OBNPv9k"
      },
      "execution_count": null,
      "outputs": []
    },
    {
      "cell_type": "code",
      "source": [
        "fr = open(\"text3.txt\", \"r\")\n",
        "line = fr.readline()\n",
        "print(line)\n",
        "f.close()"
      ],
      "metadata": {
        "colab": {
          "base_uri": "https://localhost:8080/"
        },
        "id": "-ghY62IYQ7nT",
        "outputId": "7e7da88b-7abe-4e02-bc53-1524735efc4d"
      },
      "execution_count": null,
      "outputs": [
        {
          "output_type": "stream",
          "name": "stdout",
          "text": [
            "1 번째 줄입니다\n",
            "\n"
          ]
        }
      ]
    },
    {
      "cell_type": "code",
      "source": [
        "fr = open(\"text3.txt\", \"r\")\n",
        "while True:\n",
        "    line = fr.readline()\n",
        "    if not line : break\n",
        "    print(line)\n",
        "f.close()"
      ],
      "metadata": {
        "colab": {
          "base_uri": "https://localhost:8080/"
        },
        "id": "T0cz7hDHRorq",
        "outputId": "31ba48d7-01c3-43c5-c26b-163c9b9eb6ab"
      },
      "execution_count": null,
      "outputs": [
        {
          "output_type": "stream",
          "name": "stdout",
          "text": [
            "1 번째 줄입니다\n",
            "\n",
            "2 번째 줄입니다\n",
            "\n",
            "3 번째 줄입니다\n",
            "\n",
            "4 번째 줄입니다\n",
            "\n",
            "5 번째 줄입니다\n",
            "\n",
            "6 번째 줄입니다\n",
            "\n",
            "7 번째 줄입니다\n",
            "\n",
            "8 번째 줄입니다\n",
            "\n",
            "9 번째 줄입니다\n",
            "\n",
            "10 번째 줄입니다\n",
            "\n"
          ]
        }
      ]
    },
    {
      "cell_type": "code",
      "source": [
        "fr = open(\"text3.txt\", \"r\")\n",
        "lines = fr.readlines()\n",
        "f.close()\n",
        "print(lines)\n",
        "\n",
        "# 참고로 'a'라는 뒤에 add - 덧붙여쓰기"
      ],
      "metadata": {
        "colab": {
          "base_uri": "https://localhost:8080/"
        },
        "id": "pUDUXWQuR9uL",
        "outputId": "0ae8c3dd-30dc-4b58-9274-b33066117e7c"
      },
      "execution_count": null,
      "outputs": [
        {
          "output_type": "stream",
          "name": "stdout",
          "text": [
            "['1 번째 줄입니다\\n', '2 번째 줄입니다\\n', '3 번째 줄입니다\\n', '4 번째 줄입니다\\n', '5 번째 줄입니다\\n', '6 번째 줄입니다\\n', '7 번째 줄입니다\\n', '8 번째 줄입니다\\n', '9 번째 줄입니다\\n', '10 번째 줄입니다\\n']\n"
          ]
        }
      ]
    },
    {
      "cell_type": "code",
      "source": [
        "filename = \"log_\"+time.strftime(\"%Y%m%d\", now)+\".txt\"\n",
        "print(filename)"
      ],
      "metadata": {
        "colab": {
          "base_uri": "https://localhost:8080/"
        },
        "id": "RcJwmk6jSS8y",
        "outputId": "80b986b4-bc48-47ee-bb3d-80f3cdc6ff5d"
      },
      "execution_count": null,
      "outputs": [
        {
          "output_type": "stream",
          "name": "stdout",
          "text": [
            "log_20250424.txt\n"
          ]
        }
      ]
    },
    {
      "cell_type": "code",
      "source": [
        "# close가 합쳐진 것\n",
        "\n",
        "with open(\"text3.txt\", 'a') as f:\n",
        "    f.write(\"파이선 ㄴ바보...\")"
      ],
      "metadata": {
        "id": "EPkn3snBTALS"
      },
      "execution_count": null,
      "outputs": []
    },
    {
      "cell_type": "code",
      "source": [],
      "metadata": {
        "id": "-0kSFel5Tcs5"
      },
      "execution_count": null,
      "outputs": []
    }
  ]
}