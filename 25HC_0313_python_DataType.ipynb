{
  "nbformat": 4,
  "nbformat_minor": 0,
  "metadata": {
    "colab": {
      "provenance": [],
      "toc_visible": true
    },
    "kernelspec": {
      "name": "python3",
      "display_name": "Python 3"
    },
    "language_info": {
      "name": "python"
    }
  },
  "cells": [
    {
      "cell_type": "markdown",
      "source": [
        "# 리스트 자료형 (자료 저장 방식)\n",
        "\n",
        "자료형의 집합을 표현하는 자료형으로, 대괄호 (```[]```)로 감싸고 각 요소의 값은 쉼표(```,```)로 **구분한다**"
      ],
      "metadata": {
        "id": "J5H8YBzdrSUX"
      }
    },
    {
      "cell_type": "code",
      "source": [
        "# List\n",
        "\n",
        "a = [1,2,3,4,5,6,7]\n",
        "b = []\n",
        "c = [\"Life\", \"is\", \"too\", \"short\"]\n",
        "d = [1,2,3, \"Life\"]\n",
        "e = [1,2, [\"Life\",1,2]]\n",
        "\n",
        "print(a[4])\n",
        "print(e[2])\n",
        "print(e[2][0])\n",
        "print(e[2][0][0]) # 슬라이싱\n",
        "print(e[2][0].upper()) # 슬라이싱"
      ],
      "metadata": {
        "colab": {
          "base_uri": "https://localhost:8080/"
        },
        "id": "dTi_BdzfsGBC",
        "outputId": "d7ba1014-ab46-44a6-8915-89ae3d94b1ee"
      },
      "execution_count": 7,
      "outputs": [
        {
          "output_type": "stream",
          "name": "stdout",
          "text": [
            "5\n",
            "['Life', 1, 2]\n",
            "Life\n",
            "L\n",
            "LIFE\n"
          ]
        }
      ]
    },
    {
      "cell_type": "code",
      "source": [
        "# List 연산\n",
        "\n",
        "l1 = [1,2,3]\n",
        "l2= [4,5,6]\n",
        "\n",
        "print(l1+l2) # 더하기\n",
        "print(l1 * 3) # 곱하기\n",
        "print(l1)"
      ],
      "metadata": {
        "colab": {
          "base_uri": "https://localhost:8080/"
        },
        "id": "fx8uvwButcXx",
        "outputId": "bfdf4b96-c7ad-4a00-ac0a-58436624f4c9"
      },
      "execution_count": 16,
      "outputs": [
        {
          "output_type": "stream",
          "name": "stdout",
          "text": [
            "[1, 2, 3, 4, 5, 6]\n",
            "[1, 2, 3, 1, 2, 3, 1, 2, 3]\n",
            "[1, 2, 3]\n"
          ]
        }
      ]
    },
    {
      "cell_type": "code",
      "source": [
        "# 자료의 타입이 다르면 더하기 불가\n",
        "\n",
        "print(str(a[0]) + \"hi\")\n",
        "print(a + list(\"hi\"))"
      ],
      "metadata": {
        "colab": {
          "base_uri": "https://localhost:8080/"
        },
        "id": "QjLY4urCuKNZ",
        "outputId": "8cd2fb02-af18-4438-aa8b-e3db0fdf8693"
      },
      "execution_count": 14,
      "outputs": [
        {
          "output_type": "stream",
          "name": "stdout",
          "text": [
            "1hi\n",
            "[1, 2, 3, 4, 5, 6, 7, 'h', 'i']\n"
          ]
        }
      ]
    },
    {
      "cell_type": "code",
      "source": [
        "# 길이 구하기\n",
        "\n",
        "print(len(l1))"
      ],
      "metadata": {
        "colab": {
          "base_uri": "https://localhost:8080/"
        },
        "id": "rRv_cq3Lukba",
        "outputId": "916a4354-8f4d-4763-9113-7bad3b6fce1b"
      },
      "execution_count": 15,
      "outputs": [
        {
          "output_type": "stream",
          "name": "stdout",
          "text": [
            "3\n"
          ]
        }
      ]
    },
    {
      "cell_type": "code",
      "source": [
        "# 값 수정하기\n",
        "\n",
        "l1[2] = 4\n",
        "print(l1)"
      ],
      "metadata": {
        "colab": {
          "base_uri": "https://localhost:8080/"
        },
        "id": "ZXIeljkyvAey",
        "outputId": "9c9ee0fa-504a-4ab5-fb59-36703c2496a9"
      },
      "execution_count": 17,
      "outputs": [
        {
          "output_type": "stream",
          "name": "stdout",
          "text": [
            "[1, 2, 4]\n"
          ]
        }
      ]
    },
    {
      "cell_type": "code",
      "source": [
        "# 값 삭제하기\n",
        "\n",
        "# del l2"
      ],
      "metadata": {
        "id": "P05pBzVxvTw6"
      },
      "execution_count": 21,
      "outputs": []
    },
    {
      "cell_type": "code",
      "source": [
        "# List 연산\n",
        "\n",
        "print(l1[0] + l1[2])\n",
        "print(l1[0] * l1[2])\n",
        "print(l1[0] - l1[2])"
      ],
      "metadata": {
        "colab": {
          "base_uri": "https://localhost:8080/"
        },
        "id": "yO66dDBUviYR",
        "outputId": "8bb2f830-20dc-470d-f500-0a3919bf4fdd"
      },
      "execution_count": 22,
      "outputs": [
        {
          "output_type": "stream",
          "name": "stdout",
          "text": [
            "5\n",
            "4\n",
            "-3\n"
          ]
        }
      ]
    },
    {
      "cell_type": "markdown",
      "source": [
        "## List 함수"
      ],
      "metadata": {
        "id": "nhp7WmfNvuog"
      }
    },
    {
      "cell_type": "code",
      "source": [
        "# append - 끝에 붙이다\n",
        "\n",
        "a = [1,2,3]\n",
        "a.append(4)\n",
        "\n",
        "print(a) # 원본이 수정됨\n",
        "\n",
        "a.append(\"hi\")\n",
        "print(a)\n",
        "\n",
        "a.append([10,20,30]) # append는 무조건 한자리만 차지함\n",
        "print(a)"
      ],
      "metadata": {
        "colab": {
          "base_uri": "https://localhost:8080/"
        },
        "id": "n4raJyONvy6s",
        "outputId": "556adf0a-9b83-4926-b3a5-2239e36c0f6b"
      },
      "execution_count": 26,
      "outputs": [
        {
          "output_type": "stream",
          "name": "stdout",
          "text": [
            "[1, 2, 3, 4]\n",
            "[1, 2, 3, 4, 'hi']\n",
            "[1, 2, 3, 4, 'hi', [10, 20, 30]]\n"
          ]
        }
      ]
    },
    {
      "cell_type": "code",
      "source": [
        "# sort()\n",
        "\n",
        "a = [1,4,2,8]\n",
        "a.sort()\n",
        "\n",
        "print(a) # 원본이 바뀜 (기본은 오름차순)\n",
        "\n",
        "b = ['k','e','a','p']\n",
        "b.sort()\n",
        "print(b) # 아스키코드로 바뀌어서 알파벳도 가능"
      ],
      "metadata": {
        "colab": {
          "base_uri": "https://localhost:8080/"
        },
        "id": "vvujt5ZfwHsp",
        "outputId": "687e98a2-e123-48b5-d62a-59dd64fbae96"
      },
      "execution_count": 31,
      "outputs": [
        {
          "output_type": "stream",
          "name": "stdout",
          "text": [
            "[1, 2, 4, 8]\n",
            "['a', 'e', 'k', 'p']\n"
          ]
        }
      ]
    },
    {
      "cell_type": "code",
      "source": [
        "# 뒤집기\n",
        "\n",
        "a = list(\"helloworld\")\n",
        "print(a)\n",
        "\n",
        "a.reverse()\n",
        "print(a)\n",
        "print(a[::-1])"
      ],
      "metadata": {
        "colab": {
          "base_uri": "https://localhost:8080/"
        },
        "id": "XKLx-SYmwnFZ",
        "outputId": "c6d07b95-2e45-47e4-fbfa-8759837f0aac"
      },
      "execution_count": 35,
      "outputs": [
        {
          "output_type": "stream",
          "name": "stdout",
          "text": [
            "['h', 'e', 'l', 'l', 'o', 'w', 'o', 'r', 'l', 'd']\n",
            "['d', 'l', 'r', 'o', 'w', 'o', 'l', 'l', 'e', 'h']\n",
            "['h', 'e', 'l', 'l', 'o', 'w', 'o', 'r', 'l', 'd']\n"
          ]
        }
      ]
    },
    {
      "cell_type": "code",
      "source": [
        "# Search\n",
        "\n",
        "a = [1,2,3]\n",
        "print(a.index(2)) # 미국에서 수 세는거 기억나지..! 그래서 두\"번째\"에 있는 친구 찾아옴"
      ],
      "metadata": {
        "colab": {
          "base_uri": "https://localhost:8080/"
        },
        "id": "eP_h7MkZxdca",
        "outputId": "bf2c6fd3-6edb-4508-880f-2b25cc970e08"
      },
      "execution_count": 40,
      "outputs": [
        {
          "output_type": "stream",
          "name": "stdout",
          "text": [
            "1\n"
          ]
        }
      ]
    },
    {
      "cell_type": "code",
      "source": [
        "# 요소 삽입\n",
        "\n",
        "a=[1,2,3]\n",
        "a.insert(1,20) # 들어갈 최종 위치를 알려줌\n",
        "print(a)"
      ],
      "metadata": {
        "colab": {
          "base_uri": "https://localhost:8080/"
        },
        "id": "eYlsjD7XxvQ6",
        "outputId": "a82357e8-8591-407e-de55-93eaeb88bf18"
      },
      "execution_count": 41,
      "outputs": [
        {
          "output_type": "stream",
          "name": "stdout",
          "text": [
            "[1, 20, 2, 3]\n"
          ]
        }
      ]
    },
    {
      "cell_type": "code",
      "source": [
        "# 요소 제거\n",
        "\n",
        "a=list(\"hello\")\n",
        "a.remove('l') # 첫번째 만나는 값을 제거함\n",
        "print(a)"
      ],
      "metadata": {
        "colab": {
          "base_uri": "https://localhost:8080/"
        },
        "id": "coQhXsKlygVh",
        "outputId": "3d50ac51-ddb2-466c-e185-1e51b2589b93"
      },
      "execution_count": 43,
      "outputs": [
        {
          "output_type": "stream",
          "name": "stdout",
          "text": [
            "['h', 'e', 'l', 'o']\n"
          ]
        }
      ]
    },
    {
      "cell_type": "code",
      "source": [
        "# pop 함수\n",
        "\n",
        "a=[1,2,3,4,5]\n",
        "a.pop()\n",
        "\n",
        "print(a)\n",
        "a.pop()\n",
        "\n",
        "print(a)\n",
        "a.pop()\n",
        "\n",
        "print(a)\n",
        "a.pop()\n",
        "\n",
        "print(a)\n",
        "a.pop()\n",
        "\n",
        "# 빈 상태에서 하면 Err 생김 > 맨 마지막에 온게 젤 먼저 나감(Last In First Out)"
      ],
      "metadata": {
        "colab": {
          "base_uri": "https://localhost:8080/"
        },
        "id": "3PVlhVoEy3nq",
        "outputId": "1125acaf-8fc0-42d9-dd5e-777ca9e9b5e6"
      },
      "execution_count": 45,
      "outputs": [
        {
          "output_type": "stream",
          "name": "stdout",
          "text": [
            "[1, 2, 3, 4]\n",
            "[1, 2, 3]\n",
            "[1, 2]\n",
            "[1]\n"
          ]
        },
        {
          "output_type": "execute_result",
          "data": {
            "text/plain": [
              "1"
            ]
          },
          "metadata": {},
          "execution_count": 45
        }
      ]
    },
    {
      "cell_type": "code",
      "source": [
        "# Count - 카운트\n",
        "\n",
        "a = list(\"helloworld\")\n",
        "print(a.count('o'))"
      ],
      "metadata": {
        "colab": {
          "base_uri": "https://localhost:8080/"
        },
        "id": "ZNqxAgB9zPmR",
        "outputId": "43ded473-dab6-48be-c949-bf178de54e99"
      },
      "execution_count": 47,
      "outputs": [
        {
          "output_type": "stream",
          "name": "stdout",
          "text": [
            "2\n"
          ]
        }
      ]
    },
    {
      "cell_type": "code",
      "source": [
        "# List Expend (확장)\n",
        "\n",
        "a = [1,2,3]\n",
        "a.extend([4,5,6])\n",
        "\n",
        "print(a) # 이건 공간이 넓어진다 - 배열 크기가 커짐"
      ],
      "metadata": {
        "colab": {
          "base_uri": "https://localhost:8080/"
        },
        "id": "MW6wVBu1z3GT",
        "outputId": "d7dad690-da83-47eb-90d9-5cb48df7d217"
      },
      "execution_count": 48,
      "outputs": [
        {
          "output_type": "stream",
          "name": "stdout",
          "text": [
            "[1, 2, 3, 4, 5, 6]\n"
          ]
        }
      ]
    }
  ]
}