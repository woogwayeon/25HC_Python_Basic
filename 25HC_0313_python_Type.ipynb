{
  "nbformat": 4,
  "nbformat_minor": 0,
  "metadata": {
    "colab": {
      "provenance": [],
      "toc_visible": true
    },
    "kernelspec": {
      "name": "python3",
      "display_name": "Python 3"
    },
    "language_info": {
      "name": "python"
    }
  },
  "cells": [
    {
      "cell_type": "code",
      "execution_count": null,
      "metadata": {
        "colab": {
          "base_uri": "https://localhost:8080/"
        },
        "id": "e5N_-xcd3ri2",
        "outputId": "9b42a733-c697-48ad-f2a9-a27ab9b37d9c"
      },
      "outputs": [
        {
          "output_type": "stream",
          "name": "stdout",
          "text": [
            "hello world\n"
          ]
        }
      ],
      "source": [
        "print(\"hello world\")"
      ]
    },
    {
      "cell_type": "markdown",
      "source": [
        "## Python 강의\n",
        "### 1. 자료형\n",
        "  - 숫자형 : 파이선이 다룰 수 있는 정수의 범위는 무한대로, 우리가 갖고 있는 메모리 크기만큼 설정된다\n",
        "  "
      ],
      "metadata": {
        "id": "EgJGSODO9-1f"
      }
    },
    {
      "cell_type": "code",
      "source": [
        "# 자료형의 크기\n",
        "\n",
        "import sys # 시스템에 관한 무언가 끌어올때\n",
        "sys.float_info\n",
        "sys.int_info # 지금 쓰고 있는 시스템의 성능"
      ],
      "metadata": {
        "colab": {
          "base_uri": "https://localhost:8080/"
        },
        "id": "LL-gaF3h-oYO",
        "outputId": "e8862814-a582-4811-c65e-b7fc26bbccf6"
      },
      "execution_count": null,
      "outputs": [
        {
          "output_type": "execute_result",
          "data": {
            "text/plain": [
              "sys.int_info(bits_per_digit=30, sizeof_digit=4, default_max_str_digits=4300, str_digits_check_threshold=640)"
            ]
          },
          "metadata": {},
          "execution_count": 3
        }
      ]
    },
    {
      "cell_type": "code",
      "source": [
        "# 10진법과 2진법 변환\n",
        "\n",
        "a = 34\n",
        "bin(a) # 2진법\n",
        "hex(a) # 16진법\n",
        "oct(a) # 8진법\n",
        "\n",
        "# n진법 -> N진법\n",
        "oct(0xa)"
      ],
      "metadata": {
        "colab": {
          "base_uri": "https://localhost:8080/",
          "height": 35
        },
        "id": "HEKzYOn8ARhN",
        "outputId": "03b49860-3fee-4ffb-c480-034deda9a97a"
      },
      "execution_count": null,
      "outputs": [
        {
          "output_type": "execute_result",
          "data": {
            "text/plain": [
              "'0o12'"
            ],
            "application/vnd.google.colaboratory.intrinsic+json": {
              "type": "string"
            }
          },
          "metadata": {},
          "execution_count": 5
        }
      ]
    },
    {
      "cell_type": "code",
      "source": [
        "# 자료 만들기\n",
        "\n",
        "a = 123\n",
        "b = 345\n",
        "\n",
        "print(a)\n",
        "print(b) # 명시적 출력을 원하면 print()구문을 써줘야 한다. 마지막거 찍히는건 colab의 기능임\n",
        "\n",
        "print(type(a))\n",
        "\n",
        "a=12.3\n",
        "print(type(a))"
      ],
      "metadata": {
        "colab": {
          "base_uri": "https://localhost:8080/"
        },
        "id": "Y-ZawIdYAmWD",
        "outputId": "8b44f1d1-552e-430d-d384-97a5820bc9db"
      },
      "execution_count": null,
      "outputs": [
        {
          "output_type": "stream",
          "name": "stdout",
          "text": [
            "123\n",
            "345\n",
            "<class 'int'>\n",
            "<class 'float'>\n"
          ]
        }
      ]
    },
    {
      "cell_type": "markdown",
      "source": [
        "## 연산자"
      ],
      "metadata": {
        "id": "Rj8J724lEEQu"
      }
    },
    {
      "cell_type": "code",
      "source": [
        "# 사칙연산\n",
        "\n",
        "a = 123\n",
        "b = 345\n",
        "\n",
        "print(a+b)\n",
        "print(a-b)\n",
        "print(a*b)\n",
        "print(a**b) # 지수 (a의 b승)\n",
        "print(a^b)\n",
        "print(a%b)"
      ],
      "metadata": {
        "colab": {
          "base_uri": "https://localhost:8080/"
        },
        "id": "EJiMX9F7Efii",
        "outputId": "1c937059-ce83-4534-c8e9-1990b9ebe2f2"
      },
      "execution_count": null,
      "outputs": [
        {
          "output_type": "stream",
          "name": "stdout",
          "text": [
            "468\n",
            "-222\n",
            "42435\n",
            "10405511812952707739731492191909310279808963525498753701928217916474886385941052560140442748734227867004377264381193268849497642332674520853680856731955339453782182000778572151915790183661428467128191156971185624751935558289235984940694575565357994647339478839262837633763628658085954923398402686359044635713314379871020068920843439705539639865845542678396366997528225532901486943708850217594261505335374752382964791075336794926116981773941103271997692404273885620938767016939887541682816056715874460198070088979100602619116772941858954918892595612021144861019975790300211490229075108891680089852245938818504839824260547929975904862425499924981169864416389299692481118813598785342001910981692356232252220864017249850782043\n",
            "290\n",
            "123\n"
          ]
        }
      ]
    },
    {
      "cell_type": "code",
      "source": [
        "# 몫과 나머지 따로 구하기\n",
        "\n",
        "a = 5\n",
        "b = 3\n",
        "\n",
        "print(a/b)\n",
        "print(a%b)\n",
        "print(5/3)"
      ],
      "metadata": {
        "colab": {
          "base_uri": "https://localhost:8080/"
        },
        "id": "ko_YVzRUErCD",
        "outputId": "4c6a6adb-d034-4242-9ef5-cac255bbb2b8"
      },
      "execution_count": null,
      "outputs": [
        {
          "output_type": "stream",
          "name": "stdout",
          "text": [
            "1.6666666666666667\n",
            "2\n",
            "1.6666666666666667\n"
          ]
        }
      ]
    },
    {
      "cell_type": "markdown",
      "source": [
        "- 나머지 연산자 언제 많이 쓰여요?\n",
        "\n",
        "  달력 만들 때 나머지와 그 값을 갖고 빠르게 계산할 수 있다\n",
        "  반복되는 주기가 있는 데이터들이 있으면, 임의의 데이터가 어떤 그룹에 있는지 빨리 알 수 있다 (나머지 데이터의 연속성 판단에 유리)\n",
        "\n",
        "  ## 문자열"
      ],
      "metadata": {
        "id": "2KVFd3fuFFuB"
      }
    },
    {
      "cell_type": "code",
      "source": [
        "# 문자열을 만들어보자\n",
        "\n",
        "food = \"python's favorite food is perl\"\n",
        "print(food)"
      ],
      "metadata": {
        "colab": {
          "base_uri": "https://localhost:8080/"
        },
        "id": "ySNY2PBiF0qK",
        "outputId": "475e9e32-16f3-4df8-b083-33f053f2d792"
      },
      "execution_count": null,
      "outputs": [
        {
          "output_type": "stream",
          "name": "stdout",
          "text": [
            "python's favorite food is perl\n"
          ]
        }
      ]
    },
    {
      "cell_type": "code",
      "source": [
        "# Escape 문자 - 줄바꾸기 등 여러가지 가능\n",
        "\n",
        "multiline = \"Life is too short \\n you need python\"\n",
        "print(multiline)\n",
        "\n"
      ],
      "metadata": {
        "colab": {
          "base_uri": "https://localhost:8080/"
        },
        "id": "ccno0H7yGUBz",
        "outputId": "321d32a1-1d14-4953-ff80-9d24a5f2fa94"
      },
      "execution_count": null,
      "outputs": [
        {
          "output_type": "stream",
          "name": "stdout",
          "text": [
            "Life is too short \n",
            " you need python\n"
          ]
        }
      ]
    },
    {
      "cell_type": "markdown",
      "source": [
        "# Escape 문자의 종류\n",
        "- \\n : 새 줄로 바꿈\n",
        "- \\t : 탭키\n",
        "- \\\\ : \\ 문자 출력\n",
        "- \\b : 백스페이스\n",
        "- \\000 : 널문자"
      ],
      "metadata": {
        "id": "qL7Cj20IG69Q"
      }
    },
    {
      "cell_type": "markdown",
      "source": [
        "## 문자열 인덱싱과 슬라이싱\n",
        "- 0부터 시작하는 이유\n",
        "\n",
        "  : 메모리는 어디에서부터 읽어야 할까?\n",
        "\n",
        "  이동할 필요가 없기 때문에 0부터 시작한다..(?)\n",
        "  메모리에 이동에 대한 숫자만 알려주면 된다"
      ],
      "metadata": {
        "id": "x8ZAsjJRHVzG"
      }
    },
    {
      "cell_type": "code",
      "source": [
        "# 문자열 인덱싱(indexing)과 슬라이싱(slicing) : 인덱싱은 가르킨다!\n",
        "\n",
        "print(food[0])\n",
        "print(len(food), food[-1]) # -1 하면 무조건 맨 마지막 글자가 나온다 (이동 방향을 뜻한다)\n",
        "print(food[29])\n",
        "print(food[0:4])"
      ],
      "metadata": {
        "colab": {
          "base_uri": "https://localhost:8080/"
        },
        "id": "4g1JtK4yHc-r",
        "outputId": "d330f413-6b0e-4123-d58b-147e9834d865"
      },
      "execution_count": null,
      "outputs": [
        {
          "output_type": "stream",
          "name": "stdout",
          "text": [
            "p\n",
            "30 l\n",
            "l\n",
            "pyth\n"
          ]
        }
      ]
    },
    {
      "cell_type": "markdown",
      "source": [
        "- ```a[n]``` : n 번째 글자\n",
        "- ``` a[n:m:k] / a[n:m]``` : [n:m:k] 시작주소, 마지막주소,  간격 / [n:m] 시작주소, 마지막주소"
      ],
      "metadata": {
        "id": "oVVOhW1CIEZt"
      }
    },
    {
      "cell_type": "code",
      "source": [
        "print(food[:]) # 시작부터 끝까지\n",
        "print(food[5:]) # 5부터 끝까지\n",
        "print(food[:4]) # 시작부터 4(0, 1, 2, 3, 4)까지"
      ],
      "metadata": {
        "colab": {
          "base_uri": "https://localhost:8080/"
        },
        "id": "RYF3EwykJIPn",
        "outputId": "aeef9edc-2cc4-46e0-de54-3c2526f98954"
      },
      "execution_count": null,
      "outputs": [
        {
          "output_type": "stream",
          "name": "stdout",
          "text": [
            "python's favorite food is perl\n",
            "n's favorite food is perl\n",
            "pyth\n"
          ]
        }
      ]
    },
    {
      "cell_type": "code",
      "source": [
        "a = [1,2,3,4,5,6,7,8,9]\n",
        "print(a[::2]) # 홀수 필터링\n",
        "print(a[1::2]) # 짝수 필터링"
      ],
      "metadata": {
        "colab": {
          "base_uri": "https://localhost:8080/"
        },
        "id": "m9SnYvhbJ4DO",
        "outputId": "ad7ff01e-b78e-4338-b475-7d6168220392"
      },
      "execution_count": null,
      "outputs": [
        {
          "output_type": "stream",
          "name": "stdout",
          "text": [
            "[1, 3, 5, 7, 9]\n",
            "[2, 4, 6, 8]\n"
          ]
        }
      ]
    },
    {
      "cell_type": "code",
      "source": [
        "a = \"abcde\"\n",
        "print(a[::-1]) # -1하면 뒤집어짐\n",
        "print(a[5:2:-1]) # 뒤에 더 중요한 정보가 나올때 (file 확장자라던지)\n",
        "print(a[-3:]) # 뒤에서 3개\n",
        "print(a[:-3]) # 끝에서 3개 뺀 나머지"
      ],
      "metadata": {
        "colab": {
          "base_uri": "https://localhost:8080/"
        },
        "id": "YgpdTar7KxJ1",
        "outputId": "1e5fb645-453a-47e6-9aeb-28a2a7bb7efa"
      },
      "execution_count": null,
      "outputs": [
        {
          "output_type": "stream",
          "name": "stdout",
          "text": [
            "edcba\n",
            "ed\n",
            "cde\n",
            "ab\n"
          ]
        }
      ]
    },
    {
      "cell_type": "markdown",
      "source": [
        "## 문자열 포멧팅"
      ],
      "metadata": {
        "id": "A7B5vBLvLIiw"
      }
    },
    {
      "cell_type": "code",
      "source": [
        "# formating 방법\n",
        "\n",
        "print(\"I eat %d apples!\" %3)\n",
        "print(\"I eat %s apples!\" %\"four\")\n",
        "print(\"I ate %d apples! so I was sick for %s days \" %(10,\"four\")) # 튜플이라고 한다"
      ],
      "metadata": {
        "colab": {
          "base_uri": "https://localhost:8080/"
        },
        "id": "5Ox3MqMMNG8c",
        "outputId": "55f52964-7c52-4ae5-c181-997a1dd83add"
      },
      "execution_count": null,
      "outputs": [
        {
          "output_type": "stream",
          "name": "stdout",
          "text": [
            "I eat 3 apples!\n",
            "I eat four apples!\n",
            "I ate 10 apples! so I was sick for four days \n"
          ]
        }
      ]
    },
    {
      "cell_type": "code",
      "source": [
        "# 다양한 Fomat 코드\n",
        "\n",
        "print(\"%10s\" %\"hi\") # 오른쪽으로 확보\n",
        "print(\"%-10s\" %\"hi\") # 왼쪽으로 확보"
      ],
      "metadata": {
        "colab": {
          "base_uri": "https://localhost:8080/"
        },
        "id": "bkk-hn0rNPyH",
        "outputId": "0f2a9f93-0d2b-4c32-970d-7382269a662c"
      },
      "execution_count": null,
      "outputs": [
        {
          "output_type": "stream",
          "name": "stdout",
          "text": [
            "        hi\n",
            "hi        \n"
          ]
        }
      ]
    },
    {
      "cell_type": "code",
      "source": [
        "# 숫자용 Fomat 코드\n",
        "print(\"%0.4f\" % 3.141592)\n",
        "print(\"%10.4f\" % 3.141592) # 10자리 확보하지만 소숫점도 포함됨"
      ],
      "metadata": {
        "id": "jnqEz-D7OI9t",
        "colab": {
          "base_uri": "https://localhost:8080/"
        },
        "outputId": "240f79e6-7bc8-4e11-afd4-63d759a07bfa"
      },
      "execution_count": null,
      "outputs": [
        {
          "output_type": "stream",
          "name": "stdout",
          "text": [
            "3.1416\n",
            "    3.1416\n"
          ]
        }
      ]
    },
    {
      "cell_type": "markdown",
      "source": [
        "## 함수 사용\n",
        "문자열의 함수 Format형 > ```문자열.format(인수)```"
      ],
      "metadata": {
        "id": "SeI3MC-iQMmD"
      }
    },
    {
      "cell_type": "code",
      "source": [
        "# 문자열 Format\n",
        "\n",
        "print(\"I ate {0} apples \".format(2))\n",
        "print(\"I ate {0} apples \".format(\"five\")) # 자료형의 지정이 자유롭다\n",
        "\n",
        "num = 3\n",
        "print(\"I ate {0} apples \".format(num)) # 변수 사용도 가능하다"
      ],
      "metadata": {
        "colab": {
          "base_uri": "https://localhost:8080/"
        },
        "id": "Jxi6LX-rQkm7",
        "outputId": "cfe0b57b-f2e4-4992-d93f-cb72e2373451"
      },
      "execution_count": null,
      "outputs": [
        {
          "output_type": "stream",
          "name": "stdout",
          "text": [
            "I ate 2 apples \n",
            "I ate five apples \n",
            "I ate 3 apples \n"
          ]
        }
      ]
    },
    {
      "cell_type": "code",
      "source": [
        "# 2개 이상 넣기 - 같은 변수를 사용하면 아래에 다시 썼을때 그걸로 덮어씌워진다\n",
        "\n",
        "day = \"five\"\n",
        "print(\"I ate {0} apples, so I was sick {1} days\".format(num, day))\n",
        "\n",
        "\n",
        "\n",
        "# 그냥 한번에 이름을 부르는 것\n",
        "\n",
        "print(\"I ate {num} apples, so I was sick {day} days\".format(num=10, day=\"one\"))\n",
        "print(\"I ate {num} apples, so I was sick {day} days\".format(day=10, num=\"one\"))"
      ],
      "metadata": {
        "colab": {
          "base_uri": "https://localhost:8080/"
        },
        "id": "yQoYy9n8Q9Os",
        "outputId": "9a48dbb0-9ca8-4394-dd8f-bfab8fa96e03"
      },
      "execution_count": null,
      "outputs": [
        {
          "output_type": "stream",
          "name": "stdout",
          "text": [
            "I ate 3 apples, so I was sick five days\n",
            "I ate 10 apples, so I was sick one days\n",
            "I ate one apples, so I was sick 10 days\n"
          ]
        }
      ]
    },
    {
      "cell_type": "markdown",
      "source": [
        "## 정렬 기호 사용\n",
        "  ```{0: 정렬 기준 크기}.format(문자)```"
      ],
      "metadata": {
        "id": "lflvyBErSYZJ"
      }
    },
    {
      "cell_type": "code",
      "source": [
        "# 정렬 기호 사용\n",
        "\n",
        "print(\"{0:<10}\".format(\"hi\")) # 왼쪽 정렬\n",
        "print(\"{0:>10}\".format(\"hi\")) # 오른쪽 정렬\n",
        "print(\"{0:^10}\".format(\"hi\")) # 가운데정렬"
      ],
      "metadata": {
        "colab": {
          "base_uri": "https://localhost:8080/"
        },
        "id": "EvJZT3NjR0to",
        "outputId": "e861fcad-caad-4c12-9917-da0b31ad277a"
      },
      "execution_count": null,
      "outputs": [
        {
          "output_type": "stream",
          "name": "stdout",
          "text": [
            "hi        \n",
            "        hi\n",
            "    hi    \n"
          ]
        }
      ]
    },
    {
      "cell_type": "code",
      "source": [
        "# 공백 채우기 (구분자 기호 사용)\n",
        "\n",
        "print(\"{0:=^10}\".format(\" hi \")) # 가운데 정렬하고 기호 넣기\n",
        "print(\"{0:-^10}\".format(\" hi \")) # 가운데 정렬하고 기호 넣기\n",
        "print(\"{0:>>10}\".format(\" hi\")) # 가운데 정렬하고 기호 넣기"
      ],
      "metadata": {
        "colab": {
          "base_uri": "https://localhost:8080/"
        },
        "id": "QV-x05BMSqud",
        "outputId": "00866c29-274d-4172-9518-7476c751e877"
      },
      "execution_count": null,
      "outputs": [
        {
          "output_type": "stream",
          "name": "stdout",
          "text": [
            "=== hi ===\n",
            "--- hi ---\n",
            ">>>>>>> hi\n"
          ]
        }
      ]
    },
    {
      "cell_type": "code",
      "source": [
        "# f-String Foramt\n",
        "\n",
        "name = \"seoyeon\"\n",
        "age = 25\n",
        "print(f\"나의 이름은 {name}, 나이는 {age} 에요!\")\n",
        "print(f\"{name} 은 내년에 {age+1} 세 입니다!\")"
      ],
      "metadata": {
        "colab": {
          "base_uri": "https://localhost:8080/"
        },
        "id": "_p0mUhkNS-qN",
        "outputId": "2e0a352d-172a-4371-a131-0a6132099b6e"
      },
      "execution_count": null,
      "outputs": [
        {
          "output_type": "stream",
          "name": "stdout",
          "text": [
            "나의 이름은 seoyeon, 나이는 25 에요!\n",
            "seoyeon 은 내년에 26 세 입니다!\n"
          ]
        }
      ]
    },
    {
      "cell_type": "markdown",
      "source": [
        "## 문자열에 쓰이는 함수들"
      ],
      "metadata": {
        "id": "lhWm0-XETdg_"
      }
    },
    {
      "cell_type": "code",
      "source": [
        "# 문자 개수 세기\n",
        "\n",
        "h = 'hobby'\n",
        "print(h.count('b')); # count는 a에 속한다 > 그 안에 속해있으면 점찍는다~ // python 문자열 함수 자동상속"
      ],
      "metadata": {
        "colab": {
          "base_uri": "https://localhost:8080/"
        },
        "id": "mD1Ky0zaT0o4",
        "outputId": "9d2cc306-0b1d-4d07-f0b3-181e7bdbd727"
      },
      "execution_count": null,
      "outputs": [
        {
          "output_type": "stream",
          "name": "stdout",
          "text": [
            "2\n"
          ]
        }
      ]
    },
    {
      "cell_type": "code",
      "source": [
        "# 문자열 조합\n",
        "\n",
        "print(\",\".join(h)) # 문자 하나하나마다 사이에 컴마 추가\n",
        "print(type(h)) # <class 'str'> 라고 출력된다!"
      ],
      "metadata": {
        "colab": {
          "base_uri": "https://localhost:8080/"
        },
        "id": "__SN9kqoT87h",
        "outputId": "7c2b5a10-9999-4624-a251-ebb3e9a69540"
      },
      "execution_count": null,
      "outputs": [
        {
          "output_type": "stream",
          "name": "stdout",
          "text": [
            "h,o,b,b,y\n",
            "<class 'str'>\n"
          ]
        }
      ]
    },
    {
      "cell_type": "code",
      "source": [
        "# 위치를 찾는 Find index\n",
        "\n",
        "c = \"Python is the best choice\"\n",
        "\n",
        "print(c.find('e'))\n",
        "print(c.find('z')) # -1 (false라고 생각하면 된다)\n",
        "\n",
        "print(c.index('e'))\n",
        "# print(c.index('z')) # 없으면 프로그램 죽어버림 > 중요도에 따라 분류해보자.. 없어도 되는건 find!"
      ],
      "metadata": {
        "colab": {
          "base_uri": "https://localhost:8080/"
        },
        "id": "qxS8IFYBVMMb",
        "outputId": "04ab8e4d-cda6-4ca8-df70-4af8d0d641e9"
      },
      "execution_count": null,
      "outputs": [
        {
          "output_type": "stream",
          "name": "stdout",
          "text": [
            "12\n",
            "-1\n",
            "12\n"
          ]
        }
      ]
    },
    {
      "cell_type": "code",
      "source": [
        "# 대소문자 구분\n",
        "\n",
        "d = \"hi\"\n",
        "print(d.upper()) # d 자체가 목적이 되니까 매개변수로 무언가 받지 않는다\n",
        "\n",
        "D = \"HI\"\n",
        "print(D.lower()) # 호출한 결과를 이어서 만들 수 있다"
      ],
      "metadata": {
        "colab": {
          "base_uri": "https://localhost:8080/"
        },
        "id": "vg1DkD8gVXCd",
        "outputId": "13021bc6-13a1-4c28-981d-75406ea8f079"
      },
      "execution_count": null,
      "outputs": [
        {
          "output_type": "stream",
          "name": "stdout",
          "text": [
            "HI\n",
            "hi\n"
          ]
        }
      ]
    },
    {
      "cell_type": "code",
      "source": [
        "# 공백 지우기\n",
        "\n",
        "spc = \"   hello    \"\n",
        "print(spc.lstrip()) # 왼쪽 공백 지우기\n",
        "print(spc.rstrip()) # 왼쪽 공백 지우기\n",
        "\n",
        "print(spc.rstrip().lstrip()) # 양쪽 공백 지우기 1\n",
        "print(spc.strip()) # 양쪽 공백 지우기 2"
      ],
      "metadata": {
        "colab": {
          "base_uri": "https://localhost:8080/"
        },
        "id": "Sz_9OTclWl46",
        "outputId": "5421ef52-b897-499b-ce26-0c0b199186d4"
      },
      "execution_count": null,
      "outputs": [
        {
          "output_type": "stream",
          "name": "stdout",
          "text": [
            "hello    \n",
            "   hello\n",
            "hello\n",
            "hello\n"
          ]
        }
      ]
    },
    {
      "cell_type": "code",
      "source": [
        "# 문자열 바꾸기\n",
        "\n",
        "sc = \"Life is too short\"\n",
        "print(sc.replace(\"Life\", \"Your leg\"))\n",
        "print(sc)"
      ],
      "metadata": {
        "colab": {
          "base_uri": "https://localhost:8080/"
        },
        "id": "UIoZGIwlXaRE",
        "outputId": "1c8b8c3a-71aa-479e-d70d-3fdf8d68d72f"
      },
      "execution_count": null,
      "outputs": [
        {
          "output_type": "stream",
          "name": "stdout",
          "text": [
            "Your leg is too short\n",
            "Life is too short\n"
          ]
        }
      ]
    },
    {
      "cell_type": "code",
      "source": [
        "# String 쪼개기(나누기)\n",
        "\n",
        "print(sc.split()) # 공백 기준 [] 나온다 - List 자료형\n",
        "\n",
        "sc3 = \"a:b:c:-d\"\n",
        "\n",
        "sc3.split(\":\")\n",
        "print(sc3.split(\"-\")) # 구분자는 포함되지 않고 출력되었을 때 생략된다\n",
        "print(sc3.split(\":\"))"
      ],
      "metadata": {
        "colab": {
          "base_uri": "https://localhost:8080/"
        },
        "id": "6_TC6pmqYPWV",
        "outputId": "2baf3e1f-af10-4b32-ffaf-d856ec926b16"
      },
      "execution_count": null,
      "outputs": [
        {
          "output_type": "stream",
          "name": "stdout",
          "text": [
            "['Life', 'is', 'too', 'short']\n",
            "['a:b:c:', 'd']\n",
            "['a', 'b', 'c', '-d']\n"
          ]
        }
      ]
    },
    {
      "cell_type": "markdown",
      "source": [
        "- White Space  : 흰색 문자는 화면에서 안보임\n",
        "\n",
        "  Ex : 스페이스바, 탭키, 엔터\n",
        "\n",
        "  참고로 CSV 파일은 \",\" 로 많이 구분된다\n",
        "  \n",
        "  이건 인공지능 분야에서 데이터로 많이 쓰이니까 그냥 알아두자!"
      ],
      "metadata": {
        "id": "rhgXQtTxYrZ-"
      }
    },
    {
      "cell_type": "code",
      "source": [],
      "metadata": {
        "id": "g0yGV_SrY69-"
      },
      "execution_count": null,
      "outputs": []
    }
  ]
}