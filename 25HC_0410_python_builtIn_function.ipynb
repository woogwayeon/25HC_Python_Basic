{
  "nbformat": 4,
  "nbformat_minor": 0,
  "metadata": {
    "colab": {
      "provenance": [],
      "toc_visible": true,
      "authorship_tag": "ABX9TyNopxe4bpRRovghIgCE6AJp",
      "include_colab_link": true
    },
    "kernelspec": {
      "name": "python3",
      "display_name": "Python 3"
    },
    "language_info": {
      "name": "python"
    }
  },
  "cells": [
    {
      "cell_type": "markdown",
      "metadata": {
        "id": "view-in-github",
        "colab_type": "text"
      },
      "source": [
        "<a href=\"https://colab.research.google.com/github/woogwayeon/25HC_Python_Basic/blob/master/25HC_0410_python_builtIn_function.ipynb\" target=\"_parent\"><img src=\"https://colab.research.google.com/assets/colab-badge.svg\" alt=\"Open In Colab\"/></a>"
      ]
    },
    {
      "cell_type": "markdown",
      "source": [
        "# Python 내장함수\n",
        "\n",
        "    내장함수는 유용해서 파이선에서 제공하는 함수라고 생각하면 된다!"
      ],
      "metadata": {
        "id": "tAvCy1X7iFEc"
      }
    },
    {
      "cell_type": "code",
      "source": [
        "# abs() - 절대값\n",
        "print(abs(3))\n",
        "print(abs(-3))"
      ],
      "metadata": {
        "colab": {
          "base_uri": "https://localhost:8080/"
        },
        "id": "-bXH0SxHiRCp",
        "outputId": "200f9941-b027-4ed4-ecc7-32126e854c84"
      },
      "execution_count": null,
      "outputs": [
        {
          "output_type": "stream",
          "name": "stdout",
          "text": [
            "3\n",
            "3\n"
          ]
        }
      ]
    },
    {
      "cell_type": "code",
      "source": [
        "# all() - 0이 포함되면 FALSE, 아니면 무조건 TRUE\n",
        "print(all([1,2,3]))\n",
        "print(all([1,2,0]))"
      ],
      "metadata": {
        "colab": {
          "base_uri": "https://localhost:8080/"
        },
        "id": "feb8mPPjiYHS",
        "outputId": "5a46d678-8903-4022-c1f3-2d025194e786"
      },
      "execution_count": null,
      "outputs": [
        {
          "output_type": "stream",
          "name": "stdout",
          "text": [
            "True\n",
            "False\n"
          ]
        }
      ]
    },
    {
      "cell_type": "code",
      "source": [
        "# any() - 여러개 중에 하나라도 참이면  TRUE\n",
        "print(any([1,2,3,0]))\n",
        "print(any([0,0,0,1]))\n",
        "print(any([1,2,3,1]))\n",
        "print(any([0,0,0,0]))"
      ],
      "metadata": {
        "colab": {
          "base_uri": "https://localhost:8080/"
        },
        "id": "vqD8mbuRi1xp",
        "outputId": "366be409-309e-476d-931c-ee4e1c493287"
      },
      "execution_count": null,
      "outputs": [
        {
          "output_type": "stream",
          "name": "stdout",
          "text": [
            "True\n",
            "True\n",
            "True\n",
            "False\n"
          ]
        }
      ]
    },
    {
      "cell_type": "code",
      "source": [
        "# chr - 유니코드 값을 입력받아 문자로 바꿔줌\n",
        "# 참고 : 아스키코드값에서 32를 더하거나 빼면 대문자 소문자 왔다갔다가 가능하다\n",
        "print(chr(10))\n",
        "print(chr(66))\n",
        "print(chr(65))"
      ],
      "metadata": {
        "colab": {
          "base_uri": "https://localhost:8080/"
        },
        "id": "hNV7j8hki3aw",
        "outputId": "232710c7-6ae5-4713-b5e4-2fd69143ecde"
      },
      "execution_count": null,
      "outputs": [
        {
          "output_type": "stream",
          "name": "stdout",
          "text": [
            "\n",
            "\n",
            "B\n",
            "A\n"
          ]
        }
      ]
    },
    {
      "cell_type": "code",
      "source": [
        "# dir() - 객체가 지닌 변수나 함수를 보여줌\n",
        "a = [1,2,3]  # 리스트\n",
        "print(dir(a))\n",
        "\n",
        "b = {'1':'a'}\n",
        "print(dir(b))\n",
        "\n",
        "print(dir(2)) # 정수에서 쓸 수 있는 속성들 // conjugate (복소수)"
      ],
      "metadata": {
        "colab": {
          "base_uri": "https://localhost:8080/"
        },
        "id": "kCKiAsZLjF8o",
        "outputId": "38759c48-e55a-4927-b9b9-a4278fe4cfc3"
      },
      "execution_count": null,
      "outputs": [
        {
          "output_type": "stream",
          "name": "stdout",
          "text": [
            "['__add__', '__class__', '__class_getitem__', '__contains__', '__delattr__', '__delitem__', '__dir__', '__doc__', '__eq__', '__format__', '__ge__', '__getattribute__', '__getitem__', '__getstate__', '__gt__', '__hash__', '__iadd__', '__imul__', '__init__', '__init_subclass__', '__iter__', '__le__', '__len__', '__lt__', '__mul__', '__ne__', '__new__', '__reduce__', '__reduce_ex__', '__repr__', '__reversed__', '__rmul__', '__setattr__', '__setitem__', '__sizeof__', '__str__', '__subclasshook__', 'append', 'clear', 'copy', 'count', 'extend', 'index', 'insert', 'pop', 'remove', 'reverse', 'sort']\n",
            "['__class__', '__class_getitem__', '__contains__', '__delattr__', '__delitem__', '__dir__', '__doc__', '__eq__', '__format__', '__ge__', '__getattribute__', '__getitem__', '__getstate__', '__gt__', '__hash__', '__init__', '__init_subclass__', '__ior__', '__iter__', '__le__', '__len__', '__lt__', '__ne__', '__new__', '__or__', '__reduce__', '__reduce_ex__', '__repr__', '__reversed__', '__ror__', '__setattr__', '__setitem__', '__sizeof__', '__str__', '__subclasshook__', 'clear', 'copy', 'fromkeys', 'get', 'items', 'keys', 'pop', 'popitem', 'setdefault', 'update', 'values']\n",
            "['__abs__', '__add__', '__and__', '__bool__', '__ceil__', '__class__', '__delattr__', '__dir__', '__divmod__', '__doc__', '__eq__', '__float__', '__floor__', '__floordiv__', '__format__', '__ge__', '__getattribute__', '__getnewargs__', '__getstate__', '__gt__', '__hash__', '__index__', '__init__', '__init_subclass__', '__int__', '__invert__', '__le__', '__lshift__', '__lt__', '__mod__', '__mul__', '__ne__', '__neg__', '__new__', '__or__', '__pos__', '__pow__', '__radd__', '__rand__', '__rdivmod__', '__reduce__', '__reduce_ex__', '__repr__', '__rfloordiv__', '__rlshift__', '__rmod__', '__rmul__', '__ror__', '__round__', '__rpow__', '__rrshift__', '__rshift__', '__rsub__', '__rtruediv__', '__rxor__', '__setattr__', '__sizeof__', '__str__', '__sub__', '__subclasshook__', '__truediv__', '__trunc__', '__xor__', 'as_integer_ratio', 'bit_count', 'bit_length', 'conjugate', 'denominator', 'from_bytes', 'imag', 'numerator', 'real', 'to_bytes']\n"
          ]
        }
      ]
    },
    {
      "cell_type": "code",
      "source": [
        "# enumerate() - [ 열거하다 ]라는 뜻, 순서가 있는 데이터를 입력받아 인덱스 값을 포함하는 enumerate 객체를 리턴한다\n",
        "enum = ['a', 'b', 'c']\n",
        "\n",
        "for i in a:\n",
        "    print(i)\n",
        "print(\"==============================================\")\n",
        "\n",
        "# 상대적 위치를 알려준다 // 그래서 인자를 두개 준비해줘야 하고, 하나만 주면 튜플로 나옴\n",
        "for j,k in enumerate(enum):\n",
        "    print(f\"[ {j} ]번째 값은 [ {k} ]입니다\")\n",
        "\n",
        "print(\"==============================================\")\n",
        "for i in enumerate(enum):\n",
        "    print(i)"
      ],
      "metadata": {
        "colab": {
          "base_uri": "https://localhost:8080/"
        },
        "id": "jQMZg63Wjg8X",
        "outputId": "68438954-3eca-404c-bbaf-8f08bc726f33"
      },
      "execution_count": null,
      "outputs": [
        {
          "output_type": "stream",
          "name": "stdout",
          "text": [
            "1\n",
            "+\n",
            "2\n",
            "==============================================\n",
            "[ 0 ]번째 값은 [ a ]입니다\n",
            "[ 1 ]번째 값은 [ b ]입니다\n",
            "[ 2 ]번째 값은 [ c ]입니다\n",
            "==============================================\n",
            "(0, 'a')\n",
            "(1, 'b')\n",
            "(2, 'c')\n"
          ]
        }
      ]
    },
    {
      "cell_type": "code",
      "source": [
        "# eval(expression) - 문자열로 구성된 표현식(expression)을 입력으로 받아 해당 문자열을 실행한 결괏값을 리턴\n",
        "# evaluate > value 를 도출한다!\n",
        "a = \"1+2\"\n",
        "eval(a) # 자동으로 형변환해서 결과를 도출해냄"
      ],
      "metadata": {
        "colab": {
          "base_uri": "https://localhost:8080/"
        },
        "id": "IggpK6FJmLE4",
        "outputId": "efc747d9-bb86-4a14-e542-8aecb349bcaf"
      },
      "execution_count": null,
      "outputs": [
        {
          "output_type": "execute_result",
          "data": {
            "text/plain": [
              "3"
            ]
          },
          "metadata": {},
          "execution_count": 30
        }
      ]
    },
    {
      "cell_type": "code",
      "source": [
        "# filter(f, iterable) - 조건에 맞는것만 걸러냄\n",
        "def positive(p):\n",
        "    # 판정 결과 TRUE, FALSE로 알려줌\n",
        "    return p > 0\n",
        "\n",
        "myList = [1, -3, 2, -5, 0, 2, 6, 7]\n",
        "\n",
        "print(list(filter(positive, myList))) # 안쪽부터 보자\n",
        "\n",
        "# Lamda를 사용해서 간단하게 작성 가능\n",
        "print(list(filter(lambda p : p > 0, myList))) # lambda p : p > 0 이렇게 이름없는 함수를 만들어서 넣어봄"
      ],
      "metadata": {
        "colab": {
          "base_uri": "https://localhost:8080/"
        },
        "id": "zK46PvSZnZkJ",
        "outputId": "e229db4d-0a33-4d5c-b9aa-c6950a49bdfb"
      },
      "execution_count": null,
      "outputs": [
        {
          "output_type": "stream",
          "name": "stdout",
          "text": [
            "[1, 2, 2, 6, 7]\n",
            "[1, 2, 2, 6, 7]\n"
          ]
        }
      ]
    },
    {
      "cell_type": "code",
      "source": [
        "# filter Example\n",
        "\n",
        "# 01 - 짝수만 걸러내기\n",
        "nums = [1,2,3,4,5,6]\n",
        "evens = list(filter(lambda even : even%2 == 0, nums))\n",
        "print(\"예제 01\")\n",
        "print(f\"{evens}\\n\")\n",
        "\n",
        "# 02 - 알파벳이 5개 이상인 단어 필터링\n",
        "words = [\"hi\", \"seoyeon\", \"hello\", \"apple\", \"sora\", \"hand\", \"cream\"]\n",
        "over_alp = list(filter(lambda alp : len(alp) >= 5, words))\n",
        "print(\"예제 02\")\n",
        "print(f\"{over_alp}\\n\")\n",
        "\n",
        "# 03 - None 제거하기\n",
        "data = [0, 1, \"\", \"hi\", \" \", None, [], [1,2,3]]\n",
        "del_none = list(filter(None, data))\n",
        "print(\"예제 03\")\n",
        "print(f\"{del_none}\\n\")\n",
        "\n",
        "# 04 - 홀수만 골라내기 (함수 정의해서)\n",
        "def is_odd(n):\n",
        "    return n%2 == 1\n",
        "\n",
        "nums2 = [1,2,3,4,5,6,7,8,9]\n",
        "\n",
        "odds = list(filter(is_odd, nums2))\n",
        "print(\"예제 04\")\n",
        "print(f\"{odds}\\n\")"
      ],
      "metadata": {
        "colab": {
          "base_uri": "https://localhost:8080/"
        },
        "id": "nGrROdwape0Y",
        "outputId": "dfa99795-d4ac-485c-ce9a-958de44f299f"
      },
      "execution_count": null,
      "outputs": [
        {
          "output_type": "stream",
          "name": "stdout",
          "text": [
            "예제 01\n",
            "[2, 4, 6]\n",
            "\n",
            "예제 02\n",
            "['seoyeon', 'hello', 'apple', 'cream']\n",
            "\n",
            "예제 03\n",
            "[1, 'hi', ' ', [1, 2, 3]]\n",
            "\n",
            "예제 04\n",
            "[1, 3, 5, 7, 9]\n",
            "\n"
          ]
        }
      ]
    },
    {
      "cell_type": "code",
      "source": [
        "# hex() - 16진수 \"문자열로 리턴\"\n",
        "print(hex(12))"
      ],
      "metadata": {
        "colab": {
          "base_uri": "https://localhost:8080/"
        },
        "id": "U-kaKPeZsXUf",
        "outputId": "acb600e1-de79-483b-a514-920f4ebd7d7e"
      },
      "execution_count": null,
      "outputs": [
        {
          "output_type": "stream",
          "name": "stdout",
          "text": [
            "0xc\n"
          ]
        }
      ]
    },
    {
      "cell_type": "code",
      "source": [
        "# id() - 객체를 입력받아서 고유 주소값을 리턴해준다 // 포인터의 역할! 즉 주소연산자(&)\n",
        "\n",
        "a = [1,2,3,4]\n",
        "print(id(a))"
      ],
      "metadata": {
        "colab": {
          "base_uri": "https://localhost:8080/"
        },
        "id": "Wl9XpG2uv_Gl",
        "outputId": "b0b1014f-944f-4eee-dbb0-6360599370fe"
      },
      "execution_count": null,
      "outputs": [
        {
          "output_type": "stream",
          "name": "stdout",
          "text": [
            "138124334200320\n"
          ]
        }
      ]
    },
    {
      "cell_type": "code",
      "source": [
        "# input([prompt]) - 사용자 입력받는 함수 ㅎㅎ 문자열 입력받으면 문자열 프롬프트 생성\n",
        "a = input()\n",
        "print(a)"
      ],
      "metadata": {
        "colab": {
          "base_uri": "https://localhost:8080/"
        },
        "id": "TNpa78DbwI3e",
        "outputId": "b47a8f72-acf6-415c-9c20-ed5925693b51"
      },
      "execution_count": null,
      "outputs": [
        {
          "output_type": "stream",
          "name": "stdout",
          "text": [
            "adfsf\n",
            "adfsf\n"
          ]
        }
      ]
    },
    {
      "cell_type": "code",
      "source": [
        "# int() - 캐스팅해준다\n",
        "print(int(2.9))\n",
        "\n",
        "#  radix 진수로 표현된 문자열x 를 10진수로 변환하여 리턴\n",
        "a = '17'\n",
        "int(a, 16)"
      ],
      "metadata": {
        "colab": {
          "base_uri": "https://localhost:8080/"
        },
        "id": "cTfj-bXlxZOO",
        "outputId": "5e0afc59-f0a7-4b43-aab4-d14d989bdfe9"
      },
      "execution_count": null,
      "outputs": [
        {
          "output_type": "stream",
          "name": "stdout",
          "text": [
            "2\n"
          ]
        },
        {
          "output_type": "execute_result",
          "data": {
            "text/plain": [
              "23"
            ]
          },
          "metadata": {},
          "execution_count": 43
        }
      ]
    }
  ]
}